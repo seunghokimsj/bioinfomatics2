{
  "nbformat": 4,
  "nbformat_minor": 0,
  "metadata": {
    "colab": {
      "provenance": [],
      "include_colab_link": true
    },
    "kernelspec": {
      "name": "python3",
      "display_name": "Python 3"
    },
    "language_info": {
      "name": "python"
    }
  },
  "cells": [
    {
      "cell_type": "markdown",
      "metadata": {
        "id": "view-in-github",
        "colab_type": "text"
      },
      "source": [
        "<a href=\"https://colab.research.google.com/github/seunghokimsj/bioinfomatics2/blob/main/_____Pandas__.ipynb\" target=\"_parent\"><img src=\"https://colab.research.google.com/assets/colab-badge.svg\" alt=\"Open In Colab\"/></a>"
      ]
    },
    {
      "cell_type": "markdown",
      "source": [],
      "metadata": {
        "id": "tk6VhH-NSNNI"
      }
    },
    {
      "cell_type": "markdown",
      "source": [
        "\n",
        "\n",
        "1.   **판다스란?**\n",
        "\n",
        "2.   **Pandas import**\n",
        "\n",
        "3.   **Series vs DataFrame**\n",
        "\n",
        "4.   **Series 요약**\n",
        "\n",
        "5.   **DataFrame 생성**\n",
        "\n",
        "6.   **DataFrame 데이터 확인**\n",
        "\n",
        "7.   **DataFrame 데이터 정렬**\n",
        "\n",
        "8.   **DataFrame 데이터 선택**\n",
        "\n",
        "9.   **DataFrame 데이터 생성**\n",
        "\n",
        "10.  **DataFrame 데이터 변경**\n",
        "\n",
        "11.  **DataFrame 데이터 결합**\n",
        "\n"
      ],
      "metadata": {
        "id": "qiJzLcUJSPhA"
      }
    },
    {
      "cell_type": "markdown",
      "source": [
        "ㅤ"
      ],
      "metadata": {
        "id": "9ZigVtQcnTDF"
      }
    },
    {
      "cell_type": "markdown",
      "source": [
        "\n",
        "\n",
        "---\n",
        "\n"
      ],
      "metadata": {
        "id": "3t0J_7BRnTqy"
      }
    },
    {
      "cell_type": "markdown",
      "source": [
        "## **1. 판다스란?**"
      ],
      "metadata": {
        "id": "phdnyWarCZwE"
      }
    },
    {
      "cell_type": "markdown",
      "source": [
        "**행(Row) X 열(Column)**로 구성된 **2차원 데이터 객체**를 다루는 데이터 분석 라이브러리로, 대용량의 데이터들을 처리하는데 매우 편리한 도구입니다.\n"
      ],
      "metadata": {
        "id": "3BZ2Bm4OCuGY"
      }
    },
    {
      "cell_type": "markdown",
      "source": [
        "ㅤ"
      ],
      "metadata": {
        "id": "Anm2zpkhD4-t"
      }
    },
    {
      "cell_type": "markdown",
      "source": [
        "**[Numpy와 차이점?]**\n",
        "\n",
        "\n"
      ],
      "metadata": {
        "id": "3SBtb9-BDYGh"
      }
    },
    {
      "cell_type": "markdown",
      "source": [
        "Pandas는 Numpy를 기반으로 작성되지만 훨씬 더 **유연하고 편리하게 데이터 핸들링**이 가능합니다.\n",
        "\n",
        "또한 저수준 API를 제공하는 Numpy와 달리 **고수준 API** 제공하는 라이브러리입니다."
      ],
      "metadata": {
        "id": "0FpObmO6K16n"
      }
    },
    {
      "cell_type": "markdown",
      "source": [
        "> API : Application Programming Interface의 약자로, **응용 프로그램 프로그래밍 인터페이스**이다. 컴퓨터나 컴퓨터 프로그램 사이의 연결이며, 일종의 소프트웨어 인터페이스이다. 다른 종류의 소프트웨어에 서비스를 제공한다.\n",
        "\n",
        "\n",
        "\n",
        "\n",
        "\n",
        "\n"
      ],
      "metadata": {
        "id": "UL6u-mrVD3wq"
      }
    },
    {
      "cell_type": "markdown",
      "source": [
        "ㅤ"
      ],
      "metadata": {
        "id": "w9jjVOmoEivl"
      }
    },
    {
      "cell_type": "markdown",
      "source": [
        "## **2. Pandas import**\n"
      ],
      "metadata": {
        "id": "D4bULCg1Ei5S"
      }
    },
    {
      "cell_type": "markdown",
      "source": [
        "\n",
        "\n",
        "*   Pandas를 사용하기 위해서는 **모듈을 import** 해야 합니다.\n",
        "\n",
        "*   주로 간결성을 위해 **pd**라는 축약된 이름으로 사용하는 것이 관례입니다.\n",
        "\n",
        "*   Pandas와 Numpy는 같이 쓰이는 경우가 많기 때문에 주로 같이 import 합니다.\n",
        "\n",
        "\n",
        "\n",
        "\n",
        "\n",
        "\n",
        "\n",
        "\n",
        "\n"
      ],
      "metadata": {
        "id": "cHYtBeK0ErvX"
      }
    },
    {
      "cell_type": "code",
      "source": [
        "import numpy as np\n",
        "import pandas as pd"
      ],
      "metadata": {
        "id": "J8PyrAdsu8u7"
      },
      "execution_count": 1,
      "outputs": []
    },
    {
      "cell_type": "markdown",
      "source": [
        "ㅤ"
      ],
      "metadata": {
        "id": "larPIwULKvhE"
      }
    },
    {
      "cell_type": "markdown",
      "source": [
        "## **3. Series vs Dataframe**"
      ],
      "metadata": {
        "id": "4rCEaGslFWLA"
      }
    },
    {
      "cell_type": "markdown",
      "source": [
        "\n",
        "\n",
        "\n",
        "*   Series : **1차원 배열의 형태**를 가지며 **인덱스**(index. 값이 위치하고 있는 정보)라는 한 가지 기준(행)에 의해 데이터가 저장됩니다.\n",
        "</br> </br>\n",
        "\n",
        "*   Dataframe : **2차원 배열의 형태**를 가지며 **인덱스와 칼럼**이라는 두 가지 기준(행X열)에 의해 표 형태처럼 데이터가 저장됩니다.\n",
        "\n",
        "\n",
        "\n"
      ],
      "metadata": {
        "id": "q80rQI2zFdil"
      }
    },
    {
      "cell_type": "markdown",
      "source": [
        "ㅤ"
      ],
      "metadata": {
        "id": "U5EO4zGkHK10"
      }
    },
    {
      "cell_type": "markdown",
      "source": [
        "## **4. Series 요약**"
      ],
      "metadata": {
        "id": "U7FsTQVTN-Ce"
      }
    },
    {
      "cell_type": "markdown",
      "source": [
        "\n",
        "### **1) Series 정의하기**\n",
        "\n",
        "\n",
        "\n",
        "\n",
        "\n"
      ],
      "metadata": {
        "id": "xPMPGnpSHWLA"
      }
    },
    {
      "cell_type": "markdown",
      "source": [
        "*   변수명 = pd.Series([값])"
      ],
      "metadata": {
        "id": "_lHgLR5EJRF-"
      }
    },
    {
      "cell_type": "code",
      "source": [
        "#Series 정의하기\n",
        "sr = pd.Series([1,3,-3,-1,5])\n",
        "sr"
      ],
      "metadata": {
        "colab": {
          "base_uri": "https://localhost:8080/"
        },
        "id": "htEbTP9hvclL",
        "outputId": "584fcda3-244f-4068-a9d8-979f6c2fdcce"
      },
      "execution_count": 2,
      "outputs": [
        {
          "output_type": "execute_result",
          "data": {
            "text/plain": [
              "0    1\n",
              "1    3\n",
              "2   -3\n",
              "3   -1\n",
              "4    5\n",
              "dtype: int64"
            ]
          },
          "metadata": {},
          "execution_count": 2
        }
      ]
    },
    {
      "cell_type": "markdown",
      "source": [
        "ㅤ"
      ],
      "metadata": {
        "id": "bXHhK3R9IzRh"
      }
    },
    {
      "cell_type": "markdown",
      "source": [
        "\n",
        "\n",
        "### **2) Series에 있는 자료 확인하기**\n",
        "\n",
        "\n",
        "\n",
        "\n",
        "\n",
        "\n",
        "\n"
      ],
      "metadata": {
        "id": "BjiZ4rwmHjhi"
      }
    },
    {
      "cell_type": "markdown",
      "source": [
        "*   값 확인 : 변수명.values\n",
        "\n",
        "*   인덱스 확인 : 변수명.index\n",
        "\n",
        "*   자료형 확인 : 변수명.dtypes\n"
      ],
      "metadata": {
        "id": "qnhGn07QJfXX"
      }
    },
    {
      "cell_type": "markdown",
      "source": [
        "ㅤ"
      ],
      "metadata": {
        "id": "OyaXOL9mIyPi"
      }
    },
    {
      "cell_type": "code",
      "source": [
        "sr.values\n",
        "sr.index\n",
        "sr.dtypes"
      ],
      "metadata": {
        "colab": {
          "base_uri": "https://localhost:8080/"
        },
        "id": "da1qTwmIv3Xr",
        "outputId": "16987f77-033b-4506-bf6c-6123e3f7f5b6"
      },
      "execution_count": 4,
      "outputs": [
        {
          "output_type": "execute_result",
          "data": {
            "text/plain": [
              "dtype('int64')"
            ]
          },
          "metadata": {},
          "execution_count": 4
        }
      ]
    },
    {
      "cell_type": "markdown",
      "source": [
        "### **3) 인덱스 변경하기**\n",
        "\n",
        "\n"
      ],
      "metadata": {
        "id": "bMmNzCfiI0Au"
      }
    },
    {
      "cell_type": "markdown",
      "source": [
        "인덱스의 이름을 원하는 숫자나 문자로 변경할 수 있습니다.\n",
        "</br></br>\n",
        "\n",
        "*   첫 번째 방법 : pd.Series([값], index=[인덱스명])\n",
        "\n",
        "    Series를 인덱스명을 따로 지정하여 다시 정의를 내립니다.\n",
        "    </br> </br>\n",
        "\n",
        "*   두 번째 방법 : 변수명.index = [인덱스명]\n",
        "    \n",
        "    직접적으로 변수의 인덱스를 지정합니다."
      ],
      "metadata": {
        "id": "xdJ5G-ImLWkX"
      }
    },
    {
      "cell_type": "code",
      "source": [
        "sr = pd.Series([1,3,-3,-1,5],index=['a','b','c','d','e'])\n",
        "sr"
      ],
      "metadata": {
        "colab": {
          "base_uri": "https://localhost:8080/"
        },
        "id": "HMKc8YEewIAz",
        "outputId": "1b322586-135d-4078-888c-e27e132677b6"
      },
      "execution_count": 7,
      "outputs": [
        {
          "output_type": "execute_result",
          "data": {
            "text/plain": [
              "a    1\n",
              "b    3\n",
              "c   -3\n",
              "d   -1\n",
              "e    5\n",
              "dtype: int64"
            ]
          },
          "metadata": {},
          "execution_count": 7
        }
      ]
    },
    {
      "cell_type": "markdown",
      "source": [
        "ㅤ"
      ],
      "metadata": {
        "id": "dPkGPCQmKyMf"
      }
    },
    {
      "cell_type": "code",
      "source": [
        "sr.index =['f','g','h','i','j']\n",
        "sr"
      ],
      "metadata": {
        "colab": {
          "base_uri": "https://localhost:8080/"
        },
        "id": "Inpa9BHgwnJL",
        "outputId": "fbb0331e-b43f-412a-b4ee-ddb43eb24079"
      },
      "execution_count": 9,
      "outputs": [
        {
          "output_type": "execute_result",
          "data": {
            "text/plain": [
              "f    1\n",
              "g    3\n",
              "h   -3\n",
              "i   -1\n",
              "j    5\n",
              "dtype: int64"
            ]
          },
          "metadata": {},
          "execution_count": 9
        }
      ]
    },
    {
      "cell_type": "code",
      "source": [
        "sr.index.name ='i_names'\n",
        "sr"
      ],
      "metadata": {
        "id": "MIwxyHenwu47"
      },
      "execution_count": null,
      "outputs": []
    },
    {
      "cell_type": "markdown",
      "source": [
        "### **4) Series 인덱스를 대표하는 이름을 따로 설정하기**\n",
        "\n",
        "\n",
        "\n"
      ],
      "metadata": {
        "id": "5KSEnVOhKyZO"
      }
    },
    {
      "cell_type": "markdown",
      "source": [
        "*   변수명.index.names = “인덱스 이름”"
      ],
      "metadata": {
        "id": "LRmZWWzSLeLE"
      }
    },
    {
      "cell_type": "markdown",
      "source": [
        "i_name이 인덱스 전체를 대표하는 이름으로 맨 위에 작성되어 출력됩니다."
      ],
      "metadata": {
        "id": "Orc14T9oBc3u"
      }
    },
    {
      "cell_type": "markdown",
      "source": [
        "ㅤ"
      ],
      "metadata": {
        "id": "V-O7xl4JLE2z"
      }
    },
    {
      "cell_type": "markdown",
      "source": [
        "### **5) Dictionary 자료형을 Series로 변경하기**\n"
      ],
      "metadata": {
        "id": "tWESa9uuLFCX"
      }
    },
    {
      "cell_type": "markdown",
      "source": [
        "*    dictionary 자료형을 값으로 갖는 변수를 지정한 후, 그 변수를 이용하여 Series를 정의합니다.\n",
        "\n",
        "*   이때, dictionary의 key 부분이 Series의 index에 할당됩니다.\n",
        "</br> </br>\n",
        "\n",
        "* 변수명 = {dictionary 값}\n",
        "\n",
        "  pd.Series(변수명)\n",
        "\n",
        "\n",
        "     "
      ],
      "metadata": {
        "id": "P9LZDnHKLkjN"
      }
    },
    {
      "cell_type": "markdown",
      "source": [
        "ㅤ"
      ],
      "metadata": {
        "id": "isL0k6W2MI4p"
      }
    },
    {
      "cell_type": "code",
      "source": [
        "dic = {'d':22,'a':23,'y':24,'th':25,'on':26}\n",
        "sr2 = pd.Series(dic)\n",
        "sr2"
      ],
      "metadata": {
        "colab": {
          "base_uri": "https://localhost:8080/"
        },
        "id": "kGsQkSNaxBTD",
        "outputId": "4d46a30a-91d7-4106-aa86-d466a2876b2f"
      },
      "execution_count": 10,
      "outputs": [
        {
          "output_type": "execute_result",
          "data": {
            "text/plain": [
              "d     22\n",
              "a     23\n",
              "y     24\n",
              "th    25\n",
              "on    26\n",
              "dtype: int64"
            ]
          },
          "metadata": {},
          "execution_count": 10
        }
      ]
    },
    {
      "cell_type": "markdown",
      "source": [
        "ㅤ"
      ],
      "metadata": {
        "id": "Wysm0fjifpBX"
      }
    },
    {
      "cell_type": "markdown",
      "source": [
        "## **5. DataFrame 생성**"
      ],
      "metadata": {
        "id": "aSnypLmqODeA"
      }
    },
    {
      "cell_type": "markdown",
      "source": [
        "\n",
        "### **1) DataFrame 직접 생성하기**\n",
        "\n",
        "\n",
        "\n",
        "\n"
      ],
      "metadata": {
        "id": "CEiKKN8fM2vZ"
      }
    },
    {
      "cell_type": "markdown",
      "source": [
        "pd.DataFrame 클래스 생성자를 이용하여 생성하는 방법입니다.\n",
        "</br> </br>\n",
        "\n",
        "**[numpy array 이용]**\n",
        "\n",
        " 1.   먼저 리스트를 생성합니다\n",
        " 2.   np.array()로 미리 생성한 리스트를 nparray로 바꿉니다.\n",
        " 3.   pd.DataFrame 클래스 생성자를 이용하여 Dataframe을 직접 생성합니다.\n",
        "\n",
        "      - 변수명 = pd.DataFrame(nparray, index, columns)\n",
        "      </br> </br>\n",
        "\n",
        "**[Dictionary 이용]**\n",
        "\n",
        " 1.   첫 번째 변수에 Dictionary 자료형을 갖는 데이터를 입력합니다.\n",
        "\n",
        "      - 변수명1 = dictionary 데이터 생성\n",
        "\n",
        " 2.   pd.DataFrame 클래스 생성자를 이용하여 Dataframe을 직접 생성합니다.\n",
        "\n",
        "      - 변수명2 = pd.DataFrame(변수명1)\n"
      ],
      "metadata": {
        "id": "yJOULXBeLtOV"
      }
    },
    {
      "cell_type": "code",
      "source": [
        "list1=[[1,2,3],[11,12,13]]\n",
        "arr = np.array(list1)\n",
        "df = pd.DataFrame(arr,index=['a','b'],columns=list('ABC'))"
      ],
      "metadata": {
        "id": "SMI-yIb-xmBT"
      },
      "execution_count": 11,
      "outputs": []
    },
    {
      "cell_type": "code",
      "source": [
        "df"
      ],
      "metadata": {
        "colab": {
          "base_uri": "https://localhost:8080/",
          "height": 112
        },
        "id": "6MYYL96WyKkD",
        "outputId": "58d41874-9181-4779-8d93-7def6c9b6690"
      },
      "execution_count": 12,
      "outputs": [
        {
          "output_type": "execute_result",
          "data": {
            "text/plain": [
              "    A   B   C\n",
              "a   1   2   3\n",
              "b  11  12  13"
            ],
            "text/html": [
              "\n",
              "\n",
              "  <div id=\"df-7b7d0452-7a2b-4756-a56a-1d1a65d4a7d3\">\n",
              "    <div class=\"colab-df-container\">\n",
              "      <div>\n",
              "<style scoped>\n",
              "    .dataframe tbody tr th:only-of-type {\n",
              "        vertical-align: middle;\n",
              "    }\n",
              "\n",
              "    .dataframe tbody tr th {\n",
              "        vertical-align: top;\n",
              "    }\n",
              "\n",
              "    .dataframe thead th {\n",
              "        text-align: right;\n",
              "    }\n",
              "</style>\n",
              "<table border=\"1\" class=\"dataframe\">\n",
              "  <thead>\n",
              "    <tr style=\"text-align: right;\">\n",
              "      <th></th>\n",
              "      <th>A</th>\n",
              "      <th>B</th>\n",
              "      <th>C</th>\n",
              "    </tr>\n",
              "  </thead>\n",
              "  <tbody>\n",
              "    <tr>\n",
              "      <th>a</th>\n",
              "      <td>1</td>\n",
              "      <td>2</td>\n",
              "      <td>3</td>\n",
              "    </tr>\n",
              "    <tr>\n",
              "      <th>b</th>\n",
              "      <td>11</td>\n",
              "      <td>12</td>\n",
              "      <td>13</td>\n",
              "    </tr>\n",
              "  </tbody>\n",
              "</table>\n",
              "</div>\n",
              "      <button class=\"colab-df-convert\" onclick=\"convertToInteractive('df-7b7d0452-7a2b-4756-a56a-1d1a65d4a7d3')\"\n",
              "              title=\"Convert this dataframe to an interactive table.\"\n",
              "              style=\"display:none;\">\n",
              "\n",
              "  <svg xmlns=\"http://www.w3.org/2000/svg\" height=\"24px\"viewBox=\"0 0 24 24\"\n",
              "       width=\"24px\">\n",
              "    <path d=\"M0 0h24v24H0V0z\" fill=\"none\"/>\n",
              "    <path d=\"M18.56 5.44l.94 2.06.94-2.06 2.06-.94-2.06-.94-.94-2.06-.94 2.06-2.06.94zm-11 1L8.5 8.5l.94-2.06 2.06-.94-2.06-.94L8.5 2.5l-.94 2.06-2.06.94zm10 10l.94 2.06.94-2.06 2.06-.94-2.06-.94-.94-2.06-.94 2.06-2.06.94z\"/><path d=\"M17.41 7.96l-1.37-1.37c-.4-.4-.92-.59-1.43-.59-.52 0-1.04.2-1.43.59L10.3 9.45l-7.72 7.72c-.78.78-.78 2.05 0 2.83L4 21.41c.39.39.9.59 1.41.59.51 0 1.02-.2 1.41-.59l7.78-7.78 2.81-2.81c.8-.78.8-2.07 0-2.86zM5.41 20L4 18.59l7.72-7.72 1.47 1.35L5.41 20z\"/>\n",
              "  </svg>\n",
              "      </button>\n",
              "\n",
              "\n",
              "\n",
              "    <div id=\"df-b9681ccd-ec5e-4025-8659-3e442865e646\">\n",
              "      <button class=\"colab-df-quickchart\" onclick=\"quickchart('df-b9681ccd-ec5e-4025-8659-3e442865e646')\"\n",
              "              title=\"Suggest charts.\"\n",
              "              style=\"display:none;\">\n",
              "\n",
              "<svg xmlns=\"http://www.w3.org/2000/svg\" height=\"24px\"viewBox=\"0 0 24 24\"\n",
              "     width=\"24px\">\n",
              "    <g>\n",
              "        <path d=\"M19 3H5c-1.1 0-2 .9-2 2v14c0 1.1.9 2 2 2h14c1.1 0 2-.9 2-2V5c0-1.1-.9-2-2-2zM9 17H7v-7h2v7zm4 0h-2V7h2v10zm4 0h-2v-4h2v4z\"/>\n",
              "    </g>\n",
              "</svg>\n",
              "      </button>\n",
              "    </div>\n",
              "\n",
              "<style>\n",
              "  .colab-df-quickchart {\n",
              "    background-color: #E8F0FE;\n",
              "    border: none;\n",
              "    border-radius: 50%;\n",
              "    cursor: pointer;\n",
              "    display: none;\n",
              "    fill: #1967D2;\n",
              "    height: 32px;\n",
              "    padding: 0 0 0 0;\n",
              "    width: 32px;\n",
              "  }\n",
              "\n",
              "  .colab-df-quickchart:hover {\n",
              "    background-color: #E2EBFA;\n",
              "    box-shadow: 0px 1px 2px rgba(60, 64, 67, 0.3), 0px 1px 3px 1px rgba(60, 64, 67, 0.15);\n",
              "    fill: #174EA6;\n",
              "  }\n",
              "\n",
              "  [theme=dark] .colab-df-quickchart {\n",
              "    background-color: #3B4455;\n",
              "    fill: #D2E3FC;\n",
              "  }\n",
              "\n",
              "  [theme=dark] .colab-df-quickchart:hover {\n",
              "    background-color: #434B5C;\n",
              "    box-shadow: 0px 1px 3px 1px rgba(0, 0, 0, 0.15);\n",
              "    filter: drop-shadow(0px 1px 2px rgba(0, 0, 0, 0.3));\n",
              "    fill: #FFFFFF;\n",
              "  }\n",
              "</style>\n",
              "\n",
              "    <script>\n",
              "      async function quickchart(key) {\n",
              "        const containerElement = document.querySelector('#' + key);\n",
              "        const charts = await google.colab.kernel.invokeFunction(\n",
              "            'suggestCharts', [key], {});\n",
              "      }\n",
              "    </script>\n",
              "\n",
              "      <script>\n",
              "\n",
              "function displayQuickchartButton(domScope) {\n",
              "  let quickchartButtonEl =\n",
              "    domScope.querySelector('#df-b9681ccd-ec5e-4025-8659-3e442865e646 button.colab-df-quickchart');\n",
              "  quickchartButtonEl.style.display =\n",
              "    google.colab.kernel.accessAllowed ? 'block' : 'none';\n",
              "}\n",
              "\n",
              "        displayQuickchartButton(document);\n",
              "      </script>\n",
              "      <style>\n",
              "    .colab-df-container {\n",
              "      display:flex;\n",
              "      flex-wrap:wrap;\n",
              "      gap: 12px;\n",
              "    }\n",
              "\n",
              "    .colab-df-convert {\n",
              "      background-color: #E8F0FE;\n",
              "      border: none;\n",
              "      border-radius: 50%;\n",
              "      cursor: pointer;\n",
              "      display: none;\n",
              "      fill: #1967D2;\n",
              "      height: 32px;\n",
              "      padding: 0 0 0 0;\n",
              "      width: 32px;\n",
              "    }\n",
              "\n",
              "    .colab-df-convert:hover {\n",
              "      background-color: #E2EBFA;\n",
              "      box-shadow: 0px 1px 2px rgba(60, 64, 67, 0.3), 0px 1px 3px 1px rgba(60, 64, 67, 0.15);\n",
              "      fill: #174EA6;\n",
              "    }\n",
              "\n",
              "    [theme=dark] .colab-df-convert {\n",
              "      background-color: #3B4455;\n",
              "      fill: #D2E3FC;\n",
              "    }\n",
              "\n",
              "    [theme=dark] .colab-df-convert:hover {\n",
              "      background-color: #434B5C;\n",
              "      box-shadow: 0px 1px 3px 1px rgba(0, 0, 0, 0.15);\n",
              "      filter: drop-shadow(0px 1px 2px rgba(0, 0, 0, 0.3));\n",
              "      fill: #FFFFFF;\n",
              "    }\n",
              "  </style>\n",
              "\n",
              "      <script>\n",
              "        const buttonEl =\n",
              "          document.querySelector('#df-7b7d0452-7a2b-4756-a56a-1d1a65d4a7d3 button.colab-df-convert');\n",
              "        buttonEl.style.display =\n",
              "          google.colab.kernel.accessAllowed ? 'block' : 'none';\n",
              "\n",
              "        async function convertToInteractive(key) {\n",
              "          const element = document.querySelector('#df-7b7d0452-7a2b-4756-a56a-1d1a65d4a7d3');\n",
              "          const dataTable =\n",
              "            await google.colab.kernel.invokeFunction('convertToInteractive',\n",
              "                                                     [key], {});\n",
              "          if (!dataTable) return;\n",
              "\n",
              "          const docLinkHtml = 'Like what you see? Visit the ' +\n",
              "            '<a target=\"_blank\" href=https://colab.research.google.com/notebooks/data_table.ipynb>data table notebook</a>'\n",
              "            + ' to learn more about interactive tables.';\n",
              "          element.innerHTML = '';\n",
              "          dataTable['output_type'] = 'display_data';\n",
              "          await google.colab.output.renderOutput(dataTable, element);\n",
              "          const docLink = document.createElement('div');\n",
              "          docLink.innerHTML = docLinkHtml;\n",
              "          element.appendChild(docLink);\n",
              "        }\n",
              "      </script>\n",
              "    </div>\n",
              "  </div>\n"
            ]
          },
          "metadata": {},
          "execution_count": 12
        }
      ]
    },
    {
      "cell_type": "code",
      "source": [
        "dic = {'a':[1,11],'b':[2,22],'c':[3,33]}\n",
        "df_dic = pd.DataFrame(dic)\n",
        "df_dic"
      ],
      "metadata": {
        "colab": {
          "base_uri": "https://localhost:8080/",
          "height": 112
        },
        "id": "YE9RdzWRyNXL",
        "outputId": "00702255-8288-4fbb-eee0-49a92bc8fc4d"
      },
      "execution_count": 14,
      "outputs": [
        {
          "output_type": "execute_result",
          "data": {
            "text/plain": [
              "    a   b   c\n",
              "0   1   2   3\n",
              "1  11  22  33"
            ],
            "text/html": [
              "\n",
              "\n",
              "  <div id=\"df-b9f4c77b-47da-4f01-88e0-768b2e561903\">\n",
              "    <div class=\"colab-df-container\">\n",
              "      <div>\n",
              "<style scoped>\n",
              "    .dataframe tbody tr th:only-of-type {\n",
              "        vertical-align: middle;\n",
              "    }\n",
              "\n",
              "    .dataframe tbody tr th {\n",
              "        vertical-align: top;\n",
              "    }\n",
              "\n",
              "    .dataframe thead th {\n",
              "        text-align: right;\n",
              "    }\n",
              "</style>\n",
              "<table border=\"1\" class=\"dataframe\">\n",
              "  <thead>\n",
              "    <tr style=\"text-align: right;\">\n",
              "      <th></th>\n",
              "      <th>a</th>\n",
              "      <th>b</th>\n",
              "      <th>c</th>\n",
              "    </tr>\n",
              "  </thead>\n",
              "  <tbody>\n",
              "    <tr>\n",
              "      <th>0</th>\n",
              "      <td>1</td>\n",
              "      <td>2</td>\n",
              "      <td>3</td>\n",
              "    </tr>\n",
              "    <tr>\n",
              "      <th>1</th>\n",
              "      <td>11</td>\n",
              "      <td>22</td>\n",
              "      <td>33</td>\n",
              "    </tr>\n",
              "  </tbody>\n",
              "</table>\n",
              "</div>\n",
              "      <button class=\"colab-df-convert\" onclick=\"convertToInteractive('df-b9f4c77b-47da-4f01-88e0-768b2e561903')\"\n",
              "              title=\"Convert this dataframe to an interactive table.\"\n",
              "              style=\"display:none;\">\n",
              "\n",
              "  <svg xmlns=\"http://www.w3.org/2000/svg\" height=\"24px\"viewBox=\"0 0 24 24\"\n",
              "       width=\"24px\">\n",
              "    <path d=\"M0 0h24v24H0V0z\" fill=\"none\"/>\n",
              "    <path d=\"M18.56 5.44l.94 2.06.94-2.06 2.06-.94-2.06-.94-.94-2.06-.94 2.06-2.06.94zm-11 1L8.5 8.5l.94-2.06 2.06-.94-2.06-.94L8.5 2.5l-.94 2.06-2.06.94zm10 10l.94 2.06.94-2.06 2.06-.94-2.06-.94-.94-2.06-.94 2.06-2.06.94z\"/><path d=\"M17.41 7.96l-1.37-1.37c-.4-.4-.92-.59-1.43-.59-.52 0-1.04.2-1.43.59L10.3 9.45l-7.72 7.72c-.78.78-.78 2.05 0 2.83L4 21.41c.39.39.9.59 1.41.59.51 0 1.02-.2 1.41-.59l7.78-7.78 2.81-2.81c.8-.78.8-2.07 0-2.86zM5.41 20L4 18.59l7.72-7.72 1.47 1.35L5.41 20z\"/>\n",
              "  </svg>\n",
              "      </button>\n",
              "\n",
              "\n",
              "\n",
              "    <div id=\"df-352af0b2-4167-4403-ae9d-7bb4d01e5c88\">\n",
              "      <button class=\"colab-df-quickchart\" onclick=\"quickchart('df-352af0b2-4167-4403-ae9d-7bb4d01e5c88')\"\n",
              "              title=\"Suggest charts.\"\n",
              "              style=\"display:none;\">\n",
              "\n",
              "<svg xmlns=\"http://www.w3.org/2000/svg\" height=\"24px\"viewBox=\"0 0 24 24\"\n",
              "     width=\"24px\">\n",
              "    <g>\n",
              "        <path d=\"M19 3H5c-1.1 0-2 .9-2 2v14c0 1.1.9 2 2 2h14c1.1 0 2-.9 2-2V5c0-1.1-.9-2-2-2zM9 17H7v-7h2v7zm4 0h-2V7h2v10zm4 0h-2v-4h2v4z\"/>\n",
              "    </g>\n",
              "</svg>\n",
              "      </button>\n",
              "    </div>\n",
              "\n",
              "<style>\n",
              "  .colab-df-quickchart {\n",
              "    background-color: #E8F0FE;\n",
              "    border: none;\n",
              "    border-radius: 50%;\n",
              "    cursor: pointer;\n",
              "    display: none;\n",
              "    fill: #1967D2;\n",
              "    height: 32px;\n",
              "    padding: 0 0 0 0;\n",
              "    width: 32px;\n",
              "  }\n",
              "\n",
              "  .colab-df-quickchart:hover {\n",
              "    background-color: #E2EBFA;\n",
              "    box-shadow: 0px 1px 2px rgba(60, 64, 67, 0.3), 0px 1px 3px 1px rgba(60, 64, 67, 0.15);\n",
              "    fill: #174EA6;\n",
              "  }\n",
              "\n",
              "  [theme=dark] .colab-df-quickchart {\n",
              "    background-color: #3B4455;\n",
              "    fill: #D2E3FC;\n",
              "  }\n",
              "\n",
              "  [theme=dark] .colab-df-quickchart:hover {\n",
              "    background-color: #434B5C;\n",
              "    box-shadow: 0px 1px 3px 1px rgba(0, 0, 0, 0.15);\n",
              "    filter: drop-shadow(0px 1px 2px rgba(0, 0, 0, 0.3));\n",
              "    fill: #FFFFFF;\n",
              "  }\n",
              "</style>\n",
              "\n",
              "    <script>\n",
              "      async function quickchart(key) {\n",
              "        const containerElement = document.querySelector('#' + key);\n",
              "        const charts = await google.colab.kernel.invokeFunction(\n",
              "            'suggestCharts', [key], {});\n",
              "      }\n",
              "    </script>\n",
              "\n",
              "      <script>\n",
              "\n",
              "function displayQuickchartButton(domScope) {\n",
              "  let quickchartButtonEl =\n",
              "    domScope.querySelector('#df-352af0b2-4167-4403-ae9d-7bb4d01e5c88 button.colab-df-quickchart');\n",
              "  quickchartButtonEl.style.display =\n",
              "    google.colab.kernel.accessAllowed ? 'block' : 'none';\n",
              "}\n",
              "\n",
              "        displayQuickchartButton(document);\n",
              "      </script>\n",
              "      <style>\n",
              "    .colab-df-container {\n",
              "      display:flex;\n",
              "      flex-wrap:wrap;\n",
              "      gap: 12px;\n",
              "    }\n",
              "\n",
              "    .colab-df-convert {\n",
              "      background-color: #E8F0FE;\n",
              "      border: none;\n",
              "      border-radius: 50%;\n",
              "      cursor: pointer;\n",
              "      display: none;\n",
              "      fill: #1967D2;\n",
              "      height: 32px;\n",
              "      padding: 0 0 0 0;\n",
              "      width: 32px;\n",
              "    }\n",
              "\n",
              "    .colab-df-convert:hover {\n",
              "      background-color: #E2EBFA;\n",
              "      box-shadow: 0px 1px 2px rgba(60, 64, 67, 0.3), 0px 1px 3px 1px rgba(60, 64, 67, 0.15);\n",
              "      fill: #174EA6;\n",
              "    }\n",
              "\n",
              "    [theme=dark] .colab-df-convert {\n",
              "      background-color: #3B4455;\n",
              "      fill: #D2E3FC;\n",
              "    }\n",
              "\n",
              "    [theme=dark] .colab-df-convert:hover {\n",
              "      background-color: #434B5C;\n",
              "      box-shadow: 0px 1px 3px 1px rgba(0, 0, 0, 0.15);\n",
              "      filter: drop-shadow(0px 1px 2px rgba(0, 0, 0, 0.3));\n",
              "      fill: #FFFFFF;\n",
              "    }\n",
              "  </style>\n",
              "\n",
              "      <script>\n",
              "        const buttonEl =\n",
              "          document.querySelector('#df-b9f4c77b-47da-4f01-88e0-768b2e561903 button.colab-df-convert');\n",
              "        buttonEl.style.display =\n",
              "          google.colab.kernel.accessAllowed ? 'block' : 'none';\n",
              "\n",
              "        async function convertToInteractive(key) {\n",
              "          const element = document.querySelector('#df-b9f4c77b-47da-4f01-88e0-768b2e561903');\n",
              "          const dataTable =\n",
              "            await google.colab.kernel.invokeFunction('convertToInteractive',\n",
              "                                                     [key], {});\n",
              "          if (!dataTable) return;\n",
              "\n",
              "          const docLinkHtml = 'Like what you see? Visit the ' +\n",
              "            '<a target=\"_blank\" href=https://colab.research.google.com/notebooks/data_table.ipynb>data table notebook</a>'\n",
              "            + ' to learn more about interactive tables.';\n",
              "          element.innerHTML = '';\n",
              "          dataTable['output_type'] = 'display_data';\n",
              "          await google.colab.output.renderOutput(dataTable, element);\n",
              "          const docLink = document.createElement('div');\n",
              "          docLink.innerHTML = docLinkHtml;\n",
              "          element.appendChild(docLink);\n",
              "        }\n",
              "      </script>\n",
              "    </div>\n",
              "  </div>\n"
            ]
          },
          "metadata": {},
          "execution_count": 14
        }
      ]
    },
    {
      "cell_type": "markdown",
      "source": [
        "ㅤ"
      ],
      "metadata": {
        "id": "OxNiSSjLy7xY"
      }
    },
    {
      "cell_type": "markdown",
      "source": [
        "딕셔너리 자료형을 이용하여 데이터프레임을 생성할 때는 칼럼명만 명시할 수 있고 인덱스명은 따로 명시하지 못합니다."
      ],
      "metadata": {
        "id": "nTFZ2vcaDfSK"
      }
    },
    {
      "cell_type": "markdown",
      "source": [
        "ㅤ"
      ],
      "metadata": {
        "id": "MtTMssTsRmnr"
      }
    },
    {
      "cell_type": "markdown",
      "source": [
        "### **2) 파일을 불러 Dataframe 생성하기**\n"
      ],
      "metadata": {
        "id": "byR_80wwRoSX"
      }
    },
    {
      "cell_type": "markdown",
      "source": [
        "*   **pd.read_csv()** API를 사용하여 csv 외 필드 구분 문자 기반의 파일 포맷도 DataFrame으로 변환합니다. 디폴트 필드 구분 문자는 ‘,’ (콤마)입니다.\n",
        "    </br> </br>\n",
        "                                \n",
        "   \n",
        "*  **pd.read_csv(파일경로/파일명, sep=‘ 필드 구분 문자 ’)**\n",
        "</br> </br>\n",
        "\n",
        "> 필드 구분 문자 : ‘,’ (콤마), ‘\\t’ (탭)\n",
        "\n"
      ],
      "metadata": {
        "id": "KkJoiLhkL4_a"
      }
    },
    {
      "cell_type": "markdown",
      "source": [
        "ㅤ"
      ],
      "metadata": {
        "id": "DCPDbqyWzC4S"
      }
    },
    {
      "cell_type": "code",
      "source": [
        "# 코랩 사용시\n",
        "from google.colab import drive  # 구글 드라이브에 파일 생성\n",
        "drive.mount('/content/drive')"
      ],
      "metadata": {
        "colab": {
          "base_uri": "https://localhost:8080/"
        },
        "id": "i3DJrs14CpTK",
        "outputId": "92b12848-d60c-44ca-8316-fdc9543303bb"
      },
      "execution_count": 15,
      "outputs": [
        {
          "output_type": "stream",
          "name": "stdout",
          "text": [
            "Mounted at /content/drive\n"
          ]
        }
      ]
    },
    {
      "cell_type": "markdown",
      "source": [
        "코랩을 사용할 경우 위 코드를 사용하여 구글 드라이브에 파일을 생성 후 그 파일에 데이터 파일을 넣습니다.\n"
      ],
      "metadata": {
        "id": "IKRTPTaCX622"
      }
    },
    {
      "cell_type": "markdown",
      "source": [
        "https://kosis.kr/statHtml/statHtml.do?orgId=112&tblId=TX_11202_A001&vw_cd=MT_ZTITLE&list_id=F_57&scrId=&seqNo=&lang_mode=ko&obj_var_id=&itm_id=&conn_path=MT_ZTITLE&path=%252FstatisticsList%252FstatisticsListIndex.do\n",
        "\n",
        "주제별 통계 > 보건 > 학생건강검사 > 시도별 학생표본 키 검사\n",
        "\n",
        "행렬전환 >  시점, 성별,시도별을 행으로, 연령별, 학교별을 열로 변환\n",
        "조회설정 > 지역: 서울만 선택, 시점 : 2015-2021년, 성별: 남자 혹은 여자 선택\n",
        "파일 다운로드 csv 형태, 파일 열어서 첫 줄 삭제"
      ],
      "metadata": {
        "id": "_at2024bM3I5"
      }
    },
    {
      "cell_type": "markdown",
      "source": [
        "\n",
        "- 맥은 utf-8 방식을 쓰고 윈도우는 cp949 방식 사용\n",
        "- 한글 인코딩: Microsoft사에서 만든 cp949/ms949 인코딩, euc-kr인코딩, utf-8 인코딩 등등\n",
        "-- 해결책 (1) - engine='python'\n",
        "-- 해결책 (2) - encoding='utf-8'\n",
        "-- 해결책 (3) - encoding='cp949'  # 한글이 깨지거나 읽을 때 오류가 발생한다면\n",
        "-- 해결책 (4) - Excel에서 인코딩 옵션 변경 (다른 이름으로 저장에서 - CSV UTF-8 (쉼표로 분리) 로 변경하여 저장)"
      ],
      "metadata": {
        "id": "2mwkXygtQj-M"
      }
    },
    {
      "cell_type": "markdown",
      "source": [
        "ㅤ"
      ],
      "metadata": {
        "id": "PNcPt6cXYZti"
      }
    },
    {
      "cell_type": "markdown",
      "source": [
        "파일을 불러오는 pd.read_csv를 사용할 때, 파일 경로 붙여넣고 그 뒤에 자신이 설정한 파일명과 데이터 파일 이름을 기입합니다."
      ],
      "metadata": {
        "id": "7Lv3M80OYiiI"
      }
    },
    {
      "cell_type": "code",
      "source": [
        "df = pd.read_csv('/content/drive/MyDrive/Colab Notebooks/student2.csv',encoding='cp949' )\n",
        "df"
      ],
      "metadata": {
        "colab": {
          "base_uri": "https://localhost:8080/",
          "height": 440
        },
        "id": "rCdBwALW3cAy",
        "outputId": "e6e00c6a-8b5a-4947-9c49-2300037f7932"
      },
      "execution_count": 20,
      "outputs": [
        {
          "output_type": "execute_result",
          "data": {
            "text/plain": [
              "  성별(1)    시점     6세     7세     8세     9세    10세    11세    12세    13세    14세  \\\n",
              "0    남자  2015  121.3  128.0  133.6  139.6  144.7  151.8  160.3  165.7  170.5   \n",
              "1    남자  2016  121.5  128.3  133.9  139.1  145.1  152.0  160.3  166.4  170.4   \n",
              "2    남자  2017  122.1  128.1  134.2  139.7  145.3  152.5  160.7  166.2  170.6   \n",
              "3    남자  2018  122.1  128.0  133.9  139.8  145.1  151.9  161.3  166.7  171.2   \n",
              "4    남자  2019  122.0  128.6  134.6  139.9  145.1  151.9  160.7  167.8  170.6   \n",
              "5    남자  2021  124.1  129.5  135.3  141.4  147.9  153.9  162.3  167.6  171.4   \n",
              "\n",
              "     15세    16세    17세  \n",
              "0  172.7  172.7  173.7  \n",
              "1  172.7  135.5  174.1  \n",
              "2  172.9  173.2  173.9  \n",
              "3  172.9  173.4  174.2  \n",
              "4  173.3  173.8  174.4  \n",
              "5  173.3  174.0  173.7  "
            ],
            "text/html": [
              "\n",
              "\n",
              "  <div id=\"df-0b4367eb-e6e5-47d0-a9ae-9d6b438f7ab0\">\n",
              "    <div class=\"colab-df-container\">\n",
              "      <div>\n",
              "<style scoped>\n",
              "    .dataframe tbody tr th:only-of-type {\n",
              "        vertical-align: middle;\n",
              "    }\n",
              "\n",
              "    .dataframe tbody tr th {\n",
              "        vertical-align: top;\n",
              "    }\n",
              "\n",
              "    .dataframe thead th {\n",
              "        text-align: right;\n",
              "    }\n",
              "</style>\n",
              "<table border=\"1\" class=\"dataframe\">\n",
              "  <thead>\n",
              "    <tr style=\"text-align: right;\">\n",
              "      <th></th>\n",
              "      <th>성별(1)</th>\n",
              "      <th>시점</th>\n",
              "      <th>6세</th>\n",
              "      <th>7세</th>\n",
              "      <th>8세</th>\n",
              "      <th>9세</th>\n",
              "      <th>10세</th>\n",
              "      <th>11세</th>\n",
              "      <th>12세</th>\n",
              "      <th>13세</th>\n",
              "      <th>14세</th>\n",
              "      <th>15세</th>\n",
              "      <th>16세</th>\n",
              "      <th>17세</th>\n",
              "    </tr>\n",
              "  </thead>\n",
              "  <tbody>\n",
              "    <tr>\n",
              "      <th>0</th>\n",
              "      <td>남자</td>\n",
              "      <td>2015</td>\n",
              "      <td>121.3</td>\n",
              "      <td>128.0</td>\n",
              "      <td>133.6</td>\n",
              "      <td>139.6</td>\n",
              "      <td>144.7</td>\n",
              "      <td>151.8</td>\n",
              "      <td>160.3</td>\n",
              "      <td>165.7</td>\n",
              "      <td>170.5</td>\n",
              "      <td>172.7</td>\n",
              "      <td>172.7</td>\n",
              "      <td>173.7</td>\n",
              "    </tr>\n",
              "    <tr>\n",
              "      <th>1</th>\n",
              "      <td>남자</td>\n",
              "      <td>2016</td>\n",
              "      <td>121.5</td>\n",
              "      <td>128.3</td>\n",
              "      <td>133.9</td>\n",
              "      <td>139.1</td>\n",
              "      <td>145.1</td>\n",
              "      <td>152.0</td>\n",
              "      <td>160.3</td>\n",
              "      <td>166.4</td>\n",
              "      <td>170.4</td>\n",
              "      <td>172.7</td>\n",
              "      <td>135.5</td>\n",
              "      <td>174.1</td>\n",
              "    </tr>\n",
              "    <tr>\n",
              "      <th>2</th>\n",
              "      <td>남자</td>\n",
              "      <td>2017</td>\n",
              "      <td>122.1</td>\n",
              "      <td>128.1</td>\n",
              "      <td>134.2</td>\n",
              "      <td>139.7</td>\n",
              "      <td>145.3</td>\n",
              "      <td>152.5</td>\n",
              "      <td>160.7</td>\n",
              "      <td>166.2</td>\n",
              "      <td>170.6</td>\n",
              "      <td>172.9</td>\n",
              "      <td>173.2</td>\n",
              "      <td>173.9</td>\n",
              "    </tr>\n",
              "    <tr>\n",
              "      <th>3</th>\n",
              "      <td>남자</td>\n",
              "      <td>2018</td>\n",
              "      <td>122.1</td>\n",
              "      <td>128.0</td>\n",
              "      <td>133.9</td>\n",
              "      <td>139.8</td>\n",
              "      <td>145.1</td>\n",
              "      <td>151.9</td>\n",
              "      <td>161.3</td>\n",
              "      <td>166.7</td>\n",
              "      <td>171.2</td>\n",
              "      <td>172.9</td>\n",
              "      <td>173.4</td>\n",
              "      <td>174.2</td>\n",
              "    </tr>\n",
              "    <tr>\n",
              "      <th>4</th>\n",
              "      <td>남자</td>\n",
              "      <td>2019</td>\n",
              "      <td>122.0</td>\n",
              "      <td>128.6</td>\n",
              "      <td>134.6</td>\n",
              "      <td>139.9</td>\n",
              "      <td>145.1</td>\n",
              "      <td>151.9</td>\n",
              "      <td>160.7</td>\n",
              "      <td>167.8</td>\n",
              "      <td>170.6</td>\n",
              "      <td>173.3</td>\n",
              "      <td>173.8</td>\n",
              "      <td>174.4</td>\n",
              "    </tr>\n",
              "    <tr>\n",
              "      <th>5</th>\n",
              "      <td>남자</td>\n",
              "      <td>2021</td>\n",
              "      <td>124.1</td>\n",
              "      <td>129.5</td>\n",
              "      <td>135.3</td>\n",
              "      <td>141.4</td>\n",
              "      <td>147.9</td>\n",
              "      <td>153.9</td>\n",
              "      <td>162.3</td>\n",
              "      <td>167.6</td>\n",
              "      <td>171.4</td>\n",
              "      <td>173.3</td>\n",
              "      <td>174.0</td>\n",
              "      <td>173.7</td>\n",
              "    </tr>\n",
              "  </tbody>\n",
              "</table>\n",
              "</div>\n",
              "      <button class=\"colab-df-convert\" onclick=\"convertToInteractive('df-0b4367eb-e6e5-47d0-a9ae-9d6b438f7ab0')\"\n",
              "              title=\"Convert this dataframe to an interactive table.\"\n",
              "              style=\"display:none;\">\n",
              "\n",
              "  <svg xmlns=\"http://www.w3.org/2000/svg\" height=\"24px\"viewBox=\"0 0 24 24\"\n",
              "       width=\"24px\">\n",
              "    <path d=\"M0 0h24v24H0V0z\" fill=\"none\"/>\n",
              "    <path d=\"M18.56 5.44l.94 2.06.94-2.06 2.06-.94-2.06-.94-.94-2.06-.94 2.06-2.06.94zm-11 1L8.5 8.5l.94-2.06 2.06-.94-2.06-.94L8.5 2.5l-.94 2.06-2.06.94zm10 10l.94 2.06.94-2.06 2.06-.94-2.06-.94-.94-2.06-.94 2.06-2.06.94z\"/><path d=\"M17.41 7.96l-1.37-1.37c-.4-.4-.92-.59-1.43-.59-.52 0-1.04.2-1.43.59L10.3 9.45l-7.72 7.72c-.78.78-.78 2.05 0 2.83L4 21.41c.39.39.9.59 1.41.59.51 0 1.02-.2 1.41-.59l7.78-7.78 2.81-2.81c.8-.78.8-2.07 0-2.86zM5.41 20L4 18.59l7.72-7.72 1.47 1.35L5.41 20z\"/>\n",
              "  </svg>\n",
              "      </button>\n",
              "\n",
              "\n",
              "\n",
              "    <div id=\"df-29ee010b-5ab6-4d7a-a2a7-8b9b08fc2e7d\">\n",
              "      <button class=\"colab-df-quickchart\" onclick=\"quickchart('df-29ee010b-5ab6-4d7a-a2a7-8b9b08fc2e7d')\"\n",
              "              title=\"Suggest charts.\"\n",
              "              style=\"display:none;\">\n",
              "\n",
              "<svg xmlns=\"http://www.w3.org/2000/svg\" height=\"24px\"viewBox=\"0 0 24 24\"\n",
              "     width=\"24px\">\n",
              "    <g>\n",
              "        <path d=\"M19 3H5c-1.1 0-2 .9-2 2v14c0 1.1.9 2 2 2h14c1.1 0 2-.9 2-2V5c0-1.1-.9-2-2-2zM9 17H7v-7h2v7zm4 0h-2V7h2v10zm4 0h-2v-4h2v4z\"/>\n",
              "    </g>\n",
              "</svg>\n",
              "      </button>\n",
              "    </div>\n",
              "\n",
              "<style>\n",
              "  .colab-df-quickchart {\n",
              "    background-color: #E8F0FE;\n",
              "    border: none;\n",
              "    border-radius: 50%;\n",
              "    cursor: pointer;\n",
              "    display: none;\n",
              "    fill: #1967D2;\n",
              "    height: 32px;\n",
              "    padding: 0 0 0 0;\n",
              "    width: 32px;\n",
              "  }\n",
              "\n",
              "  .colab-df-quickchart:hover {\n",
              "    background-color: #E2EBFA;\n",
              "    box-shadow: 0px 1px 2px rgba(60, 64, 67, 0.3), 0px 1px 3px 1px rgba(60, 64, 67, 0.15);\n",
              "    fill: #174EA6;\n",
              "  }\n",
              "\n",
              "  [theme=dark] .colab-df-quickchart {\n",
              "    background-color: #3B4455;\n",
              "    fill: #D2E3FC;\n",
              "  }\n",
              "\n",
              "  [theme=dark] .colab-df-quickchart:hover {\n",
              "    background-color: #434B5C;\n",
              "    box-shadow: 0px 1px 3px 1px rgba(0, 0, 0, 0.15);\n",
              "    filter: drop-shadow(0px 1px 2px rgba(0, 0, 0, 0.3));\n",
              "    fill: #FFFFFF;\n",
              "  }\n",
              "</style>\n",
              "\n",
              "    <script>\n",
              "      async function quickchart(key) {\n",
              "        const containerElement = document.querySelector('#' + key);\n",
              "        const charts = await google.colab.kernel.invokeFunction(\n",
              "            'suggestCharts', [key], {});\n",
              "      }\n",
              "    </script>\n",
              "\n",
              "      <script>\n",
              "\n",
              "function displayQuickchartButton(domScope) {\n",
              "  let quickchartButtonEl =\n",
              "    domScope.querySelector('#df-29ee010b-5ab6-4d7a-a2a7-8b9b08fc2e7d button.colab-df-quickchart');\n",
              "  quickchartButtonEl.style.display =\n",
              "    google.colab.kernel.accessAllowed ? 'block' : 'none';\n",
              "}\n",
              "\n",
              "        displayQuickchartButton(document);\n",
              "      </script>\n",
              "      <style>\n",
              "    .colab-df-container {\n",
              "      display:flex;\n",
              "      flex-wrap:wrap;\n",
              "      gap: 12px;\n",
              "    }\n",
              "\n",
              "    .colab-df-convert {\n",
              "      background-color: #E8F0FE;\n",
              "      border: none;\n",
              "      border-radius: 50%;\n",
              "      cursor: pointer;\n",
              "      display: none;\n",
              "      fill: #1967D2;\n",
              "      height: 32px;\n",
              "      padding: 0 0 0 0;\n",
              "      width: 32px;\n",
              "    }\n",
              "\n",
              "    .colab-df-convert:hover {\n",
              "      background-color: #E2EBFA;\n",
              "      box-shadow: 0px 1px 2px rgba(60, 64, 67, 0.3), 0px 1px 3px 1px rgba(60, 64, 67, 0.15);\n",
              "      fill: #174EA6;\n",
              "    }\n",
              "\n",
              "    [theme=dark] .colab-df-convert {\n",
              "      background-color: #3B4455;\n",
              "      fill: #D2E3FC;\n",
              "    }\n",
              "\n",
              "    [theme=dark] .colab-df-convert:hover {\n",
              "      background-color: #434B5C;\n",
              "      box-shadow: 0px 1px 3px 1px rgba(0, 0, 0, 0.15);\n",
              "      filter: drop-shadow(0px 1px 2px rgba(0, 0, 0, 0.3));\n",
              "      fill: #FFFFFF;\n",
              "    }\n",
              "  </style>\n",
              "\n",
              "      <script>\n",
              "        const buttonEl =\n",
              "          document.querySelector('#df-0b4367eb-e6e5-47d0-a9ae-9d6b438f7ab0 button.colab-df-convert');\n",
              "        buttonEl.style.display =\n",
              "          google.colab.kernel.accessAllowed ? 'block' : 'none';\n",
              "\n",
              "        async function convertToInteractive(key) {\n",
              "          const element = document.querySelector('#df-0b4367eb-e6e5-47d0-a9ae-9d6b438f7ab0');\n",
              "          const dataTable =\n",
              "            await google.colab.kernel.invokeFunction('convertToInteractive',\n",
              "                                                     [key], {});\n",
              "          if (!dataTable) return;\n",
              "\n",
              "          const docLinkHtml = 'Like what you see? Visit the ' +\n",
              "            '<a target=\"_blank\" href=https://colab.research.google.com/notebooks/data_table.ipynb>data table notebook</a>'\n",
              "            + ' to learn more about interactive tables.';\n",
              "          element.innerHTML = '';\n",
              "          dataTable['output_type'] = 'display_data';\n",
              "          await google.colab.output.renderOutput(dataTable, element);\n",
              "          const docLink = document.createElement('div');\n",
              "          docLink.innerHTML = docLinkHtml;\n",
              "          element.appendChild(docLink);\n",
              "        }\n",
              "      </script>\n",
              "    </div>\n",
              "  </div>\n"
            ]
          },
          "metadata": {},
          "execution_count": 20
        }
      ]
    },
    {
      "cell_type": "markdown",
      "source": [
        "ㅤ"
      ],
      "metadata": {
        "id": "caF_RLGEY5N4"
      }
    },
    {
      "cell_type": "markdown",
      "source": [
        "## **6. Dataframe 데이터 확인**"
      ],
      "metadata": {
        "id": "2QUepetLY5ak"
      }
    },
    {
      "cell_type": "markdown",
      "source": [
        "### **1) 데이터 출력하기**\n",
        "\n"
      ],
      "metadata": {
        "id": "zfB3Zcs0ZAoq"
      }
    },
    {
      "cell_type": "markdown",
      "source": [
        "* .info() : 데이터의 정보 보기"
      ],
      "metadata": {
        "id": "tKVPlmJPRTVG"
      }
    },
    {
      "cell_type": "code",
      "source": [
        "df.info()"
      ],
      "metadata": {
        "id": "pYs6odpjRbd6",
        "colab": {
          "base_uri": "https://localhost:8080/"
        },
        "outputId": "beede451-ff3f-4d7a-c29f-3ac3806f62f7"
      },
      "execution_count": 21,
      "outputs": [
        {
          "output_type": "stream",
          "name": "stdout",
          "text": [
            "<class 'pandas.core.frame.DataFrame'>\n",
            "RangeIndex: 6 entries, 0 to 5\n",
            "Data columns (total 14 columns):\n",
            " #   Column  Non-Null Count  Dtype  \n",
            "---  ------  --------------  -----  \n",
            " 0   성별(1)   6 non-null      object \n",
            " 1   시점      6 non-null      int64  \n",
            " 2   6세      6 non-null      float64\n",
            " 3   7세      6 non-null      float64\n",
            " 4   8세      6 non-null      float64\n",
            " 5   9세      6 non-null      float64\n",
            " 6   10세     6 non-null      float64\n",
            " 7   11세     6 non-null      float64\n",
            " 8   12세     6 non-null      float64\n",
            " 9   13세     6 non-null      float64\n",
            " 10  14세     6 non-null      float64\n",
            " 11  15세     6 non-null      float64\n",
            " 12  16세     6 non-null      float64\n",
            " 13  17세     6 non-null      float64\n",
            "dtypes: float64(12), int64(1), object(1)\n",
            "memory usage: 800.0+ bytes\n"
          ]
        }
      ]
    },
    {
      "cell_type": "markdown",
      "source": [
        "* 메모리를 많이 차지하는 데이터는 OOM 에러 발생"
      ],
      "metadata": {
        "id": "loIfUmXsR81k"
      }
    },
    {
      "cell_type": "code",
      "source": [
        "df.info(memory_usage='deep')"
      ],
      "metadata": {
        "id": "yuzikHdCSIsE",
        "colab": {
          "base_uri": "https://localhost:8080/"
        },
        "outputId": "f05f1a96-0b60-402a-921d-cf7f69c22c46"
      },
      "execution_count": 22,
      "outputs": [
        {
          "output_type": "stream",
          "name": "stdout",
          "text": [
            "<class 'pandas.core.frame.DataFrame'>\n",
            "RangeIndex: 6 entries, 0 to 5\n",
            "Data columns (total 14 columns):\n",
            " #   Column  Non-Null Count  Dtype  \n",
            "---  ------  --------------  -----  \n",
            " 0   성별(1)   6 non-null      object \n",
            " 1   시점      6 non-null      int64  \n",
            " 2   6세      6 non-null      float64\n",
            " 3   7세      6 non-null      float64\n",
            " 4   8세      6 non-null      float64\n",
            " 5   9세      6 non-null      float64\n",
            " 6   10세     6 non-null      float64\n",
            " 7   11세     6 non-null      float64\n",
            " 8   12세     6 non-null      float64\n",
            " 9   13세     6 non-null      float64\n",
            " 10  14세     6 non-null      float64\n",
            " 11  15세     6 non-null      float64\n",
            " 12  16세     6 non-null      float64\n",
            " 13  17세     6 non-null      float64\n",
            "dtypes: float64(12), int64(1), object(1)\n",
            "memory usage: 1.2 KB\n"
          ]
        }
      ]
    },
    {
      "cell_type": "markdown",
      "source": [
        "*   .head() : 상위 5개의 자료를 출력하는 메소드이다. 직접 입력한 값만큼 데이터를 출력합니다.\n",
        "\n",
        "*   .tail() : 하위 5개의 자료를 출력하는 메소드이다. 직접 입력한 값만큼 데이터를 출력합니다."
      ],
      "metadata": {
        "id": "VMAV6WH-MQBf"
      }
    },
    {
      "cell_type": "code",
      "source": [
        "df.head()"
      ],
      "metadata": {
        "colab": {
          "base_uri": "https://localhost:8080/",
          "height": 391
        },
        "id": "ugxufGJ140vq",
        "outputId": "176fd568-9fa8-4293-ca56-b32a3412f490"
      },
      "execution_count": 23,
      "outputs": [
        {
          "output_type": "execute_result",
          "data": {
            "text/plain": [
              "  성별(1)    시점     6세     7세     8세     9세    10세    11세    12세    13세    14세  \\\n",
              "0    남자  2015  121.3  128.0  133.6  139.6  144.7  151.8  160.3  165.7  170.5   \n",
              "1    남자  2016  121.5  128.3  133.9  139.1  145.1  152.0  160.3  166.4  170.4   \n",
              "2    남자  2017  122.1  128.1  134.2  139.7  145.3  152.5  160.7  166.2  170.6   \n",
              "3    남자  2018  122.1  128.0  133.9  139.8  145.1  151.9  161.3  166.7  171.2   \n",
              "4    남자  2019  122.0  128.6  134.6  139.9  145.1  151.9  160.7  167.8  170.6   \n",
              "\n",
              "     15세    16세    17세  \n",
              "0  172.7  172.7  173.7  \n",
              "1  172.7  135.5  174.1  \n",
              "2  172.9  173.2  173.9  \n",
              "3  172.9  173.4  174.2  \n",
              "4  173.3  173.8  174.4  "
            ],
            "text/html": [
              "\n",
              "\n",
              "  <div id=\"df-a4726c40-6d2b-480e-b35d-91db7a2f5ee5\">\n",
              "    <div class=\"colab-df-container\">\n",
              "      <div>\n",
              "<style scoped>\n",
              "    .dataframe tbody tr th:only-of-type {\n",
              "        vertical-align: middle;\n",
              "    }\n",
              "\n",
              "    .dataframe tbody tr th {\n",
              "        vertical-align: top;\n",
              "    }\n",
              "\n",
              "    .dataframe thead th {\n",
              "        text-align: right;\n",
              "    }\n",
              "</style>\n",
              "<table border=\"1\" class=\"dataframe\">\n",
              "  <thead>\n",
              "    <tr style=\"text-align: right;\">\n",
              "      <th></th>\n",
              "      <th>성별(1)</th>\n",
              "      <th>시점</th>\n",
              "      <th>6세</th>\n",
              "      <th>7세</th>\n",
              "      <th>8세</th>\n",
              "      <th>9세</th>\n",
              "      <th>10세</th>\n",
              "      <th>11세</th>\n",
              "      <th>12세</th>\n",
              "      <th>13세</th>\n",
              "      <th>14세</th>\n",
              "      <th>15세</th>\n",
              "      <th>16세</th>\n",
              "      <th>17세</th>\n",
              "    </tr>\n",
              "  </thead>\n",
              "  <tbody>\n",
              "    <tr>\n",
              "      <th>0</th>\n",
              "      <td>남자</td>\n",
              "      <td>2015</td>\n",
              "      <td>121.3</td>\n",
              "      <td>128.0</td>\n",
              "      <td>133.6</td>\n",
              "      <td>139.6</td>\n",
              "      <td>144.7</td>\n",
              "      <td>151.8</td>\n",
              "      <td>160.3</td>\n",
              "      <td>165.7</td>\n",
              "      <td>170.5</td>\n",
              "      <td>172.7</td>\n",
              "      <td>172.7</td>\n",
              "      <td>173.7</td>\n",
              "    </tr>\n",
              "    <tr>\n",
              "      <th>1</th>\n",
              "      <td>남자</td>\n",
              "      <td>2016</td>\n",
              "      <td>121.5</td>\n",
              "      <td>128.3</td>\n",
              "      <td>133.9</td>\n",
              "      <td>139.1</td>\n",
              "      <td>145.1</td>\n",
              "      <td>152.0</td>\n",
              "      <td>160.3</td>\n",
              "      <td>166.4</td>\n",
              "      <td>170.4</td>\n",
              "      <td>172.7</td>\n",
              "      <td>135.5</td>\n",
              "      <td>174.1</td>\n",
              "    </tr>\n",
              "    <tr>\n",
              "      <th>2</th>\n",
              "      <td>남자</td>\n",
              "      <td>2017</td>\n",
              "      <td>122.1</td>\n",
              "      <td>128.1</td>\n",
              "      <td>134.2</td>\n",
              "      <td>139.7</td>\n",
              "      <td>145.3</td>\n",
              "      <td>152.5</td>\n",
              "      <td>160.7</td>\n",
              "      <td>166.2</td>\n",
              "      <td>170.6</td>\n",
              "      <td>172.9</td>\n",
              "      <td>173.2</td>\n",
              "      <td>173.9</td>\n",
              "    </tr>\n",
              "    <tr>\n",
              "      <th>3</th>\n",
              "      <td>남자</td>\n",
              "      <td>2018</td>\n",
              "      <td>122.1</td>\n",
              "      <td>128.0</td>\n",
              "      <td>133.9</td>\n",
              "      <td>139.8</td>\n",
              "      <td>145.1</td>\n",
              "      <td>151.9</td>\n",
              "      <td>161.3</td>\n",
              "      <td>166.7</td>\n",
              "      <td>171.2</td>\n",
              "      <td>172.9</td>\n",
              "      <td>173.4</td>\n",
              "      <td>174.2</td>\n",
              "    </tr>\n",
              "    <tr>\n",
              "      <th>4</th>\n",
              "      <td>남자</td>\n",
              "      <td>2019</td>\n",
              "      <td>122.0</td>\n",
              "      <td>128.6</td>\n",
              "      <td>134.6</td>\n",
              "      <td>139.9</td>\n",
              "      <td>145.1</td>\n",
              "      <td>151.9</td>\n",
              "      <td>160.7</td>\n",
              "      <td>167.8</td>\n",
              "      <td>170.6</td>\n",
              "      <td>173.3</td>\n",
              "      <td>173.8</td>\n",
              "      <td>174.4</td>\n",
              "    </tr>\n",
              "  </tbody>\n",
              "</table>\n",
              "</div>\n",
              "      <button class=\"colab-df-convert\" onclick=\"convertToInteractive('df-a4726c40-6d2b-480e-b35d-91db7a2f5ee5')\"\n",
              "              title=\"Convert this dataframe to an interactive table.\"\n",
              "              style=\"display:none;\">\n",
              "\n",
              "  <svg xmlns=\"http://www.w3.org/2000/svg\" height=\"24px\"viewBox=\"0 0 24 24\"\n",
              "       width=\"24px\">\n",
              "    <path d=\"M0 0h24v24H0V0z\" fill=\"none\"/>\n",
              "    <path d=\"M18.56 5.44l.94 2.06.94-2.06 2.06-.94-2.06-.94-.94-2.06-.94 2.06-2.06.94zm-11 1L8.5 8.5l.94-2.06 2.06-.94-2.06-.94L8.5 2.5l-.94 2.06-2.06.94zm10 10l.94 2.06.94-2.06 2.06-.94-2.06-.94-.94-2.06-.94 2.06-2.06.94z\"/><path d=\"M17.41 7.96l-1.37-1.37c-.4-.4-.92-.59-1.43-.59-.52 0-1.04.2-1.43.59L10.3 9.45l-7.72 7.72c-.78.78-.78 2.05 0 2.83L4 21.41c.39.39.9.59 1.41.59.51 0 1.02-.2 1.41-.59l7.78-7.78 2.81-2.81c.8-.78.8-2.07 0-2.86zM5.41 20L4 18.59l7.72-7.72 1.47 1.35L5.41 20z\"/>\n",
              "  </svg>\n",
              "      </button>\n",
              "\n",
              "\n",
              "\n",
              "    <div id=\"df-a02ca358-f796-45d7-b408-59e57c2956f1\">\n",
              "      <button class=\"colab-df-quickchart\" onclick=\"quickchart('df-a02ca358-f796-45d7-b408-59e57c2956f1')\"\n",
              "              title=\"Suggest charts.\"\n",
              "              style=\"display:none;\">\n",
              "\n",
              "<svg xmlns=\"http://www.w3.org/2000/svg\" height=\"24px\"viewBox=\"0 0 24 24\"\n",
              "     width=\"24px\">\n",
              "    <g>\n",
              "        <path d=\"M19 3H5c-1.1 0-2 .9-2 2v14c0 1.1.9 2 2 2h14c1.1 0 2-.9 2-2V5c0-1.1-.9-2-2-2zM9 17H7v-7h2v7zm4 0h-2V7h2v10zm4 0h-2v-4h2v4z\"/>\n",
              "    </g>\n",
              "</svg>\n",
              "      </button>\n",
              "    </div>\n",
              "\n",
              "<style>\n",
              "  .colab-df-quickchart {\n",
              "    background-color: #E8F0FE;\n",
              "    border: none;\n",
              "    border-radius: 50%;\n",
              "    cursor: pointer;\n",
              "    display: none;\n",
              "    fill: #1967D2;\n",
              "    height: 32px;\n",
              "    padding: 0 0 0 0;\n",
              "    width: 32px;\n",
              "  }\n",
              "\n",
              "  .colab-df-quickchart:hover {\n",
              "    background-color: #E2EBFA;\n",
              "    box-shadow: 0px 1px 2px rgba(60, 64, 67, 0.3), 0px 1px 3px 1px rgba(60, 64, 67, 0.15);\n",
              "    fill: #174EA6;\n",
              "  }\n",
              "\n",
              "  [theme=dark] .colab-df-quickchart {\n",
              "    background-color: #3B4455;\n",
              "    fill: #D2E3FC;\n",
              "  }\n",
              "\n",
              "  [theme=dark] .colab-df-quickchart:hover {\n",
              "    background-color: #434B5C;\n",
              "    box-shadow: 0px 1px 3px 1px rgba(0, 0, 0, 0.15);\n",
              "    filter: drop-shadow(0px 1px 2px rgba(0, 0, 0, 0.3));\n",
              "    fill: #FFFFFF;\n",
              "  }\n",
              "</style>\n",
              "\n",
              "    <script>\n",
              "      async function quickchart(key) {\n",
              "        const containerElement = document.querySelector('#' + key);\n",
              "        const charts = await google.colab.kernel.invokeFunction(\n",
              "            'suggestCharts', [key], {});\n",
              "      }\n",
              "    </script>\n",
              "\n",
              "      <script>\n",
              "\n",
              "function displayQuickchartButton(domScope) {\n",
              "  let quickchartButtonEl =\n",
              "    domScope.querySelector('#df-a02ca358-f796-45d7-b408-59e57c2956f1 button.colab-df-quickchart');\n",
              "  quickchartButtonEl.style.display =\n",
              "    google.colab.kernel.accessAllowed ? 'block' : 'none';\n",
              "}\n",
              "\n",
              "        displayQuickchartButton(document);\n",
              "      </script>\n",
              "      <style>\n",
              "    .colab-df-container {\n",
              "      display:flex;\n",
              "      flex-wrap:wrap;\n",
              "      gap: 12px;\n",
              "    }\n",
              "\n",
              "    .colab-df-convert {\n",
              "      background-color: #E8F0FE;\n",
              "      border: none;\n",
              "      border-radius: 50%;\n",
              "      cursor: pointer;\n",
              "      display: none;\n",
              "      fill: #1967D2;\n",
              "      height: 32px;\n",
              "      padding: 0 0 0 0;\n",
              "      width: 32px;\n",
              "    }\n",
              "\n",
              "    .colab-df-convert:hover {\n",
              "      background-color: #E2EBFA;\n",
              "      box-shadow: 0px 1px 2px rgba(60, 64, 67, 0.3), 0px 1px 3px 1px rgba(60, 64, 67, 0.15);\n",
              "      fill: #174EA6;\n",
              "    }\n",
              "\n",
              "    [theme=dark] .colab-df-convert {\n",
              "      background-color: #3B4455;\n",
              "      fill: #D2E3FC;\n",
              "    }\n",
              "\n",
              "    [theme=dark] .colab-df-convert:hover {\n",
              "      background-color: #434B5C;\n",
              "      box-shadow: 0px 1px 3px 1px rgba(0, 0, 0, 0.15);\n",
              "      filter: drop-shadow(0px 1px 2px rgba(0, 0, 0, 0.3));\n",
              "      fill: #FFFFFF;\n",
              "    }\n",
              "  </style>\n",
              "\n",
              "      <script>\n",
              "        const buttonEl =\n",
              "          document.querySelector('#df-a4726c40-6d2b-480e-b35d-91db7a2f5ee5 button.colab-df-convert');\n",
              "        buttonEl.style.display =\n",
              "          google.colab.kernel.accessAllowed ? 'block' : 'none';\n",
              "\n",
              "        async function convertToInteractive(key) {\n",
              "          const element = document.querySelector('#df-a4726c40-6d2b-480e-b35d-91db7a2f5ee5');\n",
              "          const dataTable =\n",
              "            await google.colab.kernel.invokeFunction('convertToInteractive',\n",
              "                                                     [key], {});\n",
              "          if (!dataTable) return;\n",
              "\n",
              "          const docLinkHtml = 'Like what you see? Visit the ' +\n",
              "            '<a target=\"_blank\" href=https://colab.research.google.com/notebooks/data_table.ipynb>data table notebook</a>'\n",
              "            + ' to learn more about interactive tables.';\n",
              "          element.innerHTML = '';\n",
              "          dataTable['output_type'] = 'display_data';\n",
              "          await google.colab.output.renderOutput(dataTable, element);\n",
              "          const docLink = document.createElement('div');\n",
              "          docLink.innerHTML = docLinkHtml;\n",
              "          element.appendChild(docLink);\n",
              "        }\n",
              "      </script>\n",
              "    </div>\n",
              "  </div>\n"
            ]
          },
          "metadata": {},
          "execution_count": 23
        }
      ]
    },
    {
      "cell_type": "code",
      "source": [
        "df.tail()"
      ],
      "metadata": {
        "colab": {
          "base_uri": "https://localhost:8080/",
          "height": 391
        },
        "id": "2BRFFF5H44rK",
        "outputId": "e97f67d1-cd6a-4870-b21f-aad102afc323"
      },
      "execution_count": 24,
      "outputs": [
        {
          "output_type": "execute_result",
          "data": {
            "text/plain": [
              "  성별(1)    시점     6세     7세     8세     9세    10세    11세    12세    13세    14세  \\\n",
              "1    남자  2016  121.5  128.3  133.9  139.1  145.1  152.0  160.3  166.4  170.4   \n",
              "2    남자  2017  122.1  128.1  134.2  139.7  145.3  152.5  160.7  166.2  170.6   \n",
              "3    남자  2018  122.1  128.0  133.9  139.8  145.1  151.9  161.3  166.7  171.2   \n",
              "4    남자  2019  122.0  128.6  134.6  139.9  145.1  151.9  160.7  167.8  170.6   \n",
              "5    남자  2021  124.1  129.5  135.3  141.4  147.9  153.9  162.3  167.6  171.4   \n",
              "\n",
              "     15세    16세    17세  \n",
              "1  172.7  135.5  174.1  \n",
              "2  172.9  173.2  173.9  \n",
              "3  172.9  173.4  174.2  \n",
              "4  173.3  173.8  174.4  \n",
              "5  173.3  174.0  173.7  "
            ],
            "text/html": [
              "\n",
              "\n",
              "  <div id=\"df-52fdd153-56ce-4e09-81be-9895350dfc86\">\n",
              "    <div class=\"colab-df-container\">\n",
              "      <div>\n",
              "<style scoped>\n",
              "    .dataframe tbody tr th:only-of-type {\n",
              "        vertical-align: middle;\n",
              "    }\n",
              "\n",
              "    .dataframe tbody tr th {\n",
              "        vertical-align: top;\n",
              "    }\n",
              "\n",
              "    .dataframe thead th {\n",
              "        text-align: right;\n",
              "    }\n",
              "</style>\n",
              "<table border=\"1\" class=\"dataframe\">\n",
              "  <thead>\n",
              "    <tr style=\"text-align: right;\">\n",
              "      <th></th>\n",
              "      <th>성별(1)</th>\n",
              "      <th>시점</th>\n",
              "      <th>6세</th>\n",
              "      <th>7세</th>\n",
              "      <th>8세</th>\n",
              "      <th>9세</th>\n",
              "      <th>10세</th>\n",
              "      <th>11세</th>\n",
              "      <th>12세</th>\n",
              "      <th>13세</th>\n",
              "      <th>14세</th>\n",
              "      <th>15세</th>\n",
              "      <th>16세</th>\n",
              "      <th>17세</th>\n",
              "    </tr>\n",
              "  </thead>\n",
              "  <tbody>\n",
              "    <tr>\n",
              "      <th>1</th>\n",
              "      <td>남자</td>\n",
              "      <td>2016</td>\n",
              "      <td>121.5</td>\n",
              "      <td>128.3</td>\n",
              "      <td>133.9</td>\n",
              "      <td>139.1</td>\n",
              "      <td>145.1</td>\n",
              "      <td>152.0</td>\n",
              "      <td>160.3</td>\n",
              "      <td>166.4</td>\n",
              "      <td>170.4</td>\n",
              "      <td>172.7</td>\n",
              "      <td>135.5</td>\n",
              "      <td>174.1</td>\n",
              "    </tr>\n",
              "    <tr>\n",
              "      <th>2</th>\n",
              "      <td>남자</td>\n",
              "      <td>2017</td>\n",
              "      <td>122.1</td>\n",
              "      <td>128.1</td>\n",
              "      <td>134.2</td>\n",
              "      <td>139.7</td>\n",
              "      <td>145.3</td>\n",
              "      <td>152.5</td>\n",
              "      <td>160.7</td>\n",
              "      <td>166.2</td>\n",
              "      <td>170.6</td>\n",
              "      <td>172.9</td>\n",
              "      <td>173.2</td>\n",
              "      <td>173.9</td>\n",
              "    </tr>\n",
              "    <tr>\n",
              "      <th>3</th>\n",
              "      <td>남자</td>\n",
              "      <td>2018</td>\n",
              "      <td>122.1</td>\n",
              "      <td>128.0</td>\n",
              "      <td>133.9</td>\n",
              "      <td>139.8</td>\n",
              "      <td>145.1</td>\n",
              "      <td>151.9</td>\n",
              "      <td>161.3</td>\n",
              "      <td>166.7</td>\n",
              "      <td>171.2</td>\n",
              "      <td>172.9</td>\n",
              "      <td>173.4</td>\n",
              "      <td>174.2</td>\n",
              "    </tr>\n",
              "    <tr>\n",
              "      <th>4</th>\n",
              "      <td>남자</td>\n",
              "      <td>2019</td>\n",
              "      <td>122.0</td>\n",
              "      <td>128.6</td>\n",
              "      <td>134.6</td>\n",
              "      <td>139.9</td>\n",
              "      <td>145.1</td>\n",
              "      <td>151.9</td>\n",
              "      <td>160.7</td>\n",
              "      <td>167.8</td>\n",
              "      <td>170.6</td>\n",
              "      <td>173.3</td>\n",
              "      <td>173.8</td>\n",
              "      <td>174.4</td>\n",
              "    </tr>\n",
              "    <tr>\n",
              "      <th>5</th>\n",
              "      <td>남자</td>\n",
              "      <td>2021</td>\n",
              "      <td>124.1</td>\n",
              "      <td>129.5</td>\n",
              "      <td>135.3</td>\n",
              "      <td>141.4</td>\n",
              "      <td>147.9</td>\n",
              "      <td>153.9</td>\n",
              "      <td>162.3</td>\n",
              "      <td>167.6</td>\n",
              "      <td>171.4</td>\n",
              "      <td>173.3</td>\n",
              "      <td>174.0</td>\n",
              "      <td>173.7</td>\n",
              "    </tr>\n",
              "  </tbody>\n",
              "</table>\n",
              "</div>\n",
              "      <button class=\"colab-df-convert\" onclick=\"convertToInteractive('df-52fdd153-56ce-4e09-81be-9895350dfc86')\"\n",
              "              title=\"Convert this dataframe to an interactive table.\"\n",
              "              style=\"display:none;\">\n",
              "\n",
              "  <svg xmlns=\"http://www.w3.org/2000/svg\" height=\"24px\"viewBox=\"0 0 24 24\"\n",
              "       width=\"24px\">\n",
              "    <path d=\"M0 0h24v24H0V0z\" fill=\"none\"/>\n",
              "    <path d=\"M18.56 5.44l.94 2.06.94-2.06 2.06-.94-2.06-.94-.94-2.06-.94 2.06-2.06.94zm-11 1L8.5 8.5l.94-2.06 2.06-.94-2.06-.94L8.5 2.5l-.94 2.06-2.06.94zm10 10l.94 2.06.94-2.06 2.06-.94-2.06-.94-.94-2.06-.94 2.06-2.06.94z\"/><path d=\"M17.41 7.96l-1.37-1.37c-.4-.4-.92-.59-1.43-.59-.52 0-1.04.2-1.43.59L10.3 9.45l-7.72 7.72c-.78.78-.78 2.05 0 2.83L4 21.41c.39.39.9.59 1.41.59.51 0 1.02-.2 1.41-.59l7.78-7.78 2.81-2.81c.8-.78.8-2.07 0-2.86zM5.41 20L4 18.59l7.72-7.72 1.47 1.35L5.41 20z\"/>\n",
              "  </svg>\n",
              "      </button>\n",
              "\n",
              "\n",
              "\n",
              "    <div id=\"df-0ce10166-eb39-415f-bc54-6986eb4521e1\">\n",
              "      <button class=\"colab-df-quickchart\" onclick=\"quickchart('df-0ce10166-eb39-415f-bc54-6986eb4521e1')\"\n",
              "              title=\"Suggest charts.\"\n",
              "              style=\"display:none;\">\n",
              "\n",
              "<svg xmlns=\"http://www.w3.org/2000/svg\" height=\"24px\"viewBox=\"0 0 24 24\"\n",
              "     width=\"24px\">\n",
              "    <g>\n",
              "        <path d=\"M19 3H5c-1.1 0-2 .9-2 2v14c0 1.1.9 2 2 2h14c1.1 0 2-.9 2-2V5c0-1.1-.9-2-2-2zM9 17H7v-7h2v7zm4 0h-2V7h2v10zm4 0h-2v-4h2v4z\"/>\n",
              "    </g>\n",
              "</svg>\n",
              "      </button>\n",
              "    </div>\n",
              "\n",
              "<style>\n",
              "  .colab-df-quickchart {\n",
              "    background-color: #E8F0FE;\n",
              "    border: none;\n",
              "    border-radius: 50%;\n",
              "    cursor: pointer;\n",
              "    display: none;\n",
              "    fill: #1967D2;\n",
              "    height: 32px;\n",
              "    padding: 0 0 0 0;\n",
              "    width: 32px;\n",
              "  }\n",
              "\n",
              "  .colab-df-quickchart:hover {\n",
              "    background-color: #E2EBFA;\n",
              "    box-shadow: 0px 1px 2px rgba(60, 64, 67, 0.3), 0px 1px 3px 1px rgba(60, 64, 67, 0.15);\n",
              "    fill: #174EA6;\n",
              "  }\n",
              "\n",
              "  [theme=dark] .colab-df-quickchart {\n",
              "    background-color: #3B4455;\n",
              "    fill: #D2E3FC;\n",
              "  }\n",
              "\n",
              "  [theme=dark] .colab-df-quickchart:hover {\n",
              "    background-color: #434B5C;\n",
              "    box-shadow: 0px 1px 3px 1px rgba(0, 0, 0, 0.15);\n",
              "    filter: drop-shadow(0px 1px 2px rgba(0, 0, 0, 0.3));\n",
              "    fill: #FFFFFF;\n",
              "  }\n",
              "</style>\n",
              "\n",
              "    <script>\n",
              "      async function quickchart(key) {\n",
              "        const containerElement = document.querySelector('#' + key);\n",
              "        const charts = await google.colab.kernel.invokeFunction(\n",
              "            'suggestCharts', [key], {});\n",
              "      }\n",
              "    </script>\n",
              "\n",
              "      <script>\n",
              "\n",
              "function displayQuickchartButton(domScope) {\n",
              "  let quickchartButtonEl =\n",
              "    domScope.querySelector('#df-0ce10166-eb39-415f-bc54-6986eb4521e1 button.colab-df-quickchart');\n",
              "  quickchartButtonEl.style.display =\n",
              "    google.colab.kernel.accessAllowed ? 'block' : 'none';\n",
              "}\n",
              "\n",
              "        displayQuickchartButton(document);\n",
              "      </script>\n",
              "      <style>\n",
              "    .colab-df-container {\n",
              "      display:flex;\n",
              "      flex-wrap:wrap;\n",
              "      gap: 12px;\n",
              "    }\n",
              "\n",
              "    .colab-df-convert {\n",
              "      background-color: #E8F0FE;\n",
              "      border: none;\n",
              "      border-radius: 50%;\n",
              "      cursor: pointer;\n",
              "      display: none;\n",
              "      fill: #1967D2;\n",
              "      height: 32px;\n",
              "      padding: 0 0 0 0;\n",
              "      width: 32px;\n",
              "    }\n",
              "\n",
              "    .colab-df-convert:hover {\n",
              "      background-color: #E2EBFA;\n",
              "      box-shadow: 0px 1px 2px rgba(60, 64, 67, 0.3), 0px 1px 3px 1px rgba(60, 64, 67, 0.15);\n",
              "      fill: #174EA6;\n",
              "    }\n",
              "\n",
              "    [theme=dark] .colab-df-convert {\n",
              "      background-color: #3B4455;\n",
              "      fill: #D2E3FC;\n",
              "    }\n",
              "\n",
              "    [theme=dark] .colab-df-convert:hover {\n",
              "      background-color: #434B5C;\n",
              "      box-shadow: 0px 1px 3px 1px rgba(0, 0, 0, 0.15);\n",
              "      filter: drop-shadow(0px 1px 2px rgba(0, 0, 0, 0.3));\n",
              "      fill: #FFFFFF;\n",
              "    }\n",
              "  </style>\n",
              "\n",
              "      <script>\n",
              "        const buttonEl =\n",
              "          document.querySelector('#df-52fdd153-56ce-4e09-81be-9895350dfc86 button.colab-df-convert');\n",
              "        buttonEl.style.display =\n",
              "          google.colab.kernel.accessAllowed ? 'block' : 'none';\n",
              "\n",
              "        async function convertToInteractive(key) {\n",
              "          const element = document.querySelector('#df-52fdd153-56ce-4e09-81be-9895350dfc86');\n",
              "          const dataTable =\n",
              "            await google.colab.kernel.invokeFunction('convertToInteractive',\n",
              "                                                     [key], {});\n",
              "          if (!dataTable) return;\n",
              "\n",
              "          const docLinkHtml = 'Like what you see? Visit the ' +\n",
              "            '<a target=\"_blank\" href=https://colab.research.google.com/notebooks/data_table.ipynb>data table notebook</a>'\n",
              "            + ' to learn more about interactive tables.';\n",
              "          element.innerHTML = '';\n",
              "          dataTable['output_type'] = 'display_data';\n",
              "          await google.colab.output.renderOutput(dataTable, element);\n",
              "          const docLink = document.createElement('div');\n",
              "          docLink.innerHTML = docLinkHtml;\n",
              "          element.appendChild(docLink);\n",
              "        }\n",
              "      </script>\n",
              "    </div>\n",
              "  </div>\n"
            ]
          },
          "metadata": {},
          "execution_count": 24
        }
      ]
    },
    {
      "cell_type": "code",
      "source": [
        "df.head(3)"
      ],
      "metadata": {
        "colab": {
          "base_uri": "https://localhost:8080/",
          "height": 294
        },
        "id": "tfE-9sX1481y",
        "outputId": "06e6a05a-45b8-4525-e9cc-ec032cf7f8f9"
      },
      "execution_count": 25,
      "outputs": [
        {
          "output_type": "execute_result",
          "data": {
            "text/plain": [
              "  성별(1)    시점     6세     7세     8세     9세    10세    11세    12세    13세    14세  \\\n",
              "0    남자  2015  121.3  128.0  133.6  139.6  144.7  151.8  160.3  165.7  170.5   \n",
              "1    남자  2016  121.5  128.3  133.9  139.1  145.1  152.0  160.3  166.4  170.4   \n",
              "2    남자  2017  122.1  128.1  134.2  139.7  145.3  152.5  160.7  166.2  170.6   \n",
              "\n",
              "     15세    16세    17세  \n",
              "0  172.7  172.7  173.7  \n",
              "1  172.7  135.5  174.1  \n",
              "2  172.9  173.2  173.9  "
            ],
            "text/html": [
              "\n",
              "\n",
              "  <div id=\"df-54bf3295-b47f-45dd-9b27-39a0b5f34785\">\n",
              "    <div class=\"colab-df-container\">\n",
              "      <div>\n",
              "<style scoped>\n",
              "    .dataframe tbody tr th:only-of-type {\n",
              "        vertical-align: middle;\n",
              "    }\n",
              "\n",
              "    .dataframe tbody tr th {\n",
              "        vertical-align: top;\n",
              "    }\n",
              "\n",
              "    .dataframe thead th {\n",
              "        text-align: right;\n",
              "    }\n",
              "</style>\n",
              "<table border=\"1\" class=\"dataframe\">\n",
              "  <thead>\n",
              "    <tr style=\"text-align: right;\">\n",
              "      <th></th>\n",
              "      <th>성별(1)</th>\n",
              "      <th>시점</th>\n",
              "      <th>6세</th>\n",
              "      <th>7세</th>\n",
              "      <th>8세</th>\n",
              "      <th>9세</th>\n",
              "      <th>10세</th>\n",
              "      <th>11세</th>\n",
              "      <th>12세</th>\n",
              "      <th>13세</th>\n",
              "      <th>14세</th>\n",
              "      <th>15세</th>\n",
              "      <th>16세</th>\n",
              "      <th>17세</th>\n",
              "    </tr>\n",
              "  </thead>\n",
              "  <tbody>\n",
              "    <tr>\n",
              "      <th>0</th>\n",
              "      <td>남자</td>\n",
              "      <td>2015</td>\n",
              "      <td>121.3</td>\n",
              "      <td>128.0</td>\n",
              "      <td>133.6</td>\n",
              "      <td>139.6</td>\n",
              "      <td>144.7</td>\n",
              "      <td>151.8</td>\n",
              "      <td>160.3</td>\n",
              "      <td>165.7</td>\n",
              "      <td>170.5</td>\n",
              "      <td>172.7</td>\n",
              "      <td>172.7</td>\n",
              "      <td>173.7</td>\n",
              "    </tr>\n",
              "    <tr>\n",
              "      <th>1</th>\n",
              "      <td>남자</td>\n",
              "      <td>2016</td>\n",
              "      <td>121.5</td>\n",
              "      <td>128.3</td>\n",
              "      <td>133.9</td>\n",
              "      <td>139.1</td>\n",
              "      <td>145.1</td>\n",
              "      <td>152.0</td>\n",
              "      <td>160.3</td>\n",
              "      <td>166.4</td>\n",
              "      <td>170.4</td>\n",
              "      <td>172.7</td>\n",
              "      <td>135.5</td>\n",
              "      <td>174.1</td>\n",
              "    </tr>\n",
              "    <tr>\n",
              "      <th>2</th>\n",
              "      <td>남자</td>\n",
              "      <td>2017</td>\n",
              "      <td>122.1</td>\n",
              "      <td>128.1</td>\n",
              "      <td>134.2</td>\n",
              "      <td>139.7</td>\n",
              "      <td>145.3</td>\n",
              "      <td>152.5</td>\n",
              "      <td>160.7</td>\n",
              "      <td>166.2</td>\n",
              "      <td>170.6</td>\n",
              "      <td>172.9</td>\n",
              "      <td>173.2</td>\n",
              "      <td>173.9</td>\n",
              "    </tr>\n",
              "  </tbody>\n",
              "</table>\n",
              "</div>\n",
              "      <button class=\"colab-df-convert\" onclick=\"convertToInteractive('df-54bf3295-b47f-45dd-9b27-39a0b5f34785')\"\n",
              "              title=\"Convert this dataframe to an interactive table.\"\n",
              "              style=\"display:none;\">\n",
              "\n",
              "  <svg xmlns=\"http://www.w3.org/2000/svg\" height=\"24px\"viewBox=\"0 0 24 24\"\n",
              "       width=\"24px\">\n",
              "    <path d=\"M0 0h24v24H0V0z\" fill=\"none\"/>\n",
              "    <path d=\"M18.56 5.44l.94 2.06.94-2.06 2.06-.94-2.06-.94-.94-2.06-.94 2.06-2.06.94zm-11 1L8.5 8.5l.94-2.06 2.06-.94-2.06-.94L8.5 2.5l-.94 2.06-2.06.94zm10 10l.94 2.06.94-2.06 2.06-.94-2.06-.94-.94-2.06-.94 2.06-2.06.94z\"/><path d=\"M17.41 7.96l-1.37-1.37c-.4-.4-.92-.59-1.43-.59-.52 0-1.04.2-1.43.59L10.3 9.45l-7.72 7.72c-.78.78-.78 2.05 0 2.83L4 21.41c.39.39.9.59 1.41.59.51 0 1.02-.2 1.41-.59l7.78-7.78 2.81-2.81c.8-.78.8-2.07 0-2.86zM5.41 20L4 18.59l7.72-7.72 1.47 1.35L5.41 20z\"/>\n",
              "  </svg>\n",
              "      </button>\n",
              "\n",
              "\n",
              "\n",
              "    <div id=\"df-8873819b-a52d-4db8-beab-32bac8703dca\">\n",
              "      <button class=\"colab-df-quickchart\" onclick=\"quickchart('df-8873819b-a52d-4db8-beab-32bac8703dca')\"\n",
              "              title=\"Suggest charts.\"\n",
              "              style=\"display:none;\">\n",
              "\n",
              "<svg xmlns=\"http://www.w3.org/2000/svg\" height=\"24px\"viewBox=\"0 0 24 24\"\n",
              "     width=\"24px\">\n",
              "    <g>\n",
              "        <path d=\"M19 3H5c-1.1 0-2 .9-2 2v14c0 1.1.9 2 2 2h14c1.1 0 2-.9 2-2V5c0-1.1-.9-2-2-2zM9 17H7v-7h2v7zm4 0h-2V7h2v10zm4 0h-2v-4h2v4z\"/>\n",
              "    </g>\n",
              "</svg>\n",
              "      </button>\n",
              "    </div>\n",
              "\n",
              "<style>\n",
              "  .colab-df-quickchart {\n",
              "    background-color: #E8F0FE;\n",
              "    border: none;\n",
              "    border-radius: 50%;\n",
              "    cursor: pointer;\n",
              "    display: none;\n",
              "    fill: #1967D2;\n",
              "    height: 32px;\n",
              "    padding: 0 0 0 0;\n",
              "    width: 32px;\n",
              "  }\n",
              "\n",
              "  .colab-df-quickchart:hover {\n",
              "    background-color: #E2EBFA;\n",
              "    box-shadow: 0px 1px 2px rgba(60, 64, 67, 0.3), 0px 1px 3px 1px rgba(60, 64, 67, 0.15);\n",
              "    fill: #174EA6;\n",
              "  }\n",
              "\n",
              "  [theme=dark] .colab-df-quickchart {\n",
              "    background-color: #3B4455;\n",
              "    fill: #D2E3FC;\n",
              "  }\n",
              "\n",
              "  [theme=dark] .colab-df-quickchart:hover {\n",
              "    background-color: #434B5C;\n",
              "    box-shadow: 0px 1px 3px 1px rgba(0, 0, 0, 0.15);\n",
              "    filter: drop-shadow(0px 1px 2px rgba(0, 0, 0, 0.3));\n",
              "    fill: #FFFFFF;\n",
              "  }\n",
              "</style>\n",
              "\n",
              "    <script>\n",
              "      async function quickchart(key) {\n",
              "        const containerElement = document.querySelector('#' + key);\n",
              "        const charts = await google.colab.kernel.invokeFunction(\n",
              "            'suggestCharts', [key], {});\n",
              "      }\n",
              "    </script>\n",
              "\n",
              "      <script>\n",
              "\n",
              "function displayQuickchartButton(domScope) {\n",
              "  let quickchartButtonEl =\n",
              "    domScope.querySelector('#df-8873819b-a52d-4db8-beab-32bac8703dca button.colab-df-quickchart');\n",
              "  quickchartButtonEl.style.display =\n",
              "    google.colab.kernel.accessAllowed ? 'block' : 'none';\n",
              "}\n",
              "\n",
              "        displayQuickchartButton(document);\n",
              "      </script>\n",
              "      <style>\n",
              "    .colab-df-container {\n",
              "      display:flex;\n",
              "      flex-wrap:wrap;\n",
              "      gap: 12px;\n",
              "    }\n",
              "\n",
              "    .colab-df-convert {\n",
              "      background-color: #E8F0FE;\n",
              "      border: none;\n",
              "      border-radius: 50%;\n",
              "      cursor: pointer;\n",
              "      display: none;\n",
              "      fill: #1967D2;\n",
              "      height: 32px;\n",
              "      padding: 0 0 0 0;\n",
              "      width: 32px;\n",
              "    }\n",
              "\n",
              "    .colab-df-convert:hover {\n",
              "      background-color: #E2EBFA;\n",
              "      box-shadow: 0px 1px 2px rgba(60, 64, 67, 0.3), 0px 1px 3px 1px rgba(60, 64, 67, 0.15);\n",
              "      fill: #174EA6;\n",
              "    }\n",
              "\n",
              "    [theme=dark] .colab-df-convert {\n",
              "      background-color: #3B4455;\n",
              "      fill: #D2E3FC;\n",
              "    }\n",
              "\n",
              "    [theme=dark] .colab-df-convert:hover {\n",
              "      background-color: #434B5C;\n",
              "      box-shadow: 0px 1px 3px 1px rgba(0, 0, 0, 0.15);\n",
              "      filter: drop-shadow(0px 1px 2px rgba(0, 0, 0, 0.3));\n",
              "      fill: #FFFFFF;\n",
              "    }\n",
              "  </style>\n",
              "\n",
              "      <script>\n",
              "        const buttonEl =\n",
              "          document.querySelector('#df-54bf3295-b47f-45dd-9b27-39a0b5f34785 button.colab-df-convert');\n",
              "        buttonEl.style.display =\n",
              "          google.colab.kernel.accessAllowed ? 'block' : 'none';\n",
              "\n",
              "        async function convertToInteractive(key) {\n",
              "          const element = document.querySelector('#df-54bf3295-b47f-45dd-9b27-39a0b5f34785');\n",
              "          const dataTable =\n",
              "            await google.colab.kernel.invokeFunction('convertToInteractive',\n",
              "                                                     [key], {});\n",
              "          if (!dataTable) return;\n",
              "\n",
              "          const docLinkHtml = 'Like what you see? Visit the ' +\n",
              "            '<a target=\"_blank\" href=https://colab.research.google.com/notebooks/data_table.ipynb>data table notebook</a>'\n",
              "            + ' to learn more about interactive tables.';\n",
              "          element.innerHTML = '';\n",
              "          dataTable['output_type'] = 'display_data';\n",
              "          await google.colab.output.renderOutput(dataTable, element);\n",
              "          const docLink = document.createElement('div');\n",
              "          docLink.innerHTML = docLinkHtml;\n",
              "          element.appendChild(docLink);\n",
              "        }\n",
              "      </script>\n",
              "    </div>\n",
              "  </div>\n"
            ]
          },
          "metadata": {},
          "execution_count": 25
        }
      ]
    },
    {
      "cell_type": "code",
      "source": [
        "df.head(8)"
      ],
      "metadata": {
        "colab": {
          "base_uri": "https://localhost:8080/",
          "height": 440
        },
        "id": "0VFX2GBS4_b6",
        "outputId": "855c6aac-d319-46f4-c9a2-3c22447ddf45"
      },
      "execution_count": 26,
      "outputs": [
        {
          "output_type": "execute_result",
          "data": {
            "text/plain": [
              "  성별(1)    시점     6세     7세     8세     9세    10세    11세    12세    13세    14세  \\\n",
              "0    남자  2015  121.3  128.0  133.6  139.6  144.7  151.8  160.3  165.7  170.5   \n",
              "1    남자  2016  121.5  128.3  133.9  139.1  145.1  152.0  160.3  166.4  170.4   \n",
              "2    남자  2017  122.1  128.1  134.2  139.7  145.3  152.5  160.7  166.2  170.6   \n",
              "3    남자  2018  122.1  128.0  133.9  139.8  145.1  151.9  161.3  166.7  171.2   \n",
              "4    남자  2019  122.0  128.6  134.6  139.9  145.1  151.9  160.7  167.8  170.6   \n",
              "5    남자  2021  124.1  129.5  135.3  141.4  147.9  153.9  162.3  167.6  171.4   \n",
              "\n",
              "     15세    16세    17세  \n",
              "0  172.7  172.7  173.7  \n",
              "1  172.7  135.5  174.1  \n",
              "2  172.9  173.2  173.9  \n",
              "3  172.9  173.4  174.2  \n",
              "4  173.3  173.8  174.4  \n",
              "5  173.3  174.0  173.7  "
            ],
            "text/html": [
              "\n",
              "\n",
              "  <div id=\"df-6f6597f1-ae4c-41ba-b57e-f39201e0325a\">\n",
              "    <div class=\"colab-df-container\">\n",
              "      <div>\n",
              "<style scoped>\n",
              "    .dataframe tbody tr th:only-of-type {\n",
              "        vertical-align: middle;\n",
              "    }\n",
              "\n",
              "    .dataframe tbody tr th {\n",
              "        vertical-align: top;\n",
              "    }\n",
              "\n",
              "    .dataframe thead th {\n",
              "        text-align: right;\n",
              "    }\n",
              "</style>\n",
              "<table border=\"1\" class=\"dataframe\">\n",
              "  <thead>\n",
              "    <tr style=\"text-align: right;\">\n",
              "      <th></th>\n",
              "      <th>성별(1)</th>\n",
              "      <th>시점</th>\n",
              "      <th>6세</th>\n",
              "      <th>7세</th>\n",
              "      <th>8세</th>\n",
              "      <th>9세</th>\n",
              "      <th>10세</th>\n",
              "      <th>11세</th>\n",
              "      <th>12세</th>\n",
              "      <th>13세</th>\n",
              "      <th>14세</th>\n",
              "      <th>15세</th>\n",
              "      <th>16세</th>\n",
              "      <th>17세</th>\n",
              "    </tr>\n",
              "  </thead>\n",
              "  <tbody>\n",
              "    <tr>\n",
              "      <th>0</th>\n",
              "      <td>남자</td>\n",
              "      <td>2015</td>\n",
              "      <td>121.3</td>\n",
              "      <td>128.0</td>\n",
              "      <td>133.6</td>\n",
              "      <td>139.6</td>\n",
              "      <td>144.7</td>\n",
              "      <td>151.8</td>\n",
              "      <td>160.3</td>\n",
              "      <td>165.7</td>\n",
              "      <td>170.5</td>\n",
              "      <td>172.7</td>\n",
              "      <td>172.7</td>\n",
              "      <td>173.7</td>\n",
              "    </tr>\n",
              "    <tr>\n",
              "      <th>1</th>\n",
              "      <td>남자</td>\n",
              "      <td>2016</td>\n",
              "      <td>121.5</td>\n",
              "      <td>128.3</td>\n",
              "      <td>133.9</td>\n",
              "      <td>139.1</td>\n",
              "      <td>145.1</td>\n",
              "      <td>152.0</td>\n",
              "      <td>160.3</td>\n",
              "      <td>166.4</td>\n",
              "      <td>170.4</td>\n",
              "      <td>172.7</td>\n",
              "      <td>135.5</td>\n",
              "      <td>174.1</td>\n",
              "    </tr>\n",
              "    <tr>\n",
              "      <th>2</th>\n",
              "      <td>남자</td>\n",
              "      <td>2017</td>\n",
              "      <td>122.1</td>\n",
              "      <td>128.1</td>\n",
              "      <td>134.2</td>\n",
              "      <td>139.7</td>\n",
              "      <td>145.3</td>\n",
              "      <td>152.5</td>\n",
              "      <td>160.7</td>\n",
              "      <td>166.2</td>\n",
              "      <td>170.6</td>\n",
              "      <td>172.9</td>\n",
              "      <td>173.2</td>\n",
              "      <td>173.9</td>\n",
              "    </tr>\n",
              "    <tr>\n",
              "      <th>3</th>\n",
              "      <td>남자</td>\n",
              "      <td>2018</td>\n",
              "      <td>122.1</td>\n",
              "      <td>128.0</td>\n",
              "      <td>133.9</td>\n",
              "      <td>139.8</td>\n",
              "      <td>145.1</td>\n",
              "      <td>151.9</td>\n",
              "      <td>161.3</td>\n",
              "      <td>166.7</td>\n",
              "      <td>171.2</td>\n",
              "      <td>172.9</td>\n",
              "      <td>173.4</td>\n",
              "      <td>174.2</td>\n",
              "    </tr>\n",
              "    <tr>\n",
              "      <th>4</th>\n",
              "      <td>남자</td>\n",
              "      <td>2019</td>\n",
              "      <td>122.0</td>\n",
              "      <td>128.6</td>\n",
              "      <td>134.6</td>\n",
              "      <td>139.9</td>\n",
              "      <td>145.1</td>\n",
              "      <td>151.9</td>\n",
              "      <td>160.7</td>\n",
              "      <td>167.8</td>\n",
              "      <td>170.6</td>\n",
              "      <td>173.3</td>\n",
              "      <td>173.8</td>\n",
              "      <td>174.4</td>\n",
              "    </tr>\n",
              "    <tr>\n",
              "      <th>5</th>\n",
              "      <td>남자</td>\n",
              "      <td>2021</td>\n",
              "      <td>124.1</td>\n",
              "      <td>129.5</td>\n",
              "      <td>135.3</td>\n",
              "      <td>141.4</td>\n",
              "      <td>147.9</td>\n",
              "      <td>153.9</td>\n",
              "      <td>162.3</td>\n",
              "      <td>167.6</td>\n",
              "      <td>171.4</td>\n",
              "      <td>173.3</td>\n",
              "      <td>174.0</td>\n",
              "      <td>173.7</td>\n",
              "    </tr>\n",
              "  </tbody>\n",
              "</table>\n",
              "</div>\n",
              "      <button class=\"colab-df-convert\" onclick=\"convertToInteractive('df-6f6597f1-ae4c-41ba-b57e-f39201e0325a')\"\n",
              "              title=\"Convert this dataframe to an interactive table.\"\n",
              "              style=\"display:none;\">\n",
              "\n",
              "  <svg xmlns=\"http://www.w3.org/2000/svg\" height=\"24px\"viewBox=\"0 0 24 24\"\n",
              "       width=\"24px\">\n",
              "    <path d=\"M0 0h24v24H0V0z\" fill=\"none\"/>\n",
              "    <path d=\"M18.56 5.44l.94 2.06.94-2.06 2.06-.94-2.06-.94-.94-2.06-.94 2.06-2.06.94zm-11 1L8.5 8.5l.94-2.06 2.06-.94-2.06-.94L8.5 2.5l-.94 2.06-2.06.94zm10 10l.94 2.06.94-2.06 2.06-.94-2.06-.94-.94-2.06-.94 2.06-2.06.94z\"/><path d=\"M17.41 7.96l-1.37-1.37c-.4-.4-.92-.59-1.43-.59-.52 0-1.04.2-1.43.59L10.3 9.45l-7.72 7.72c-.78.78-.78 2.05 0 2.83L4 21.41c.39.39.9.59 1.41.59.51 0 1.02-.2 1.41-.59l7.78-7.78 2.81-2.81c.8-.78.8-2.07 0-2.86zM5.41 20L4 18.59l7.72-7.72 1.47 1.35L5.41 20z\"/>\n",
              "  </svg>\n",
              "      </button>\n",
              "\n",
              "\n",
              "\n",
              "    <div id=\"df-b3d19fd1-d10b-44b2-bb0c-e37a1cd038f2\">\n",
              "      <button class=\"colab-df-quickchart\" onclick=\"quickchart('df-b3d19fd1-d10b-44b2-bb0c-e37a1cd038f2')\"\n",
              "              title=\"Suggest charts.\"\n",
              "              style=\"display:none;\">\n",
              "\n",
              "<svg xmlns=\"http://www.w3.org/2000/svg\" height=\"24px\"viewBox=\"0 0 24 24\"\n",
              "     width=\"24px\">\n",
              "    <g>\n",
              "        <path d=\"M19 3H5c-1.1 0-2 .9-2 2v14c0 1.1.9 2 2 2h14c1.1 0 2-.9 2-2V5c0-1.1-.9-2-2-2zM9 17H7v-7h2v7zm4 0h-2V7h2v10zm4 0h-2v-4h2v4z\"/>\n",
              "    </g>\n",
              "</svg>\n",
              "      </button>\n",
              "    </div>\n",
              "\n",
              "<style>\n",
              "  .colab-df-quickchart {\n",
              "    background-color: #E8F0FE;\n",
              "    border: none;\n",
              "    border-radius: 50%;\n",
              "    cursor: pointer;\n",
              "    display: none;\n",
              "    fill: #1967D2;\n",
              "    height: 32px;\n",
              "    padding: 0 0 0 0;\n",
              "    width: 32px;\n",
              "  }\n",
              "\n",
              "  .colab-df-quickchart:hover {\n",
              "    background-color: #E2EBFA;\n",
              "    box-shadow: 0px 1px 2px rgba(60, 64, 67, 0.3), 0px 1px 3px 1px rgba(60, 64, 67, 0.15);\n",
              "    fill: #174EA6;\n",
              "  }\n",
              "\n",
              "  [theme=dark] .colab-df-quickchart {\n",
              "    background-color: #3B4455;\n",
              "    fill: #D2E3FC;\n",
              "  }\n",
              "\n",
              "  [theme=dark] .colab-df-quickchart:hover {\n",
              "    background-color: #434B5C;\n",
              "    box-shadow: 0px 1px 3px 1px rgba(0, 0, 0, 0.15);\n",
              "    filter: drop-shadow(0px 1px 2px rgba(0, 0, 0, 0.3));\n",
              "    fill: #FFFFFF;\n",
              "  }\n",
              "</style>\n",
              "\n",
              "    <script>\n",
              "      async function quickchart(key) {\n",
              "        const containerElement = document.querySelector('#' + key);\n",
              "        const charts = await google.colab.kernel.invokeFunction(\n",
              "            'suggestCharts', [key], {});\n",
              "      }\n",
              "    </script>\n",
              "\n",
              "      <script>\n",
              "\n",
              "function displayQuickchartButton(domScope) {\n",
              "  let quickchartButtonEl =\n",
              "    domScope.querySelector('#df-b3d19fd1-d10b-44b2-bb0c-e37a1cd038f2 button.colab-df-quickchart');\n",
              "  quickchartButtonEl.style.display =\n",
              "    google.colab.kernel.accessAllowed ? 'block' : 'none';\n",
              "}\n",
              "\n",
              "        displayQuickchartButton(document);\n",
              "      </script>\n",
              "      <style>\n",
              "    .colab-df-container {\n",
              "      display:flex;\n",
              "      flex-wrap:wrap;\n",
              "      gap: 12px;\n",
              "    }\n",
              "\n",
              "    .colab-df-convert {\n",
              "      background-color: #E8F0FE;\n",
              "      border: none;\n",
              "      border-radius: 50%;\n",
              "      cursor: pointer;\n",
              "      display: none;\n",
              "      fill: #1967D2;\n",
              "      height: 32px;\n",
              "      padding: 0 0 0 0;\n",
              "      width: 32px;\n",
              "    }\n",
              "\n",
              "    .colab-df-convert:hover {\n",
              "      background-color: #E2EBFA;\n",
              "      box-shadow: 0px 1px 2px rgba(60, 64, 67, 0.3), 0px 1px 3px 1px rgba(60, 64, 67, 0.15);\n",
              "      fill: #174EA6;\n",
              "    }\n",
              "\n",
              "    [theme=dark] .colab-df-convert {\n",
              "      background-color: #3B4455;\n",
              "      fill: #D2E3FC;\n",
              "    }\n",
              "\n",
              "    [theme=dark] .colab-df-convert:hover {\n",
              "      background-color: #434B5C;\n",
              "      box-shadow: 0px 1px 3px 1px rgba(0, 0, 0, 0.15);\n",
              "      filter: drop-shadow(0px 1px 2px rgba(0, 0, 0, 0.3));\n",
              "      fill: #FFFFFF;\n",
              "    }\n",
              "  </style>\n",
              "\n",
              "      <script>\n",
              "        const buttonEl =\n",
              "          document.querySelector('#df-6f6597f1-ae4c-41ba-b57e-f39201e0325a button.colab-df-convert');\n",
              "        buttonEl.style.display =\n",
              "          google.colab.kernel.accessAllowed ? 'block' : 'none';\n",
              "\n",
              "        async function convertToInteractive(key) {\n",
              "          const element = document.querySelector('#df-6f6597f1-ae4c-41ba-b57e-f39201e0325a');\n",
              "          const dataTable =\n",
              "            await google.colab.kernel.invokeFunction('convertToInteractive',\n",
              "                                                     [key], {});\n",
              "          if (!dataTable) return;\n",
              "\n",
              "          const docLinkHtml = 'Like what you see? Visit the ' +\n",
              "            '<a target=\"_blank\" href=https://colab.research.google.com/notebooks/data_table.ipynb>data table notebook</a>'\n",
              "            + ' to learn more about interactive tables.';\n",
              "          element.innerHTML = '';\n",
              "          dataTable['output_type'] = 'display_data';\n",
              "          await google.colab.output.renderOutput(dataTable, element);\n",
              "          const docLink = document.createElement('div');\n",
              "          docLink.innerHTML = docLinkHtml;\n",
              "          element.appendChild(docLink);\n",
              "        }\n",
              "      </script>\n",
              "    </div>\n",
              "  </div>\n"
            ]
          },
          "metadata": {},
          "execution_count": 26
        }
      ]
    },
    {
      "cell_type": "code",
      "source": [
        "df.sample()"
      ],
      "metadata": {
        "colab": {
          "base_uri": "https://localhost:8080/",
          "height": 197
        },
        "id": "Wy7uHM4g5I_y",
        "outputId": "a5e25086-ef9e-4b88-dddf-9744df5868dd"
      },
      "execution_count": 27,
      "outputs": [
        {
          "output_type": "execute_result",
          "data": {
            "text/plain": [
              "  성별(1)    시점     6세     7세     8세     9세    10세    11세    12세    13세    14세  \\\n",
              "3    남자  2018  122.1  128.0  133.9  139.8  145.1  151.9  161.3  166.7  171.2   \n",
              "\n",
              "     15세    16세    17세  \n",
              "3  172.9  173.4  174.2  "
            ],
            "text/html": [
              "\n",
              "\n",
              "  <div id=\"df-997da4c4-1a4f-4ce8-85c2-8791fac6463b\">\n",
              "    <div class=\"colab-df-container\">\n",
              "      <div>\n",
              "<style scoped>\n",
              "    .dataframe tbody tr th:only-of-type {\n",
              "        vertical-align: middle;\n",
              "    }\n",
              "\n",
              "    .dataframe tbody tr th {\n",
              "        vertical-align: top;\n",
              "    }\n",
              "\n",
              "    .dataframe thead th {\n",
              "        text-align: right;\n",
              "    }\n",
              "</style>\n",
              "<table border=\"1\" class=\"dataframe\">\n",
              "  <thead>\n",
              "    <tr style=\"text-align: right;\">\n",
              "      <th></th>\n",
              "      <th>성별(1)</th>\n",
              "      <th>시점</th>\n",
              "      <th>6세</th>\n",
              "      <th>7세</th>\n",
              "      <th>8세</th>\n",
              "      <th>9세</th>\n",
              "      <th>10세</th>\n",
              "      <th>11세</th>\n",
              "      <th>12세</th>\n",
              "      <th>13세</th>\n",
              "      <th>14세</th>\n",
              "      <th>15세</th>\n",
              "      <th>16세</th>\n",
              "      <th>17세</th>\n",
              "    </tr>\n",
              "  </thead>\n",
              "  <tbody>\n",
              "    <tr>\n",
              "      <th>3</th>\n",
              "      <td>남자</td>\n",
              "      <td>2018</td>\n",
              "      <td>122.1</td>\n",
              "      <td>128.0</td>\n",
              "      <td>133.9</td>\n",
              "      <td>139.8</td>\n",
              "      <td>145.1</td>\n",
              "      <td>151.9</td>\n",
              "      <td>161.3</td>\n",
              "      <td>166.7</td>\n",
              "      <td>171.2</td>\n",
              "      <td>172.9</td>\n",
              "      <td>173.4</td>\n",
              "      <td>174.2</td>\n",
              "    </tr>\n",
              "  </tbody>\n",
              "</table>\n",
              "</div>\n",
              "      <button class=\"colab-df-convert\" onclick=\"convertToInteractive('df-997da4c4-1a4f-4ce8-85c2-8791fac6463b')\"\n",
              "              title=\"Convert this dataframe to an interactive table.\"\n",
              "              style=\"display:none;\">\n",
              "\n",
              "  <svg xmlns=\"http://www.w3.org/2000/svg\" height=\"24px\"viewBox=\"0 0 24 24\"\n",
              "       width=\"24px\">\n",
              "    <path d=\"M0 0h24v24H0V0z\" fill=\"none\"/>\n",
              "    <path d=\"M18.56 5.44l.94 2.06.94-2.06 2.06-.94-2.06-.94-.94-2.06-.94 2.06-2.06.94zm-11 1L8.5 8.5l.94-2.06 2.06-.94-2.06-.94L8.5 2.5l-.94 2.06-2.06.94zm10 10l.94 2.06.94-2.06 2.06-.94-2.06-.94-.94-2.06-.94 2.06-2.06.94z\"/><path d=\"M17.41 7.96l-1.37-1.37c-.4-.4-.92-.59-1.43-.59-.52 0-1.04.2-1.43.59L10.3 9.45l-7.72 7.72c-.78.78-.78 2.05 0 2.83L4 21.41c.39.39.9.59 1.41.59.51 0 1.02-.2 1.41-.59l7.78-7.78 2.81-2.81c.8-.78.8-2.07 0-2.86zM5.41 20L4 18.59l7.72-7.72 1.47 1.35L5.41 20z\"/>\n",
              "  </svg>\n",
              "      </button>\n",
              "\n",
              "\n",
              "\n",
              "    <div id=\"df-86225160-e791-4a2f-a78d-4b05fa249e48\">\n",
              "      <button class=\"colab-df-quickchart\" onclick=\"quickchart('df-86225160-e791-4a2f-a78d-4b05fa249e48')\"\n",
              "              title=\"Suggest charts.\"\n",
              "              style=\"display:none;\">\n",
              "\n",
              "<svg xmlns=\"http://www.w3.org/2000/svg\" height=\"24px\"viewBox=\"0 0 24 24\"\n",
              "     width=\"24px\">\n",
              "    <g>\n",
              "        <path d=\"M19 3H5c-1.1 0-2 .9-2 2v14c0 1.1.9 2 2 2h14c1.1 0 2-.9 2-2V5c0-1.1-.9-2-2-2zM9 17H7v-7h2v7zm4 0h-2V7h2v10zm4 0h-2v-4h2v4z\"/>\n",
              "    </g>\n",
              "</svg>\n",
              "      </button>\n",
              "    </div>\n",
              "\n",
              "<style>\n",
              "  .colab-df-quickchart {\n",
              "    background-color: #E8F0FE;\n",
              "    border: none;\n",
              "    border-radius: 50%;\n",
              "    cursor: pointer;\n",
              "    display: none;\n",
              "    fill: #1967D2;\n",
              "    height: 32px;\n",
              "    padding: 0 0 0 0;\n",
              "    width: 32px;\n",
              "  }\n",
              "\n",
              "  .colab-df-quickchart:hover {\n",
              "    background-color: #E2EBFA;\n",
              "    box-shadow: 0px 1px 2px rgba(60, 64, 67, 0.3), 0px 1px 3px 1px rgba(60, 64, 67, 0.15);\n",
              "    fill: #174EA6;\n",
              "  }\n",
              "\n",
              "  [theme=dark] .colab-df-quickchart {\n",
              "    background-color: #3B4455;\n",
              "    fill: #D2E3FC;\n",
              "  }\n",
              "\n",
              "  [theme=dark] .colab-df-quickchart:hover {\n",
              "    background-color: #434B5C;\n",
              "    box-shadow: 0px 1px 3px 1px rgba(0, 0, 0, 0.15);\n",
              "    filter: drop-shadow(0px 1px 2px rgba(0, 0, 0, 0.3));\n",
              "    fill: #FFFFFF;\n",
              "  }\n",
              "</style>\n",
              "\n",
              "    <script>\n",
              "      async function quickchart(key) {\n",
              "        const containerElement = document.querySelector('#' + key);\n",
              "        const charts = await google.colab.kernel.invokeFunction(\n",
              "            'suggestCharts', [key], {});\n",
              "      }\n",
              "    </script>\n",
              "\n",
              "      <script>\n",
              "\n",
              "function displayQuickchartButton(domScope) {\n",
              "  let quickchartButtonEl =\n",
              "    domScope.querySelector('#df-86225160-e791-4a2f-a78d-4b05fa249e48 button.colab-df-quickchart');\n",
              "  quickchartButtonEl.style.display =\n",
              "    google.colab.kernel.accessAllowed ? 'block' : 'none';\n",
              "}\n",
              "\n",
              "        displayQuickchartButton(document);\n",
              "      </script>\n",
              "      <style>\n",
              "    .colab-df-container {\n",
              "      display:flex;\n",
              "      flex-wrap:wrap;\n",
              "      gap: 12px;\n",
              "    }\n",
              "\n",
              "    .colab-df-convert {\n",
              "      background-color: #E8F0FE;\n",
              "      border: none;\n",
              "      border-radius: 50%;\n",
              "      cursor: pointer;\n",
              "      display: none;\n",
              "      fill: #1967D2;\n",
              "      height: 32px;\n",
              "      padding: 0 0 0 0;\n",
              "      width: 32px;\n",
              "    }\n",
              "\n",
              "    .colab-df-convert:hover {\n",
              "      background-color: #E2EBFA;\n",
              "      box-shadow: 0px 1px 2px rgba(60, 64, 67, 0.3), 0px 1px 3px 1px rgba(60, 64, 67, 0.15);\n",
              "      fill: #174EA6;\n",
              "    }\n",
              "\n",
              "    [theme=dark] .colab-df-convert {\n",
              "      background-color: #3B4455;\n",
              "      fill: #D2E3FC;\n",
              "    }\n",
              "\n",
              "    [theme=dark] .colab-df-convert:hover {\n",
              "      background-color: #434B5C;\n",
              "      box-shadow: 0px 1px 3px 1px rgba(0, 0, 0, 0.15);\n",
              "      filter: drop-shadow(0px 1px 2px rgba(0, 0, 0, 0.3));\n",
              "      fill: #FFFFFF;\n",
              "    }\n",
              "  </style>\n",
              "\n",
              "      <script>\n",
              "        const buttonEl =\n",
              "          document.querySelector('#df-997da4c4-1a4f-4ce8-85c2-8791fac6463b button.colab-df-convert');\n",
              "        buttonEl.style.display =\n",
              "          google.colab.kernel.accessAllowed ? 'block' : 'none';\n",
              "\n",
              "        async function convertToInteractive(key) {\n",
              "          const element = document.querySelector('#df-997da4c4-1a4f-4ce8-85c2-8791fac6463b');\n",
              "          const dataTable =\n",
              "            await google.colab.kernel.invokeFunction('convertToInteractive',\n",
              "                                                     [key], {});\n",
              "          if (!dataTable) return;\n",
              "\n",
              "          const docLinkHtml = 'Like what you see? Visit the ' +\n",
              "            '<a target=\"_blank\" href=https://colab.research.google.com/notebooks/data_table.ipynb>data table notebook</a>'\n",
              "            + ' to learn more about interactive tables.';\n",
              "          element.innerHTML = '';\n",
              "          dataTable['output_type'] = 'display_data';\n",
              "          await google.colab.output.renderOutput(dataTable, element);\n",
              "          const docLink = document.createElement('div');\n",
              "          docLink.innerHTML = docLinkHtml;\n",
              "          element.appendChild(docLink);\n",
              "        }\n",
              "      </script>\n",
              "    </div>\n",
              "  </div>\n"
            ]
          },
          "metadata": {},
          "execution_count": 27
        }
      ]
    },
    {
      "cell_type": "markdown",
      "source": [
        "ㅤ"
      ],
      "metadata": {
        "id": "DKaa7oN5bByY"
      }
    },
    {
      "cell_type": "markdown",
      "source": [
        "### **2) 행과 열만 출력하기**"
      ],
      "metadata": {
        "id": "CL-LCK4SFQud"
      }
    },
    {
      "cell_type": "markdown",
      "source": [
        "\n",
        "\n",
        "\n",
        "*   .index : 인덱스를 출력합니다. (행)\n",
        "\n",
        "*   .columns : 칼럼을 출력합니다. (열)\n",
        "\n"
      ],
      "metadata": {
        "id": "JkyGBUHhbCEH"
      }
    },
    {
      "cell_type": "code",
      "source": [
        "df.index\n",
        "df.columns"
      ],
      "metadata": {
        "colab": {
          "base_uri": "https://localhost:8080/"
        },
        "id": "dZr4fIwj7wOh",
        "outputId": "7348194e-c9d8-4091-cd92-687c6a1a80ab"
      },
      "execution_count": 29,
      "outputs": [
        {
          "output_type": "execute_result",
          "data": {
            "text/plain": [
              "Index(['성별(1)', '시점', '6세', '7세', '8세', '9세', '10세', '11세', '12세', '13세',\n",
              "       '14세', '15세', '16세', '17세'],\n",
              "      dtype='object')"
            ]
          },
          "metadata": {},
          "execution_count": 29
        }
      ]
    },
    {
      "cell_type": "markdown",
      "source": [
        "인덱스와 칼럼 값이 무엇인지 한번에 확인할 때 유용한 속성입니다."
      ],
      "metadata": {
        "id": "hdVqGEaLrKwV"
      }
    },
    {
      "cell_type": "markdown",
      "source": [
        "ㅤ"
      ],
      "metadata": {
        "id": "LJpI-qzwckya"
      }
    },
    {
      "cell_type": "markdown",
      "source": [
        "### **3) 데이터 값 출력하기**"
      ],
      "metadata": {
        "id": "MA0i8tkLFWSy"
      }
    },
    {
      "cell_type": "markdown",
      "source": [
        "\n",
        "\n",
        "\n",
        "*   .values : 자료의 데이터 값을 모두 출력합니다.\n",
        "\n",
        "\n"
      ],
      "metadata": {
        "id": "gxJY2YdlclRK"
      }
    },
    {
      "cell_type": "code",
      "source": [
        "df.values"
      ],
      "metadata": {
        "colab": {
          "base_uri": "https://localhost:8080/"
        },
        "id": "ymdaFGtH75D5",
        "outputId": "b9479027-1950-4c6a-a00a-c8187d9cb492"
      },
      "execution_count": 30,
      "outputs": [
        {
          "output_type": "execute_result",
          "data": {
            "text/plain": [
              "array([['남자', 2015, 121.3, 128.0, 133.6, 139.6, 144.7, 151.8, 160.3,\n",
              "        165.7, 170.5, 172.7, 172.7, 173.7],\n",
              "       ['남자', 2016, 121.5, 128.3, 133.9, 139.1, 145.1, 152.0, 160.3,\n",
              "        166.4, 170.4, 172.7, 135.5, 174.1],\n",
              "       ['남자', 2017, 122.1, 128.1, 134.2, 139.7, 145.3, 152.5, 160.7,\n",
              "        166.2, 170.6, 172.9, 173.2, 173.9],\n",
              "       ['남자', 2018, 122.1, 128.0, 133.9, 139.8, 145.1, 151.9, 161.3,\n",
              "        166.7, 171.2, 172.9, 173.4, 174.2],\n",
              "       ['남자', 2019, 122.0, 128.6, 134.6, 139.9, 145.1, 151.9, 160.7,\n",
              "        167.8, 170.6, 173.3, 173.8, 174.4],\n",
              "       ['남자', 2021, 124.1, 129.5, 135.3, 141.4, 147.9, 153.9, 162.3,\n",
              "        167.6, 171.4, 173.3, 174.0, 173.7]], dtype=object)"
            ]
          },
          "metadata": {},
          "execution_count": 30
        }
      ]
    },
    {
      "cell_type": "markdown",
      "source": [
        "array 형태로 모든 데이터 값이 출력됩니다."
      ],
      "metadata": {
        "id": "OlK8TNwjruHk"
      }
    },
    {
      "cell_type": "markdown",
      "source": [
        "ㅤ"
      ],
      "metadata": {
        "id": "w6vl2F3We-Nv"
      }
    },
    {
      "cell_type": "markdown",
      "source": [
        "### **4) 데이터 특징 확인하기**"
      ],
      "metadata": {
        "id": "BEK8aG8pFgRX"
      }
    },
    {
      "cell_type": "markdown",
      "source": [
        "*   [‘칼럼명’].unique() : 해당 칼럼에 할당된 데이터의 고유한 값의 종류 파악할 수 있는 메소드입니다.\n",
        "\n",
        "*   [‘칼럼명’].nunique() : 해당 데이터의 고유한 값의 수 파악할 수 있는 메소드입니다.\n",
        "</br></br>\n",
        "\n",
        "*   .value_counts() :특정 칼럼값의 유형과 데이터값의 건수를 반환하는 메소드입니다. 데이터 분포도를 확인하는데 유용합니다.\n",
        "  - 변수명['칼럼명'].value_counts() : 칼럼명에 확인하고자 하는 칼럼명을 기입한 후 출력합니다.\n",
        "</br></br>\n",
        "\n",
        "*   .describe() : 칼럼 별로 통계 정보 출력하는 메소드입니다.\n",
        "\n",
        "    - 출력 가능한 통계 자료 : count(개수), mean(평균), std(표준편차), min(최솟값), 4분위수(25%, 50%, 75%), max(최댓값)\n",
        "\n",
        "\n"
      ],
      "metadata": {
        "id": "mHIML1uVdCYZ"
      }
    },
    {
      "cell_type": "code",
      "source": [
        "df['6세'].unique()\n"
      ],
      "metadata": {
        "colab": {
          "base_uri": "https://localhost:8080/"
        },
        "id": "S4lhbqsd8Mrh",
        "outputId": "028d9812-7d8b-4eef-94cb-db618b7fe92d"
      },
      "execution_count": 31,
      "outputs": [
        {
          "output_type": "execute_result",
          "data": {
            "text/plain": [
              "array([121.3, 121.5, 122.1, 122. , 124.1])"
            ]
          },
          "metadata": {},
          "execution_count": 31
        }
      ]
    },
    {
      "cell_type": "code",
      "source": [
        "df['6세'].nunique()"
      ],
      "metadata": {
        "colab": {
          "base_uri": "https://localhost:8080/"
        },
        "id": "DqJI0frf8Yxr",
        "outputId": "017beb97-6a92-47f9-b6c2-447a3807160c"
      },
      "execution_count": 32,
      "outputs": [
        {
          "output_type": "execute_result",
          "data": {
            "text/plain": [
              "5"
            ]
          },
          "metadata": {},
          "execution_count": 32
        }
      ]
    },
    {
      "cell_type": "code",
      "source": [
        "value_count = df['6세'].value_counts()\n",
        "print(value_count)"
      ],
      "metadata": {
        "colab": {
          "base_uri": "https://localhost:8080/"
        },
        "id": "AJpXnRuh8ido",
        "outputId": "4689ea38-46e8-4f13-9885-430f69064ce9"
      },
      "execution_count": 34,
      "outputs": [
        {
          "output_type": "stream",
          "name": "stdout",
          "text": [
            "122.1    2\n",
            "121.3    1\n",
            "121.5    1\n",
            "122.0    1\n",
            "124.1    1\n",
            "Name: 6세, dtype: int64\n"
          ]
        }
      ]
    },
    {
      "cell_type": "code",
      "source": [
        "df.describe(include='all')"
      ],
      "metadata": {
        "colab": {
          "base_uri": "https://localhost:8080/",
          "height": 493
        },
        "id": "deSlSrE28zW7",
        "outputId": "0ca20b07-f846-4e15-9b54-a82f6e43bad4"
      },
      "execution_count": 37,
      "outputs": [
        {
          "output_type": "execute_result",
          "data": {
            "text/plain": [
              "       성별(1)           시점          6세          7세         8세          9세  \\\n",
              "count      6     6.000000    6.000000    6.000000    6.00000    6.000000   \n",
              "unique     1          NaN         NaN         NaN        NaN         NaN   \n",
              "top       남자          NaN         NaN         NaN        NaN         NaN   \n",
              "freq       6          NaN         NaN         NaN        NaN         NaN   \n",
              "mean     NaN  2017.666667  122.183333  128.416667  134.25000  139.916667   \n",
              "std      NaN     2.160247    0.996828    0.577639    0.61563    0.778246   \n",
              "min      NaN  2015.000000  121.300000  128.000000  133.60000  139.100000   \n",
              "25%      NaN  2016.250000  121.625000  128.025000  133.90000  139.625000   \n",
              "50%      NaN  2017.500000  122.050000  128.200000  134.05000  139.750000   \n",
              "75%      NaN  2018.750000  122.100000  128.525000  134.50000  139.875000   \n",
              "max      NaN  2021.000000  124.100000  129.500000  135.30000  141.400000   \n",
              "\n",
              "               10세         11세         12세         13세         14세  \\\n",
              "count     6.000000    6.000000    6.000000    6.000000    6.000000   \n",
              "unique         NaN         NaN         NaN         NaN         NaN   \n",
              "top            NaN         NaN         NaN         NaN         NaN   \n",
              "freq           NaN         NaN         NaN         NaN         NaN   \n",
              "mean    145.533333  152.333333  160.933333  166.733333  170.783333   \n",
              "std       1.175868    0.806639    0.763326    0.818942    0.411906   \n",
              "min     144.700000  151.800000  160.300000  165.700000  170.400000   \n",
              "25%     145.100000  151.900000  160.400000  166.250000  170.525000   \n",
              "50%     145.100000  151.950000  160.700000  166.550000  170.600000   \n",
              "75%     145.250000  152.375000  161.150000  167.375000  171.050000   \n",
              "max     147.900000  153.900000  162.300000  167.800000  171.400000   \n",
              "\n",
              "               15세         16세         17세  \n",
              "count     6.000000    6.000000    6.000000  \n",
              "unique         NaN         NaN         NaN  \n",
              "top            NaN         NaN         NaN  \n",
              "freq           NaN         NaN         NaN  \n",
              "mean    172.966667  167.100000  174.000000  \n",
              "std       0.273252   15.487543    0.282843  \n",
              "min     172.700000  135.500000  173.700000  \n",
              "25%     172.750000  172.825000  173.750000  \n",
              "50%     172.900000  173.300000  174.000000  \n",
              "75%     173.200000  173.700000  174.175000  \n",
              "max     173.300000  174.000000  174.400000  "
            ],
            "text/html": [
              "\n",
              "\n",
              "  <div id=\"df-9185585f-dbbd-40e6-92c1-75aa16959a32\">\n",
              "    <div class=\"colab-df-container\">\n",
              "      <div>\n",
              "<style scoped>\n",
              "    .dataframe tbody tr th:only-of-type {\n",
              "        vertical-align: middle;\n",
              "    }\n",
              "\n",
              "    .dataframe tbody tr th {\n",
              "        vertical-align: top;\n",
              "    }\n",
              "\n",
              "    .dataframe thead th {\n",
              "        text-align: right;\n",
              "    }\n",
              "</style>\n",
              "<table border=\"1\" class=\"dataframe\">\n",
              "  <thead>\n",
              "    <tr style=\"text-align: right;\">\n",
              "      <th></th>\n",
              "      <th>성별(1)</th>\n",
              "      <th>시점</th>\n",
              "      <th>6세</th>\n",
              "      <th>7세</th>\n",
              "      <th>8세</th>\n",
              "      <th>9세</th>\n",
              "      <th>10세</th>\n",
              "      <th>11세</th>\n",
              "      <th>12세</th>\n",
              "      <th>13세</th>\n",
              "      <th>14세</th>\n",
              "      <th>15세</th>\n",
              "      <th>16세</th>\n",
              "      <th>17세</th>\n",
              "    </tr>\n",
              "  </thead>\n",
              "  <tbody>\n",
              "    <tr>\n",
              "      <th>count</th>\n",
              "      <td>6</td>\n",
              "      <td>6.000000</td>\n",
              "      <td>6.000000</td>\n",
              "      <td>6.000000</td>\n",
              "      <td>6.00000</td>\n",
              "      <td>6.000000</td>\n",
              "      <td>6.000000</td>\n",
              "      <td>6.000000</td>\n",
              "      <td>6.000000</td>\n",
              "      <td>6.000000</td>\n",
              "      <td>6.000000</td>\n",
              "      <td>6.000000</td>\n",
              "      <td>6.000000</td>\n",
              "      <td>6.000000</td>\n",
              "    </tr>\n",
              "    <tr>\n",
              "      <th>unique</th>\n",
              "      <td>1</td>\n",
              "      <td>NaN</td>\n",
              "      <td>NaN</td>\n",
              "      <td>NaN</td>\n",
              "      <td>NaN</td>\n",
              "      <td>NaN</td>\n",
              "      <td>NaN</td>\n",
              "      <td>NaN</td>\n",
              "      <td>NaN</td>\n",
              "      <td>NaN</td>\n",
              "      <td>NaN</td>\n",
              "      <td>NaN</td>\n",
              "      <td>NaN</td>\n",
              "      <td>NaN</td>\n",
              "    </tr>\n",
              "    <tr>\n",
              "      <th>top</th>\n",
              "      <td>남자</td>\n",
              "      <td>NaN</td>\n",
              "      <td>NaN</td>\n",
              "      <td>NaN</td>\n",
              "      <td>NaN</td>\n",
              "      <td>NaN</td>\n",
              "      <td>NaN</td>\n",
              "      <td>NaN</td>\n",
              "      <td>NaN</td>\n",
              "      <td>NaN</td>\n",
              "      <td>NaN</td>\n",
              "      <td>NaN</td>\n",
              "      <td>NaN</td>\n",
              "      <td>NaN</td>\n",
              "    </tr>\n",
              "    <tr>\n",
              "      <th>freq</th>\n",
              "      <td>6</td>\n",
              "      <td>NaN</td>\n",
              "      <td>NaN</td>\n",
              "      <td>NaN</td>\n",
              "      <td>NaN</td>\n",
              "      <td>NaN</td>\n",
              "      <td>NaN</td>\n",
              "      <td>NaN</td>\n",
              "      <td>NaN</td>\n",
              "      <td>NaN</td>\n",
              "      <td>NaN</td>\n",
              "      <td>NaN</td>\n",
              "      <td>NaN</td>\n",
              "      <td>NaN</td>\n",
              "    </tr>\n",
              "    <tr>\n",
              "      <th>mean</th>\n",
              "      <td>NaN</td>\n",
              "      <td>2017.666667</td>\n",
              "      <td>122.183333</td>\n",
              "      <td>128.416667</td>\n",
              "      <td>134.25000</td>\n",
              "      <td>139.916667</td>\n",
              "      <td>145.533333</td>\n",
              "      <td>152.333333</td>\n",
              "      <td>160.933333</td>\n",
              "      <td>166.733333</td>\n",
              "      <td>170.783333</td>\n",
              "      <td>172.966667</td>\n",
              "      <td>167.100000</td>\n",
              "      <td>174.000000</td>\n",
              "    </tr>\n",
              "    <tr>\n",
              "      <th>std</th>\n",
              "      <td>NaN</td>\n",
              "      <td>2.160247</td>\n",
              "      <td>0.996828</td>\n",
              "      <td>0.577639</td>\n",
              "      <td>0.61563</td>\n",
              "      <td>0.778246</td>\n",
              "      <td>1.175868</td>\n",
              "      <td>0.806639</td>\n",
              "      <td>0.763326</td>\n",
              "      <td>0.818942</td>\n",
              "      <td>0.411906</td>\n",
              "      <td>0.273252</td>\n",
              "      <td>15.487543</td>\n",
              "      <td>0.282843</td>\n",
              "    </tr>\n",
              "    <tr>\n",
              "      <th>min</th>\n",
              "      <td>NaN</td>\n",
              "      <td>2015.000000</td>\n",
              "      <td>121.300000</td>\n",
              "      <td>128.000000</td>\n",
              "      <td>133.60000</td>\n",
              "      <td>139.100000</td>\n",
              "      <td>144.700000</td>\n",
              "      <td>151.800000</td>\n",
              "      <td>160.300000</td>\n",
              "      <td>165.700000</td>\n",
              "      <td>170.400000</td>\n",
              "      <td>172.700000</td>\n",
              "      <td>135.500000</td>\n",
              "      <td>173.700000</td>\n",
              "    </tr>\n",
              "    <tr>\n",
              "      <th>25%</th>\n",
              "      <td>NaN</td>\n",
              "      <td>2016.250000</td>\n",
              "      <td>121.625000</td>\n",
              "      <td>128.025000</td>\n",
              "      <td>133.90000</td>\n",
              "      <td>139.625000</td>\n",
              "      <td>145.100000</td>\n",
              "      <td>151.900000</td>\n",
              "      <td>160.400000</td>\n",
              "      <td>166.250000</td>\n",
              "      <td>170.525000</td>\n",
              "      <td>172.750000</td>\n",
              "      <td>172.825000</td>\n",
              "      <td>173.750000</td>\n",
              "    </tr>\n",
              "    <tr>\n",
              "      <th>50%</th>\n",
              "      <td>NaN</td>\n",
              "      <td>2017.500000</td>\n",
              "      <td>122.050000</td>\n",
              "      <td>128.200000</td>\n",
              "      <td>134.05000</td>\n",
              "      <td>139.750000</td>\n",
              "      <td>145.100000</td>\n",
              "      <td>151.950000</td>\n",
              "      <td>160.700000</td>\n",
              "      <td>166.550000</td>\n",
              "      <td>170.600000</td>\n",
              "      <td>172.900000</td>\n",
              "      <td>173.300000</td>\n",
              "      <td>174.000000</td>\n",
              "    </tr>\n",
              "    <tr>\n",
              "      <th>75%</th>\n",
              "      <td>NaN</td>\n",
              "      <td>2018.750000</td>\n",
              "      <td>122.100000</td>\n",
              "      <td>128.525000</td>\n",
              "      <td>134.50000</td>\n",
              "      <td>139.875000</td>\n",
              "      <td>145.250000</td>\n",
              "      <td>152.375000</td>\n",
              "      <td>161.150000</td>\n",
              "      <td>167.375000</td>\n",
              "      <td>171.050000</td>\n",
              "      <td>173.200000</td>\n",
              "      <td>173.700000</td>\n",
              "      <td>174.175000</td>\n",
              "    </tr>\n",
              "    <tr>\n",
              "      <th>max</th>\n",
              "      <td>NaN</td>\n",
              "      <td>2021.000000</td>\n",
              "      <td>124.100000</td>\n",
              "      <td>129.500000</td>\n",
              "      <td>135.30000</td>\n",
              "      <td>141.400000</td>\n",
              "      <td>147.900000</td>\n",
              "      <td>153.900000</td>\n",
              "      <td>162.300000</td>\n",
              "      <td>167.800000</td>\n",
              "      <td>171.400000</td>\n",
              "      <td>173.300000</td>\n",
              "      <td>174.000000</td>\n",
              "      <td>174.400000</td>\n",
              "    </tr>\n",
              "  </tbody>\n",
              "</table>\n",
              "</div>\n",
              "      <button class=\"colab-df-convert\" onclick=\"convertToInteractive('df-9185585f-dbbd-40e6-92c1-75aa16959a32')\"\n",
              "              title=\"Convert this dataframe to an interactive table.\"\n",
              "              style=\"display:none;\">\n",
              "\n",
              "  <svg xmlns=\"http://www.w3.org/2000/svg\" height=\"24px\"viewBox=\"0 0 24 24\"\n",
              "       width=\"24px\">\n",
              "    <path d=\"M0 0h24v24H0V0z\" fill=\"none\"/>\n",
              "    <path d=\"M18.56 5.44l.94 2.06.94-2.06 2.06-.94-2.06-.94-.94-2.06-.94 2.06-2.06.94zm-11 1L8.5 8.5l.94-2.06 2.06-.94-2.06-.94L8.5 2.5l-.94 2.06-2.06.94zm10 10l.94 2.06.94-2.06 2.06-.94-2.06-.94-.94-2.06-.94 2.06-2.06.94z\"/><path d=\"M17.41 7.96l-1.37-1.37c-.4-.4-.92-.59-1.43-.59-.52 0-1.04.2-1.43.59L10.3 9.45l-7.72 7.72c-.78.78-.78 2.05 0 2.83L4 21.41c.39.39.9.59 1.41.59.51 0 1.02-.2 1.41-.59l7.78-7.78 2.81-2.81c.8-.78.8-2.07 0-2.86zM5.41 20L4 18.59l7.72-7.72 1.47 1.35L5.41 20z\"/>\n",
              "  </svg>\n",
              "      </button>\n",
              "\n",
              "\n",
              "\n",
              "    <div id=\"df-f17ab100-459b-4dc7-baf4-bc65e2ad820d\">\n",
              "      <button class=\"colab-df-quickchart\" onclick=\"quickchart('df-f17ab100-459b-4dc7-baf4-bc65e2ad820d')\"\n",
              "              title=\"Suggest charts.\"\n",
              "              style=\"display:none;\">\n",
              "\n",
              "<svg xmlns=\"http://www.w3.org/2000/svg\" height=\"24px\"viewBox=\"0 0 24 24\"\n",
              "     width=\"24px\">\n",
              "    <g>\n",
              "        <path d=\"M19 3H5c-1.1 0-2 .9-2 2v14c0 1.1.9 2 2 2h14c1.1 0 2-.9 2-2V5c0-1.1-.9-2-2-2zM9 17H7v-7h2v7zm4 0h-2V7h2v10zm4 0h-2v-4h2v4z\"/>\n",
              "    </g>\n",
              "</svg>\n",
              "      </button>\n",
              "    </div>\n",
              "\n",
              "<style>\n",
              "  .colab-df-quickchart {\n",
              "    background-color: #E8F0FE;\n",
              "    border: none;\n",
              "    border-radius: 50%;\n",
              "    cursor: pointer;\n",
              "    display: none;\n",
              "    fill: #1967D2;\n",
              "    height: 32px;\n",
              "    padding: 0 0 0 0;\n",
              "    width: 32px;\n",
              "  }\n",
              "\n",
              "  .colab-df-quickchart:hover {\n",
              "    background-color: #E2EBFA;\n",
              "    box-shadow: 0px 1px 2px rgba(60, 64, 67, 0.3), 0px 1px 3px 1px rgba(60, 64, 67, 0.15);\n",
              "    fill: #174EA6;\n",
              "  }\n",
              "\n",
              "  [theme=dark] .colab-df-quickchart {\n",
              "    background-color: #3B4455;\n",
              "    fill: #D2E3FC;\n",
              "  }\n",
              "\n",
              "  [theme=dark] .colab-df-quickchart:hover {\n",
              "    background-color: #434B5C;\n",
              "    box-shadow: 0px 1px 3px 1px rgba(0, 0, 0, 0.15);\n",
              "    filter: drop-shadow(0px 1px 2px rgba(0, 0, 0, 0.3));\n",
              "    fill: #FFFFFF;\n",
              "  }\n",
              "</style>\n",
              "\n",
              "    <script>\n",
              "      async function quickchart(key) {\n",
              "        const containerElement = document.querySelector('#' + key);\n",
              "        const charts = await google.colab.kernel.invokeFunction(\n",
              "            'suggestCharts', [key], {});\n",
              "      }\n",
              "    </script>\n",
              "\n",
              "      <script>\n",
              "\n",
              "function displayQuickchartButton(domScope) {\n",
              "  let quickchartButtonEl =\n",
              "    domScope.querySelector('#df-f17ab100-459b-4dc7-baf4-bc65e2ad820d button.colab-df-quickchart');\n",
              "  quickchartButtonEl.style.display =\n",
              "    google.colab.kernel.accessAllowed ? 'block' : 'none';\n",
              "}\n",
              "\n",
              "        displayQuickchartButton(document);\n",
              "      </script>\n",
              "      <style>\n",
              "    .colab-df-container {\n",
              "      display:flex;\n",
              "      flex-wrap:wrap;\n",
              "      gap: 12px;\n",
              "    }\n",
              "\n",
              "    .colab-df-convert {\n",
              "      background-color: #E8F0FE;\n",
              "      border: none;\n",
              "      border-radius: 50%;\n",
              "      cursor: pointer;\n",
              "      display: none;\n",
              "      fill: #1967D2;\n",
              "      height: 32px;\n",
              "      padding: 0 0 0 0;\n",
              "      width: 32px;\n",
              "    }\n",
              "\n",
              "    .colab-df-convert:hover {\n",
              "      background-color: #E2EBFA;\n",
              "      box-shadow: 0px 1px 2px rgba(60, 64, 67, 0.3), 0px 1px 3px 1px rgba(60, 64, 67, 0.15);\n",
              "      fill: #174EA6;\n",
              "    }\n",
              "\n",
              "    [theme=dark] .colab-df-convert {\n",
              "      background-color: #3B4455;\n",
              "      fill: #D2E3FC;\n",
              "    }\n",
              "\n",
              "    [theme=dark] .colab-df-convert:hover {\n",
              "      background-color: #434B5C;\n",
              "      box-shadow: 0px 1px 3px 1px rgba(0, 0, 0, 0.15);\n",
              "      filter: drop-shadow(0px 1px 2px rgba(0, 0, 0, 0.3));\n",
              "      fill: #FFFFFF;\n",
              "    }\n",
              "  </style>\n",
              "\n",
              "      <script>\n",
              "        const buttonEl =\n",
              "          document.querySelector('#df-9185585f-dbbd-40e6-92c1-75aa16959a32 button.colab-df-convert');\n",
              "        buttonEl.style.display =\n",
              "          google.colab.kernel.accessAllowed ? 'block' : 'none';\n",
              "\n",
              "        async function convertToInteractive(key) {\n",
              "          const element = document.querySelector('#df-9185585f-dbbd-40e6-92c1-75aa16959a32');\n",
              "          const dataTable =\n",
              "            await google.colab.kernel.invokeFunction('convertToInteractive',\n",
              "                                                     [key], {});\n",
              "          if (!dataTable) return;\n",
              "\n",
              "          const docLinkHtml = 'Like what you see? Visit the ' +\n",
              "            '<a target=\"_blank\" href=https://colab.research.google.com/notebooks/data_table.ipynb>data table notebook</a>'\n",
              "            + ' to learn more about interactive tables.';\n",
              "          element.innerHTML = '';\n",
              "          dataTable['output_type'] = 'display_data';\n",
              "          await google.colab.output.renderOutput(dataTable, element);\n",
              "          const docLink = document.createElement('div');\n",
              "          docLink.innerHTML = docLinkHtml;\n",
              "          element.appendChild(docLink);\n",
              "        }\n",
              "      </script>\n",
              "    </div>\n",
              "  </div>\n"
            ]
          },
          "metadata": {},
          "execution_count": 37
        }
      ]
    },
    {
      "cell_type": "markdown",
      "source": [
        "ㅤ"
      ],
      "metadata": {
        "id": "td4ZaY0jzMT2"
      }
    },
    {
      "cell_type": "markdown",
      "source": [
        "ㅤ"
      ],
      "metadata": {
        "id": "qXb-5WRnzKKM"
      }
    },
    {
      "cell_type": "markdown",
      "source": [
        "ㅤ"
      ],
      "metadata": {
        "id": "4XnmJLSG5Fk9"
      }
    },
    {
      "cell_type": "markdown",
      "source": [
        "ㅤ\n"
      ],
      "metadata": {
        "id": "Bwhm638Tev4T"
      }
    },
    {
      "cell_type": "markdown",
      "source": [
        "통계 자료를 출력할 때, 가능한 자료형을 가지고 있는지 미리 확인해야 합니다.\n",
        "\n",
        "예를 들어 문자형의 데이터를 가지고 있는 칼럼은 평균값을 출력시키지 못하고 에러가 뜨게 됩니다.\n",
        "</br></br>\n",
        "\n",
        "count나 mean 외 다른 통계 값도 똑같이 적용됩니다.\n",
        "\n",
        "예시 : df.std(), df.min(), df.max() 등"
      ],
      "metadata": {
        "id": "NPZ-hddFF4bS"
      }
    },
    {
      "cell_type": "code",
      "source": [
        "df.std()\n",
        "df.min()\n",
        "df.max()\n",
        "df[['6세']].mean()"
      ],
      "metadata": {
        "colab": {
          "base_uri": "https://localhost:8080/"
        },
        "id": "aozXxT6Y9YUS",
        "outputId": "9c96679f-9b72-41b8-888e-9c2a2650d6f4"
      },
      "execution_count": 39,
      "outputs": [
        {
          "output_type": "stream",
          "name": "stderr",
          "text": [
            "<ipython-input-39-284a9557ea9e>:1: FutureWarning: The default value of numeric_only in DataFrame.std is deprecated. In a future version, it will default to False. In addition, specifying 'numeric_only=None' is deprecated. Select only valid columns or specify the value of numeric_only to silence this warning.\n",
            "  df.std()\n"
          ]
        },
        {
          "output_type": "execute_result",
          "data": {
            "text/plain": [
              "6세    122.183333\n",
              "dtype: float64"
            ]
          },
          "metadata": {},
          "execution_count": 39
        }
      ]
    },
    {
      "cell_type": "markdown",
      "source": [
        "* df.shape : 행과열의 개수\n",
        "* len(df) : 행의 갯수\n",
        "* len(df.columns) : 열의 개수"
      ],
      "metadata": {
        "id": "90r0hKScThr1"
      }
    },
    {
      "cell_type": "code",
      "source": [
        "df.shape\n",
        "len(df)\n",
        "len(df.columns)"
      ],
      "metadata": {
        "colab": {
          "base_uri": "https://localhost:8080/"
        },
        "id": "1KbTnnEn9zmK",
        "outputId": "a1422b6f-e5b9-4866-f06b-8441e359ed8e"
      },
      "execution_count": 40,
      "outputs": [
        {
          "output_type": "execute_result",
          "data": {
            "text/plain": [
              "14"
            ]
          },
          "metadata": {},
          "execution_count": 40
        }
      ]
    },
    {
      "cell_type": "markdown",
      "source": [
        "ㅤ"
      ],
      "metadata": {
        "id": "5OZ9h25YnGKV"
      }
    },
    {
      "cell_type": "markdown",
      "source": [
        "## **7. Dataframe 데이터 정렬**"
      ],
      "metadata": {
        "id": "QAkLms4jnGXH"
      }
    },
    {
      "cell_type": "markdown",
      "source": [
        "### **1) 데이터 값을 기준으로 정렬**\n",
        "\n",
        "\n"
      ],
      "metadata": {
        "id": "8IRW-qGUggSD"
      }
    },
    {
      "cell_type": "markdown",
      "source": [
        "*   .sort_values() : 데이터 값을 기준으로 행과 열을 정렬하는 메소드입니다. 디폴트 값은 인덱스를 기준으로 오름차순 정렬됩니다. NaN(결측값)이 있다면 그 값은 맨 마지막에 위치합니다. 문자열은 ㄱㄴㄷ(한글), abc(영어) 순으로 정렬합니다.\n",
        "</br></br>\n",
        "\n",
        "*   변수명[‘특정 칼럼명’].sort_values() : 특정 칼럼명을 추출한 후 그 값을 정렬하는 방법입니다.\n",
        "</br></br>\n",
        "\n",
        "*   .sort_values() 파라미터\n",
        "\n",
        "    by : 특정 칼럼을 기준으로 정렬\n",
        "    \n",
        "    ascending : 정렬의 방향 (True: 오름차순, False: 내림차순)\n",
        "\n",
        "    axis : 정렬할 대상 축 (=0: 인덱스 기준, =1: 칼럼 기준)"
      ],
      "metadata": {
        "id": "6xKP5tv4Mcm8"
      }
    },
    {
      "cell_type": "code",
      "source": [
        "print(df['6세'].sort_values())"
      ],
      "metadata": {
        "colab": {
          "base_uri": "https://localhost:8080/"
        },
        "id": "D-44OrIw-X9j",
        "outputId": "05c934c7-5102-440b-f2c7-389cece54f45"
      },
      "execution_count": 41,
      "outputs": [
        {
          "output_type": "stream",
          "name": "stdout",
          "text": [
            "0    121.3\n",
            "1    121.5\n",
            "4    122.0\n",
            "2    122.1\n",
            "3    122.1\n",
            "5    124.1\n",
            "Name: 6세, dtype: float64\n"
          ]
        }
      ]
    },
    {
      "cell_type": "code",
      "source": [
        "print(df.sort_values(by=['6세']))"
      ],
      "metadata": {
        "colab": {
          "base_uri": "https://localhost:8080/"
        },
        "id": "cTL4TboU-nv0",
        "outputId": "171383d5-981a-480e-d6ba-a4d98eaa22ba"
      },
      "execution_count": 42,
      "outputs": [
        {
          "output_type": "stream",
          "name": "stdout",
          "text": [
            "  성별(1)    시점     6세     7세     8세     9세    10세    11세    12세    13세    14세  \\\n",
            "0    남자  2015  121.3  128.0  133.6  139.6  144.7  151.8  160.3  165.7  170.5   \n",
            "1    남자  2016  121.5  128.3  133.9  139.1  145.1  152.0  160.3  166.4  170.4   \n",
            "4    남자  2019  122.0  128.6  134.6  139.9  145.1  151.9  160.7  167.8  170.6   \n",
            "2    남자  2017  122.1  128.1  134.2  139.7  145.3  152.5  160.7  166.2  170.6   \n",
            "3    남자  2018  122.1  128.0  133.9  139.8  145.1  151.9  161.3  166.7  171.2   \n",
            "5    남자  2021  124.1  129.5  135.3  141.4  147.9  153.9  162.3  167.6  171.4   \n",
            "\n",
            "     15세    16세    17세  \n",
            "0  172.7  172.7  173.7  \n",
            "1  172.7  135.5  174.1  \n",
            "4  173.3  173.8  174.4  \n",
            "2  172.9  173.2  173.9  \n",
            "3  172.9  173.4  174.2  \n",
            "5  173.3  174.0  173.7  \n"
          ]
        }
      ]
    },
    {
      "cell_type": "markdown",
      "source": [
        "ㅤ"
      ],
      "metadata": {
        "id": "SBOkXyEEzX93"
      }
    },
    {
      "cell_type": "markdown",
      "source": [
        "ㅤ"
      ],
      "metadata": {
        "id": "QEOPU_s8wXnI"
      }
    },
    {
      "cell_type": "markdown",
      "source": [
        "ㅤ"
      ],
      "metadata": {
        "id": "QuejgALApP1G"
      }
    },
    {
      "cell_type": "markdown",
      "source": [
        "### **2) 인덱스 값을 기준으로 정렬**\n"
      ],
      "metadata": {
        "id": "zSSiGnQvnp1o"
      }
    },
    {
      "cell_type": "markdown",
      "source": [
        "*   .sort_index() : 인덱스 값을 기준으로 행과 열을 정렬합니다. 디폴트 값은 인덱스를 기준으로 오름차순 정렬됩니다.\n",
        "</br>\n",
        "\n",
        "*   .sort_index()의 파라미터\n",
        "\n",
        "    ascending : 정렬의 방향 (True: 오름차순, False: 내림차순)"
      ],
      "metadata": {
        "id": "_5SvElB_Mz2U"
      }
    },
    {
      "cell_type": "markdown",
      "source": [
        "ㅤ"
      ],
      "metadata": {
        "id": "ezxagHhom2FT"
      }
    },
    {
      "cell_type": "code",
      "source": [
        "df.sort_index()\n",
        "df.sort_index(ascending=False)"
      ],
      "metadata": {
        "colab": {
          "base_uri": "https://localhost:8080/",
          "height": 440
        },
        "id": "HLBrSBn-_Fua",
        "outputId": "ca39643a-3a90-4a51-9eda-185022670336"
      },
      "execution_count": 44,
      "outputs": [
        {
          "output_type": "execute_result",
          "data": {
            "text/plain": [
              "  성별(1)    시점     6세     7세     8세     9세    10세    11세    12세    13세    14세  \\\n",
              "5    남자  2021  124.1  129.5  135.3  141.4  147.9  153.9  162.3  167.6  171.4   \n",
              "4    남자  2019  122.0  128.6  134.6  139.9  145.1  151.9  160.7  167.8  170.6   \n",
              "3    남자  2018  122.1  128.0  133.9  139.8  145.1  151.9  161.3  166.7  171.2   \n",
              "2    남자  2017  122.1  128.1  134.2  139.7  145.3  152.5  160.7  166.2  170.6   \n",
              "1    남자  2016  121.5  128.3  133.9  139.1  145.1  152.0  160.3  166.4  170.4   \n",
              "0    남자  2015  121.3  128.0  133.6  139.6  144.7  151.8  160.3  165.7  170.5   \n",
              "\n",
              "     15세    16세    17세  \n",
              "5  173.3  174.0  173.7  \n",
              "4  173.3  173.8  174.4  \n",
              "3  172.9  173.4  174.2  \n",
              "2  172.9  173.2  173.9  \n",
              "1  172.7  135.5  174.1  \n",
              "0  172.7  172.7  173.7  "
            ],
            "text/html": [
              "\n",
              "\n",
              "  <div id=\"df-8c59366d-d147-4b24-8f9a-0ec25843ce37\">\n",
              "    <div class=\"colab-df-container\">\n",
              "      <div>\n",
              "<style scoped>\n",
              "    .dataframe tbody tr th:only-of-type {\n",
              "        vertical-align: middle;\n",
              "    }\n",
              "\n",
              "    .dataframe tbody tr th {\n",
              "        vertical-align: top;\n",
              "    }\n",
              "\n",
              "    .dataframe thead th {\n",
              "        text-align: right;\n",
              "    }\n",
              "</style>\n",
              "<table border=\"1\" class=\"dataframe\">\n",
              "  <thead>\n",
              "    <tr style=\"text-align: right;\">\n",
              "      <th></th>\n",
              "      <th>성별(1)</th>\n",
              "      <th>시점</th>\n",
              "      <th>6세</th>\n",
              "      <th>7세</th>\n",
              "      <th>8세</th>\n",
              "      <th>9세</th>\n",
              "      <th>10세</th>\n",
              "      <th>11세</th>\n",
              "      <th>12세</th>\n",
              "      <th>13세</th>\n",
              "      <th>14세</th>\n",
              "      <th>15세</th>\n",
              "      <th>16세</th>\n",
              "      <th>17세</th>\n",
              "    </tr>\n",
              "  </thead>\n",
              "  <tbody>\n",
              "    <tr>\n",
              "      <th>5</th>\n",
              "      <td>남자</td>\n",
              "      <td>2021</td>\n",
              "      <td>124.1</td>\n",
              "      <td>129.5</td>\n",
              "      <td>135.3</td>\n",
              "      <td>141.4</td>\n",
              "      <td>147.9</td>\n",
              "      <td>153.9</td>\n",
              "      <td>162.3</td>\n",
              "      <td>167.6</td>\n",
              "      <td>171.4</td>\n",
              "      <td>173.3</td>\n",
              "      <td>174.0</td>\n",
              "      <td>173.7</td>\n",
              "    </tr>\n",
              "    <tr>\n",
              "      <th>4</th>\n",
              "      <td>남자</td>\n",
              "      <td>2019</td>\n",
              "      <td>122.0</td>\n",
              "      <td>128.6</td>\n",
              "      <td>134.6</td>\n",
              "      <td>139.9</td>\n",
              "      <td>145.1</td>\n",
              "      <td>151.9</td>\n",
              "      <td>160.7</td>\n",
              "      <td>167.8</td>\n",
              "      <td>170.6</td>\n",
              "      <td>173.3</td>\n",
              "      <td>173.8</td>\n",
              "      <td>174.4</td>\n",
              "    </tr>\n",
              "    <tr>\n",
              "      <th>3</th>\n",
              "      <td>남자</td>\n",
              "      <td>2018</td>\n",
              "      <td>122.1</td>\n",
              "      <td>128.0</td>\n",
              "      <td>133.9</td>\n",
              "      <td>139.8</td>\n",
              "      <td>145.1</td>\n",
              "      <td>151.9</td>\n",
              "      <td>161.3</td>\n",
              "      <td>166.7</td>\n",
              "      <td>171.2</td>\n",
              "      <td>172.9</td>\n",
              "      <td>173.4</td>\n",
              "      <td>174.2</td>\n",
              "    </tr>\n",
              "    <tr>\n",
              "      <th>2</th>\n",
              "      <td>남자</td>\n",
              "      <td>2017</td>\n",
              "      <td>122.1</td>\n",
              "      <td>128.1</td>\n",
              "      <td>134.2</td>\n",
              "      <td>139.7</td>\n",
              "      <td>145.3</td>\n",
              "      <td>152.5</td>\n",
              "      <td>160.7</td>\n",
              "      <td>166.2</td>\n",
              "      <td>170.6</td>\n",
              "      <td>172.9</td>\n",
              "      <td>173.2</td>\n",
              "      <td>173.9</td>\n",
              "    </tr>\n",
              "    <tr>\n",
              "      <th>1</th>\n",
              "      <td>남자</td>\n",
              "      <td>2016</td>\n",
              "      <td>121.5</td>\n",
              "      <td>128.3</td>\n",
              "      <td>133.9</td>\n",
              "      <td>139.1</td>\n",
              "      <td>145.1</td>\n",
              "      <td>152.0</td>\n",
              "      <td>160.3</td>\n",
              "      <td>166.4</td>\n",
              "      <td>170.4</td>\n",
              "      <td>172.7</td>\n",
              "      <td>135.5</td>\n",
              "      <td>174.1</td>\n",
              "    </tr>\n",
              "    <tr>\n",
              "      <th>0</th>\n",
              "      <td>남자</td>\n",
              "      <td>2015</td>\n",
              "      <td>121.3</td>\n",
              "      <td>128.0</td>\n",
              "      <td>133.6</td>\n",
              "      <td>139.6</td>\n",
              "      <td>144.7</td>\n",
              "      <td>151.8</td>\n",
              "      <td>160.3</td>\n",
              "      <td>165.7</td>\n",
              "      <td>170.5</td>\n",
              "      <td>172.7</td>\n",
              "      <td>172.7</td>\n",
              "      <td>173.7</td>\n",
              "    </tr>\n",
              "  </tbody>\n",
              "</table>\n",
              "</div>\n",
              "      <button class=\"colab-df-convert\" onclick=\"convertToInteractive('df-8c59366d-d147-4b24-8f9a-0ec25843ce37')\"\n",
              "              title=\"Convert this dataframe to an interactive table.\"\n",
              "              style=\"display:none;\">\n",
              "\n",
              "  <svg xmlns=\"http://www.w3.org/2000/svg\" height=\"24px\"viewBox=\"0 0 24 24\"\n",
              "       width=\"24px\">\n",
              "    <path d=\"M0 0h24v24H0V0z\" fill=\"none\"/>\n",
              "    <path d=\"M18.56 5.44l.94 2.06.94-2.06 2.06-.94-2.06-.94-.94-2.06-.94 2.06-2.06.94zm-11 1L8.5 8.5l.94-2.06 2.06-.94-2.06-.94L8.5 2.5l-.94 2.06-2.06.94zm10 10l.94 2.06.94-2.06 2.06-.94-2.06-.94-.94-2.06-.94 2.06-2.06.94z\"/><path d=\"M17.41 7.96l-1.37-1.37c-.4-.4-.92-.59-1.43-.59-.52 0-1.04.2-1.43.59L10.3 9.45l-7.72 7.72c-.78.78-.78 2.05 0 2.83L4 21.41c.39.39.9.59 1.41.59.51 0 1.02-.2 1.41-.59l7.78-7.78 2.81-2.81c.8-.78.8-2.07 0-2.86zM5.41 20L4 18.59l7.72-7.72 1.47 1.35L5.41 20z\"/>\n",
              "  </svg>\n",
              "      </button>\n",
              "\n",
              "\n",
              "\n",
              "    <div id=\"df-28933afa-e55f-4dd4-a05b-ac4fec7523aa\">\n",
              "      <button class=\"colab-df-quickchart\" onclick=\"quickchart('df-28933afa-e55f-4dd4-a05b-ac4fec7523aa')\"\n",
              "              title=\"Suggest charts.\"\n",
              "              style=\"display:none;\">\n",
              "\n",
              "<svg xmlns=\"http://www.w3.org/2000/svg\" height=\"24px\"viewBox=\"0 0 24 24\"\n",
              "     width=\"24px\">\n",
              "    <g>\n",
              "        <path d=\"M19 3H5c-1.1 0-2 .9-2 2v14c0 1.1.9 2 2 2h14c1.1 0 2-.9 2-2V5c0-1.1-.9-2-2-2zM9 17H7v-7h2v7zm4 0h-2V7h2v10zm4 0h-2v-4h2v4z\"/>\n",
              "    </g>\n",
              "</svg>\n",
              "      </button>\n",
              "    </div>\n",
              "\n",
              "<style>\n",
              "  .colab-df-quickchart {\n",
              "    background-color: #E8F0FE;\n",
              "    border: none;\n",
              "    border-radius: 50%;\n",
              "    cursor: pointer;\n",
              "    display: none;\n",
              "    fill: #1967D2;\n",
              "    height: 32px;\n",
              "    padding: 0 0 0 0;\n",
              "    width: 32px;\n",
              "  }\n",
              "\n",
              "  .colab-df-quickchart:hover {\n",
              "    background-color: #E2EBFA;\n",
              "    box-shadow: 0px 1px 2px rgba(60, 64, 67, 0.3), 0px 1px 3px 1px rgba(60, 64, 67, 0.15);\n",
              "    fill: #174EA6;\n",
              "  }\n",
              "\n",
              "  [theme=dark] .colab-df-quickchart {\n",
              "    background-color: #3B4455;\n",
              "    fill: #D2E3FC;\n",
              "  }\n",
              "\n",
              "  [theme=dark] .colab-df-quickchart:hover {\n",
              "    background-color: #434B5C;\n",
              "    box-shadow: 0px 1px 3px 1px rgba(0, 0, 0, 0.15);\n",
              "    filter: drop-shadow(0px 1px 2px rgba(0, 0, 0, 0.3));\n",
              "    fill: #FFFFFF;\n",
              "  }\n",
              "</style>\n",
              "\n",
              "    <script>\n",
              "      async function quickchart(key) {\n",
              "        const containerElement = document.querySelector('#' + key);\n",
              "        const charts = await google.colab.kernel.invokeFunction(\n",
              "            'suggestCharts', [key], {});\n",
              "      }\n",
              "    </script>\n",
              "\n",
              "      <script>\n",
              "\n",
              "function displayQuickchartButton(domScope) {\n",
              "  let quickchartButtonEl =\n",
              "    domScope.querySelector('#df-28933afa-e55f-4dd4-a05b-ac4fec7523aa button.colab-df-quickchart');\n",
              "  quickchartButtonEl.style.display =\n",
              "    google.colab.kernel.accessAllowed ? 'block' : 'none';\n",
              "}\n",
              "\n",
              "        displayQuickchartButton(document);\n",
              "      </script>\n",
              "      <style>\n",
              "    .colab-df-container {\n",
              "      display:flex;\n",
              "      flex-wrap:wrap;\n",
              "      gap: 12px;\n",
              "    }\n",
              "\n",
              "    .colab-df-convert {\n",
              "      background-color: #E8F0FE;\n",
              "      border: none;\n",
              "      border-radius: 50%;\n",
              "      cursor: pointer;\n",
              "      display: none;\n",
              "      fill: #1967D2;\n",
              "      height: 32px;\n",
              "      padding: 0 0 0 0;\n",
              "      width: 32px;\n",
              "    }\n",
              "\n",
              "    .colab-df-convert:hover {\n",
              "      background-color: #E2EBFA;\n",
              "      box-shadow: 0px 1px 2px rgba(60, 64, 67, 0.3), 0px 1px 3px 1px rgba(60, 64, 67, 0.15);\n",
              "      fill: #174EA6;\n",
              "    }\n",
              "\n",
              "    [theme=dark] .colab-df-convert {\n",
              "      background-color: #3B4455;\n",
              "      fill: #D2E3FC;\n",
              "    }\n",
              "\n",
              "    [theme=dark] .colab-df-convert:hover {\n",
              "      background-color: #434B5C;\n",
              "      box-shadow: 0px 1px 3px 1px rgba(0, 0, 0, 0.15);\n",
              "      filter: drop-shadow(0px 1px 2px rgba(0, 0, 0, 0.3));\n",
              "      fill: #FFFFFF;\n",
              "    }\n",
              "  </style>\n",
              "\n",
              "      <script>\n",
              "        const buttonEl =\n",
              "          document.querySelector('#df-8c59366d-d147-4b24-8f9a-0ec25843ce37 button.colab-df-convert');\n",
              "        buttonEl.style.display =\n",
              "          google.colab.kernel.accessAllowed ? 'block' : 'none';\n",
              "\n",
              "        async function convertToInteractive(key) {\n",
              "          const element = document.querySelector('#df-8c59366d-d147-4b24-8f9a-0ec25843ce37');\n",
              "          const dataTable =\n",
              "            await google.colab.kernel.invokeFunction('convertToInteractive',\n",
              "                                                     [key], {});\n",
              "          if (!dataTable) return;\n",
              "\n",
              "          const docLinkHtml = 'Like what you see? Visit the ' +\n",
              "            '<a target=\"_blank\" href=https://colab.research.google.com/notebooks/data_table.ipynb>data table notebook</a>'\n",
              "            + ' to learn more about interactive tables.';\n",
              "          element.innerHTML = '';\n",
              "          dataTable['output_type'] = 'display_data';\n",
              "          await google.colab.output.renderOutput(dataTable, element);\n",
              "          const docLink = document.createElement('div');\n",
              "          docLink.innerHTML = docLinkHtml;\n",
              "          element.appendChild(docLink);\n",
              "        }\n",
              "      </script>\n",
              "    </div>\n",
              "  </div>\n"
            ]
          },
          "metadata": {},
          "execution_count": 44
        }
      ]
    },
    {
      "cell_type": "markdown",
      "source": [
        "오름차순으로 정렬된 첫번째 코드의 출력값에 반해 ascending=False을 넣은 두번째 코드의 출력값은 큰값에서 작은값으로 정렬되는 내림차순으로 출력되었습니다."
      ],
      "metadata": {
        "id": "nJBGUKPIwlpB"
      }
    },
    {
      "cell_type": "markdown",
      "source": [
        "ㅤ"
      ],
      "metadata": {
        "id": "8tFopl5UpRC4"
      }
    },
    {
      "cell_type": "markdown",
      "source": [
        "## **8. Dataframe 데이터 선택**"
      ],
      "metadata": {
        "id": "LosKkc8jpRiX"
      }
    },
    {
      "cell_type": "markdown",
      "source": [
        "* 열 인덱싱 : 컬럼 값이 아닌 컬럼 이름으로\n",
        "* 행 인덱싱 : 인덱스 이름으로\n",
        "* 자료 1개 가져올 때는 열인덱싱 -> 행인덱싱 방식\n",
        "* 불리안 인덱싱 : 조건을 찾을 컬럼 이름으로 조건식 만들어서\n",
        "~~~\n",
        "df [ '칼럼이름' ] 하나의 열만 인덱싱\n",
        "df [ [ '칼럼이름' ] ] 하나의 열만 인덱싱 하는데 데이터프레임모양으로 출력\n",
        "df [ [ '칼럼이름1', '칼럼이름2' ] ] 여러개의 열은 리스트로 인덱싱\n",
        "~~~"
      ],
      "metadata": {
        "id": "h1_iMzhva4ls"
      }
    },
    {
      "cell_type": "code",
      "source": [
        "df[['6세','8세']]"
      ],
      "metadata": {
        "colab": {
          "base_uri": "https://localhost:8080/",
          "height": 237
        },
        "id": "ixePN_-y_1gD",
        "outputId": "ae4a8100-553c-44e4-b54d-9ac7a4c3c4eb"
      },
      "execution_count": 47,
      "outputs": [
        {
          "output_type": "execute_result",
          "data": {
            "text/plain": [
              "      6세     8세\n",
              "0  121.3  133.6\n",
              "1  121.5  133.9\n",
              "2  122.1  134.2\n",
              "3  122.1  133.9\n",
              "4  122.0  134.6\n",
              "5  124.1  135.3"
            ],
            "text/html": [
              "\n",
              "\n",
              "  <div id=\"df-4e681dfb-4e0d-40b4-b6c5-bc91d2da45b6\">\n",
              "    <div class=\"colab-df-container\">\n",
              "      <div>\n",
              "<style scoped>\n",
              "    .dataframe tbody tr th:only-of-type {\n",
              "        vertical-align: middle;\n",
              "    }\n",
              "\n",
              "    .dataframe tbody tr th {\n",
              "        vertical-align: top;\n",
              "    }\n",
              "\n",
              "    .dataframe thead th {\n",
              "        text-align: right;\n",
              "    }\n",
              "</style>\n",
              "<table border=\"1\" class=\"dataframe\">\n",
              "  <thead>\n",
              "    <tr style=\"text-align: right;\">\n",
              "      <th></th>\n",
              "      <th>6세</th>\n",
              "      <th>8세</th>\n",
              "    </tr>\n",
              "  </thead>\n",
              "  <tbody>\n",
              "    <tr>\n",
              "      <th>0</th>\n",
              "      <td>121.3</td>\n",
              "      <td>133.6</td>\n",
              "    </tr>\n",
              "    <tr>\n",
              "      <th>1</th>\n",
              "      <td>121.5</td>\n",
              "      <td>133.9</td>\n",
              "    </tr>\n",
              "    <tr>\n",
              "      <th>2</th>\n",
              "      <td>122.1</td>\n",
              "      <td>134.2</td>\n",
              "    </tr>\n",
              "    <tr>\n",
              "      <th>3</th>\n",
              "      <td>122.1</td>\n",
              "      <td>133.9</td>\n",
              "    </tr>\n",
              "    <tr>\n",
              "      <th>4</th>\n",
              "      <td>122.0</td>\n",
              "      <td>134.6</td>\n",
              "    </tr>\n",
              "    <tr>\n",
              "      <th>5</th>\n",
              "      <td>124.1</td>\n",
              "      <td>135.3</td>\n",
              "    </tr>\n",
              "  </tbody>\n",
              "</table>\n",
              "</div>\n",
              "      <button class=\"colab-df-convert\" onclick=\"convertToInteractive('df-4e681dfb-4e0d-40b4-b6c5-bc91d2da45b6')\"\n",
              "              title=\"Convert this dataframe to an interactive table.\"\n",
              "              style=\"display:none;\">\n",
              "\n",
              "  <svg xmlns=\"http://www.w3.org/2000/svg\" height=\"24px\"viewBox=\"0 0 24 24\"\n",
              "       width=\"24px\">\n",
              "    <path d=\"M0 0h24v24H0V0z\" fill=\"none\"/>\n",
              "    <path d=\"M18.56 5.44l.94 2.06.94-2.06 2.06-.94-2.06-.94-.94-2.06-.94 2.06-2.06.94zm-11 1L8.5 8.5l.94-2.06 2.06-.94-2.06-.94L8.5 2.5l-.94 2.06-2.06.94zm10 10l.94 2.06.94-2.06 2.06-.94-2.06-.94-.94-2.06-.94 2.06-2.06.94z\"/><path d=\"M17.41 7.96l-1.37-1.37c-.4-.4-.92-.59-1.43-.59-.52 0-1.04.2-1.43.59L10.3 9.45l-7.72 7.72c-.78.78-.78 2.05 0 2.83L4 21.41c.39.39.9.59 1.41.59.51 0 1.02-.2 1.41-.59l7.78-7.78 2.81-2.81c.8-.78.8-2.07 0-2.86zM5.41 20L4 18.59l7.72-7.72 1.47 1.35L5.41 20z\"/>\n",
              "  </svg>\n",
              "      </button>\n",
              "\n",
              "\n",
              "\n",
              "    <div id=\"df-17987843-7b97-48f6-80bb-888574d19dd3\">\n",
              "      <button class=\"colab-df-quickchart\" onclick=\"quickchart('df-17987843-7b97-48f6-80bb-888574d19dd3')\"\n",
              "              title=\"Suggest charts.\"\n",
              "              style=\"display:none;\">\n",
              "\n",
              "<svg xmlns=\"http://www.w3.org/2000/svg\" height=\"24px\"viewBox=\"0 0 24 24\"\n",
              "     width=\"24px\">\n",
              "    <g>\n",
              "        <path d=\"M19 3H5c-1.1 0-2 .9-2 2v14c0 1.1.9 2 2 2h14c1.1 0 2-.9 2-2V5c0-1.1-.9-2-2-2zM9 17H7v-7h2v7zm4 0h-2V7h2v10zm4 0h-2v-4h2v4z\"/>\n",
              "    </g>\n",
              "</svg>\n",
              "      </button>\n",
              "    </div>\n",
              "\n",
              "<style>\n",
              "  .colab-df-quickchart {\n",
              "    background-color: #E8F0FE;\n",
              "    border: none;\n",
              "    border-radius: 50%;\n",
              "    cursor: pointer;\n",
              "    display: none;\n",
              "    fill: #1967D2;\n",
              "    height: 32px;\n",
              "    padding: 0 0 0 0;\n",
              "    width: 32px;\n",
              "  }\n",
              "\n",
              "  .colab-df-quickchart:hover {\n",
              "    background-color: #E2EBFA;\n",
              "    box-shadow: 0px 1px 2px rgba(60, 64, 67, 0.3), 0px 1px 3px 1px rgba(60, 64, 67, 0.15);\n",
              "    fill: #174EA6;\n",
              "  }\n",
              "\n",
              "  [theme=dark] .colab-df-quickchart {\n",
              "    background-color: #3B4455;\n",
              "    fill: #D2E3FC;\n",
              "  }\n",
              "\n",
              "  [theme=dark] .colab-df-quickchart:hover {\n",
              "    background-color: #434B5C;\n",
              "    box-shadow: 0px 1px 3px 1px rgba(0, 0, 0, 0.15);\n",
              "    filter: drop-shadow(0px 1px 2px rgba(0, 0, 0, 0.3));\n",
              "    fill: #FFFFFF;\n",
              "  }\n",
              "</style>\n",
              "\n",
              "    <script>\n",
              "      async function quickchart(key) {\n",
              "        const containerElement = document.querySelector('#' + key);\n",
              "        const charts = await google.colab.kernel.invokeFunction(\n",
              "            'suggestCharts', [key], {});\n",
              "      }\n",
              "    </script>\n",
              "\n",
              "      <script>\n",
              "\n",
              "function displayQuickchartButton(domScope) {\n",
              "  let quickchartButtonEl =\n",
              "    domScope.querySelector('#df-17987843-7b97-48f6-80bb-888574d19dd3 button.colab-df-quickchart');\n",
              "  quickchartButtonEl.style.display =\n",
              "    google.colab.kernel.accessAllowed ? 'block' : 'none';\n",
              "}\n",
              "\n",
              "        displayQuickchartButton(document);\n",
              "      </script>\n",
              "      <style>\n",
              "    .colab-df-container {\n",
              "      display:flex;\n",
              "      flex-wrap:wrap;\n",
              "      gap: 12px;\n",
              "    }\n",
              "\n",
              "    .colab-df-convert {\n",
              "      background-color: #E8F0FE;\n",
              "      border: none;\n",
              "      border-radius: 50%;\n",
              "      cursor: pointer;\n",
              "      display: none;\n",
              "      fill: #1967D2;\n",
              "      height: 32px;\n",
              "      padding: 0 0 0 0;\n",
              "      width: 32px;\n",
              "    }\n",
              "\n",
              "    .colab-df-convert:hover {\n",
              "      background-color: #E2EBFA;\n",
              "      box-shadow: 0px 1px 2px rgba(60, 64, 67, 0.3), 0px 1px 3px 1px rgba(60, 64, 67, 0.15);\n",
              "      fill: #174EA6;\n",
              "    }\n",
              "\n",
              "    [theme=dark] .colab-df-convert {\n",
              "      background-color: #3B4455;\n",
              "      fill: #D2E3FC;\n",
              "    }\n",
              "\n",
              "    [theme=dark] .colab-df-convert:hover {\n",
              "      background-color: #434B5C;\n",
              "      box-shadow: 0px 1px 3px 1px rgba(0, 0, 0, 0.15);\n",
              "      filter: drop-shadow(0px 1px 2px rgba(0, 0, 0, 0.3));\n",
              "      fill: #FFFFFF;\n",
              "    }\n",
              "  </style>\n",
              "\n",
              "      <script>\n",
              "        const buttonEl =\n",
              "          document.querySelector('#df-4e681dfb-4e0d-40b4-b6c5-bc91d2da45b6 button.colab-df-convert');\n",
              "        buttonEl.style.display =\n",
              "          google.colab.kernel.accessAllowed ? 'block' : 'none';\n",
              "\n",
              "        async function convertToInteractive(key) {\n",
              "          const element = document.querySelector('#df-4e681dfb-4e0d-40b4-b6c5-bc91d2da45b6');\n",
              "          const dataTable =\n",
              "            await google.colab.kernel.invokeFunction('convertToInteractive',\n",
              "                                                     [key], {});\n",
              "          if (!dataTable) return;\n",
              "\n",
              "          const docLinkHtml = 'Like what you see? Visit the ' +\n",
              "            '<a target=\"_blank\" href=https://colab.research.google.com/notebooks/data_table.ipynb>data table notebook</a>'\n",
              "            + ' to learn more about interactive tables.';\n",
              "          element.innerHTML = '';\n",
              "          dataTable['output_type'] = 'display_data';\n",
              "          await google.colab.output.renderOutput(dataTable, element);\n",
              "          const docLink = document.createElement('div');\n",
              "          docLink.innerHTML = docLinkHtml;\n",
              "          element.appendChild(docLink);\n",
              "        }\n",
              "      </script>\n",
              "    </div>\n",
              "  </div>\n"
            ]
          },
          "metadata": {},
          "execution_count": 47
        }
      ]
    },
    {
      "cell_type": "markdown",
      "source": [
        "*   슬라이싱 이용 : df[컬럼명], df[시작인덱스:끝인덱스+1], df[시작인덱스명:끝인덱스명]\n",
        "\n",
        "*   .loc[행, 열] : 라벨의 이름을 이용하여 데이터 선택 (명칭 기반)\n",
        "\n",
        "*   .iloc[인덱스 번호] : 위치를 나타내는 인덱스 번호 이용하여 데이터 선택 (위치 기반)\n",
        "</br></br>\n",
        "\n",
        "\n",
        "> 추가적으로 ix는 최근에 사라졌으니 참고 부탁드립니다."
      ],
      "metadata": {
        "id": "e_i5MUbkIurO"
      }
    },
    {
      "cell_type": "markdown",
      "source": [
        "ㅤ"
      ],
      "metadata": {
        "id": "OKWSRsUbzcoY"
      }
    },
    {
      "cell_type": "markdown",
      "source": [
        "* 행인덱싱은 항상 슬라이싱 형식으로 가져오기 ex) df[1:3]\n",
        "* 단일행을 가져오려면 슬라이싱 형태로 만들어서 가져오기 ex) df[3:4]\n",
        "* 문자라벨로 인덱싱할때는 끝라벨 포함 ex) df['a':'c']\n",
        "* 부분배열 불가능 ex)df[1,3,5] <-오류"
      ],
      "metadata": {
        "id": "y4bIRslbb5JY"
      }
    },
    {
      "cell_type": "markdown",
      "source": [
        "ㅤ"
      ],
      "metadata": {
        "id": "D3L-3pKWmDt-"
      }
    },
    {
      "cell_type": "code",
      "source": [
        "df[2:5] #행 인덱싱\n"
      ],
      "metadata": {
        "colab": {
          "base_uri": "https://localhost:8080/",
          "height": 294
        },
        "id": "ZjIpZZ2vAQUV",
        "outputId": "222cf1a1-9a18-48b4-e183-4ef239d0c2cc"
      },
      "execution_count": 48,
      "outputs": [
        {
          "output_type": "execute_result",
          "data": {
            "text/plain": [
              "  성별(1)    시점     6세     7세     8세     9세    10세    11세    12세    13세    14세  \\\n",
              "2    남자  2017  122.1  128.1  134.2  139.7  145.3  152.5  160.7  166.2  170.6   \n",
              "3    남자  2018  122.1  128.0  133.9  139.8  145.1  151.9  161.3  166.7  171.2   \n",
              "4    남자  2019  122.0  128.6  134.6  139.9  145.1  151.9  160.7  167.8  170.6   \n",
              "\n",
              "     15세    16세    17세  \n",
              "2  172.9  173.2  173.9  \n",
              "3  172.9  173.4  174.2  \n",
              "4  173.3  173.8  174.4  "
            ],
            "text/html": [
              "\n",
              "\n",
              "  <div id=\"df-224709f5-7a5b-4390-b183-ee5383708bb7\">\n",
              "    <div class=\"colab-df-container\">\n",
              "      <div>\n",
              "<style scoped>\n",
              "    .dataframe tbody tr th:only-of-type {\n",
              "        vertical-align: middle;\n",
              "    }\n",
              "\n",
              "    .dataframe tbody tr th {\n",
              "        vertical-align: top;\n",
              "    }\n",
              "\n",
              "    .dataframe thead th {\n",
              "        text-align: right;\n",
              "    }\n",
              "</style>\n",
              "<table border=\"1\" class=\"dataframe\">\n",
              "  <thead>\n",
              "    <tr style=\"text-align: right;\">\n",
              "      <th></th>\n",
              "      <th>성별(1)</th>\n",
              "      <th>시점</th>\n",
              "      <th>6세</th>\n",
              "      <th>7세</th>\n",
              "      <th>8세</th>\n",
              "      <th>9세</th>\n",
              "      <th>10세</th>\n",
              "      <th>11세</th>\n",
              "      <th>12세</th>\n",
              "      <th>13세</th>\n",
              "      <th>14세</th>\n",
              "      <th>15세</th>\n",
              "      <th>16세</th>\n",
              "      <th>17세</th>\n",
              "    </tr>\n",
              "  </thead>\n",
              "  <tbody>\n",
              "    <tr>\n",
              "      <th>2</th>\n",
              "      <td>남자</td>\n",
              "      <td>2017</td>\n",
              "      <td>122.1</td>\n",
              "      <td>128.1</td>\n",
              "      <td>134.2</td>\n",
              "      <td>139.7</td>\n",
              "      <td>145.3</td>\n",
              "      <td>152.5</td>\n",
              "      <td>160.7</td>\n",
              "      <td>166.2</td>\n",
              "      <td>170.6</td>\n",
              "      <td>172.9</td>\n",
              "      <td>173.2</td>\n",
              "      <td>173.9</td>\n",
              "    </tr>\n",
              "    <tr>\n",
              "      <th>3</th>\n",
              "      <td>남자</td>\n",
              "      <td>2018</td>\n",
              "      <td>122.1</td>\n",
              "      <td>128.0</td>\n",
              "      <td>133.9</td>\n",
              "      <td>139.8</td>\n",
              "      <td>145.1</td>\n",
              "      <td>151.9</td>\n",
              "      <td>161.3</td>\n",
              "      <td>166.7</td>\n",
              "      <td>171.2</td>\n",
              "      <td>172.9</td>\n",
              "      <td>173.4</td>\n",
              "      <td>174.2</td>\n",
              "    </tr>\n",
              "    <tr>\n",
              "      <th>4</th>\n",
              "      <td>남자</td>\n",
              "      <td>2019</td>\n",
              "      <td>122.0</td>\n",
              "      <td>128.6</td>\n",
              "      <td>134.6</td>\n",
              "      <td>139.9</td>\n",
              "      <td>145.1</td>\n",
              "      <td>151.9</td>\n",
              "      <td>160.7</td>\n",
              "      <td>167.8</td>\n",
              "      <td>170.6</td>\n",
              "      <td>173.3</td>\n",
              "      <td>173.8</td>\n",
              "      <td>174.4</td>\n",
              "    </tr>\n",
              "  </tbody>\n",
              "</table>\n",
              "</div>\n",
              "      <button class=\"colab-df-convert\" onclick=\"convertToInteractive('df-224709f5-7a5b-4390-b183-ee5383708bb7')\"\n",
              "              title=\"Convert this dataframe to an interactive table.\"\n",
              "              style=\"display:none;\">\n",
              "\n",
              "  <svg xmlns=\"http://www.w3.org/2000/svg\" height=\"24px\"viewBox=\"0 0 24 24\"\n",
              "       width=\"24px\">\n",
              "    <path d=\"M0 0h24v24H0V0z\" fill=\"none\"/>\n",
              "    <path d=\"M18.56 5.44l.94 2.06.94-2.06 2.06-.94-2.06-.94-.94-2.06-.94 2.06-2.06.94zm-11 1L8.5 8.5l.94-2.06 2.06-.94-2.06-.94L8.5 2.5l-.94 2.06-2.06.94zm10 10l.94 2.06.94-2.06 2.06-.94-2.06-.94-.94-2.06-.94 2.06-2.06.94z\"/><path d=\"M17.41 7.96l-1.37-1.37c-.4-.4-.92-.59-1.43-.59-.52 0-1.04.2-1.43.59L10.3 9.45l-7.72 7.72c-.78.78-.78 2.05 0 2.83L4 21.41c.39.39.9.59 1.41.59.51 0 1.02-.2 1.41-.59l7.78-7.78 2.81-2.81c.8-.78.8-2.07 0-2.86zM5.41 20L4 18.59l7.72-7.72 1.47 1.35L5.41 20z\"/>\n",
              "  </svg>\n",
              "      </button>\n",
              "\n",
              "\n",
              "\n",
              "    <div id=\"df-9789f18a-86fc-4cab-acf8-053f1a891083\">\n",
              "      <button class=\"colab-df-quickchart\" onclick=\"quickchart('df-9789f18a-86fc-4cab-acf8-053f1a891083')\"\n",
              "              title=\"Suggest charts.\"\n",
              "              style=\"display:none;\">\n",
              "\n",
              "<svg xmlns=\"http://www.w3.org/2000/svg\" height=\"24px\"viewBox=\"0 0 24 24\"\n",
              "     width=\"24px\">\n",
              "    <g>\n",
              "        <path d=\"M19 3H5c-1.1 0-2 .9-2 2v14c0 1.1.9 2 2 2h14c1.1 0 2-.9 2-2V5c0-1.1-.9-2-2-2zM9 17H7v-7h2v7zm4 0h-2V7h2v10zm4 0h-2v-4h2v4z\"/>\n",
              "    </g>\n",
              "</svg>\n",
              "      </button>\n",
              "    </div>\n",
              "\n",
              "<style>\n",
              "  .colab-df-quickchart {\n",
              "    background-color: #E8F0FE;\n",
              "    border: none;\n",
              "    border-radius: 50%;\n",
              "    cursor: pointer;\n",
              "    display: none;\n",
              "    fill: #1967D2;\n",
              "    height: 32px;\n",
              "    padding: 0 0 0 0;\n",
              "    width: 32px;\n",
              "  }\n",
              "\n",
              "  .colab-df-quickchart:hover {\n",
              "    background-color: #E2EBFA;\n",
              "    box-shadow: 0px 1px 2px rgba(60, 64, 67, 0.3), 0px 1px 3px 1px rgba(60, 64, 67, 0.15);\n",
              "    fill: #174EA6;\n",
              "  }\n",
              "\n",
              "  [theme=dark] .colab-df-quickchart {\n",
              "    background-color: #3B4455;\n",
              "    fill: #D2E3FC;\n",
              "  }\n",
              "\n",
              "  [theme=dark] .colab-df-quickchart:hover {\n",
              "    background-color: #434B5C;\n",
              "    box-shadow: 0px 1px 3px 1px rgba(0, 0, 0, 0.15);\n",
              "    filter: drop-shadow(0px 1px 2px rgba(0, 0, 0, 0.3));\n",
              "    fill: #FFFFFF;\n",
              "  }\n",
              "</style>\n",
              "\n",
              "    <script>\n",
              "      async function quickchart(key) {\n",
              "        const containerElement = document.querySelector('#' + key);\n",
              "        const charts = await google.colab.kernel.invokeFunction(\n",
              "            'suggestCharts', [key], {});\n",
              "      }\n",
              "    </script>\n",
              "\n",
              "      <script>\n",
              "\n",
              "function displayQuickchartButton(domScope) {\n",
              "  let quickchartButtonEl =\n",
              "    domScope.querySelector('#df-9789f18a-86fc-4cab-acf8-053f1a891083 button.colab-df-quickchart');\n",
              "  quickchartButtonEl.style.display =\n",
              "    google.colab.kernel.accessAllowed ? 'block' : 'none';\n",
              "}\n",
              "\n",
              "        displayQuickchartButton(document);\n",
              "      </script>\n",
              "      <style>\n",
              "    .colab-df-container {\n",
              "      display:flex;\n",
              "      flex-wrap:wrap;\n",
              "      gap: 12px;\n",
              "    }\n",
              "\n",
              "    .colab-df-convert {\n",
              "      background-color: #E8F0FE;\n",
              "      border: none;\n",
              "      border-radius: 50%;\n",
              "      cursor: pointer;\n",
              "      display: none;\n",
              "      fill: #1967D2;\n",
              "      height: 32px;\n",
              "      padding: 0 0 0 0;\n",
              "      width: 32px;\n",
              "    }\n",
              "\n",
              "    .colab-df-convert:hover {\n",
              "      background-color: #E2EBFA;\n",
              "      box-shadow: 0px 1px 2px rgba(60, 64, 67, 0.3), 0px 1px 3px 1px rgba(60, 64, 67, 0.15);\n",
              "      fill: #174EA6;\n",
              "    }\n",
              "\n",
              "    [theme=dark] .colab-df-convert {\n",
              "      background-color: #3B4455;\n",
              "      fill: #D2E3FC;\n",
              "    }\n",
              "\n",
              "    [theme=dark] .colab-df-convert:hover {\n",
              "      background-color: #434B5C;\n",
              "      box-shadow: 0px 1px 3px 1px rgba(0, 0, 0, 0.15);\n",
              "      filter: drop-shadow(0px 1px 2px rgba(0, 0, 0, 0.3));\n",
              "      fill: #FFFFFF;\n",
              "    }\n",
              "  </style>\n",
              "\n",
              "      <script>\n",
              "        const buttonEl =\n",
              "          document.querySelector('#df-224709f5-7a5b-4390-b183-ee5383708bb7 button.colab-df-convert');\n",
              "        buttonEl.style.display =\n",
              "          google.colab.kernel.accessAllowed ? 'block' : 'none';\n",
              "\n",
              "        async function convertToInteractive(key) {\n",
              "          const element = document.querySelector('#df-224709f5-7a5b-4390-b183-ee5383708bb7');\n",
              "          const dataTable =\n",
              "            await google.colab.kernel.invokeFunction('convertToInteractive',\n",
              "                                                     [key], {});\n",
              "          if (!dataTable) return;\n",
              "\n",
              "          const docLinkHtml = 'Like what you see? Visit the ' +\n",
              "            '<a target=\"_blank\" href=https://colab.research.google.com/notebooks/data_table.ipynb>data table notebook</a>'\n",
              "            + ' to learn more about interactive tables.';\n",
              "          element.innerHTML = '';\n",
              "          dataTable['output_type'] = 'display_data';\n",
              "          await google.colab.output.renderOutput(dataTable, element);\n",
              "          const docLink = document.createElement('div');\n",
              "          docLink.innerHTML = docLinkHtml;\n",
              "          element.appendChild(docLink);\n",
              "        }\n",
              "      </script>\n",
              "    </div>\n",
              "  </div>\n"
            ]
          },
          "metadata": {},
          "execution_count": 48
        }
      ]
    },
    {
      "cell_type": "code",
      "source": [
        "df.loc[3,'16세']\n",
        "df.loc[2,'8세']\n",
        "df[::]"
      ],
      "metadata": {
        "colab": {
          "base_uri": "https://localhost:8080/",
          "height": 440
        },
        "id": "POjDF68GAqDL",
        "outputId": "8a8ef74d-420a-4bd5-8dab-f3a0556ba41e"
      },
      "execution_count": 53,
      "outputs": [
        {
          "output_type": "execute_result",
          "data": {
            "text/plain": [
              "  성별(1)    시점     6세     7세     8세     9세    10세    11세    12세    13세    14세  \\\n",
              "0    남자  2015  121.3  128.0  133.6  139.6  144.7  151.8  160.3  165.7  170.5   \n",
              "1    남자  2016  121.5  128.3  133.9  139.1  145.1  152.0  160.3  166.4  170.4   \n",
              "2    남자  2017  122.1  128.1  134.2  139.7  145.3  152.5  160.7  166.2  170.6   \n",
              "3    남자  2018  122.1  128.0  133.9  139.8  145.1  151.9  161.3  166.7  171.2   \n",
              "4    남자  2019  122.0  128.6  134.6  139.9  145.1  151.9  160.7  167.8  170.6   \n",
              "5    남자  2021  124.1  129.5  135.3  141.4  147.9  153.9  162.3  167.6  171.4   \n",
              "\n",
              "     15세    16세    17세  \n",
              "0  172.7  172.7  173.7  \n",
              "1  172.7  135.5  174.1  \n",
              "2  172.9  173.2  173.9  \n",
              "3  172.9  173.4  174.2  \n",
              "4  173.3  173.8  174.4  \n",
              "5  173.3  174.0  173.7  "
            ],
            "text/html": [
              "\n",
              "\n",
              "  <div id=\"df-735cdec6-a5aa-4d51-98f5-dcd0ce604609\">\n",
              "    <div class=\"colab-df-container\">\n",
              "      <div>\n",
              "<style scoped>\n",
              "    .dataframe tbody tr th:only-of-type {\n",
              "        vertical-align: middle;\n",
              "    }\n",
              "\n",
              "    .dataframe tbody tr th {\n",
              "        vertical-align: top;\n",
              "    }\n",
              "\n",
              "    .dataframe thead th {\n",
              "        text-align: right;\n",
              "    }\n",
              "</style>\n",
              "<table border=\"1\" class=\"dataframe\">\n",
              "  <thead>\n",
              "    <tr style=\"text-align: right;\">\n",
              "      <th></th>\n",
              "      <th>성별(1)</th>\n",
              "      <th>시점</th>\n",
              "      <th>6세</th>\n",
              "      <th>7세</th>\n",
              "      <th>8세</th>\n",
              "      <th>9세</th>\n",
              "      <th>10세</th>\n",
              "      <th>11세</th>\n",
              "      <th>12세</th>\n",
              "      <th>13세</th>\n",
              "      <th>14세</th>\n",
              "      <th>15세</th>\n",
              "      <th>16세</th>\n",
              "      <th>17세</th>\n",
              "    </tr>\n",
              "  </thead>\n",
              "  <tbody>\n",
              "    <tr>\n",
              "      <th>0</th>\n",
              "      <td>남자</td>\n",
              "      <td>2015</td>\n",
              "      <td>121.3</td>\n",
              "      <td>128.0</td>\n",
              "      <td>133.6</td>\n",
              "      <td>139.6</td>\n",
              "      <td>144.7</td>\n",
              "      <td>151.8</td>\n",
              "      <td>160.3</td>\n",
              "      <td>165.7</td>\n",
              "      <td>170.5</td>\n",
              "      <td>172.7</td>\n",
              "      <td>172.7</td>\n",
              "      <td>173.7</td>\n",
              "    </tr>\n",
              "    <tr>\n",
              "      <th>1</th>\n",
              "      <td>남자</td>\n",
              "      <td>2016</td>\n",
              "      <td>121.5</td>\n",
              "      <td>128.3</td>\n",
              "      <td>133.9</td>\n",
              "      <td>139.1</td>\n",
              "      <td>145.1</td>\n",
              "      <td>152.0</td>\n",
              "      <td>160.3</td>\n",
              "      <td>166.4</td>\n",
              "      <td>170.4</td>\n",
              "      <td>172.7</td>\n",
              "      <td>135.5</td>\n",
              "      <td>174.1</td>\n",
              "    </tr>\n",
              "    <tr>\n",
              "      <th>2</th>\n",
              "      <td>남자</td>\n",
              "      <td>2017</td>\n",
              "      <td>122.1</td>\n",
              "      <td>128.1</td>\n",
              "      <td>134.2</td>\n",
              "      <td>139.7</td>\n",
              "      <td>145.3</td>\n",
              "      <td>152.5</td>\n",
              "      <td>160.7</td>\n",
              "      <td>166.2</td>\n",
              "      <td>170.6</td>\n",
              "      <td>172.9</td>\n",
              "      <td>173.2</td>\n",
              "      <td>173.9</td>\n",
              "    </tr>\n",
              "    <tr>\n",
              "      <th>3</th>\n",
              "      <td>남자</td>\n",
              "      <td>2018</td>\n",
              "      <td>122.1</td>\n",
              "      <td>128.0</td>\n",
              "      <td>133.9</td>\n",
              "      <td>139.8</td>\n",
              "      <td>145.1</td>\n",
              "      <td>151.9</td>\n",
              "      <td>161.3</td>\n",
              "      <td>166.7</td>\n",
              "      <td>171.2</td>\n",
              "      <td>172.9</td>\n",
              "      <td>173.4</td>\n",
              "      <td>174.2</td>\n",
              "    </tr>\n",
              "    <tr>\n",
              "      <th>4</th>\n",
              "      <td>남자</td>\n",
              "      <td>2019</td>\n",
              "      <td>122.0</td>\n",
              "      <td>128.6</td>\n",
              "      <td>134.6</td>\n",
              "      <td>139.9</td>\n",
              "      <td>145.1</td>\n",
              "      <td>151.9</td>\n",
              "      <td>160.7</td>\n",
              "      <td>167.8</td>\n",
              "      <td>170.6</td>\n",
              "      <td>173.3</td>\n",
              "      <td>173.8</td>\n",
              "      <td>174.4</td>\n",
              "    </tr>\n",
              "    <tr>\n",
              "      <th>5</th>\n",
              "      <td>남자</td>\n",
              "      <td>2021</td>\n",
              "      <td>124.1</td>\n",
              "      <td>129.5</td>\n",
              "      <td>135.3</td>\n",
              "      <td>141.4</td>\n",
              "      <td>147.9</td>\n",
              "      <td>153.9</td>\n",
              "      <td>162.3</td>\n",
              "      <td>167.6</td>\n",
              "      <td>171.4</td>\n",
              "      <td>173.3</td>\n",
              "      <td>174.0</td>\n",
              "      <td>173.7</td>\n",
              "    </tr>\n",
              "  </tbody>\n",
              "</table>\n",
              "</div>\n",
              "      <button class=\"colab-df-convert\" onclick=\"convertToInteractive('df-735cdec6-a5aa-4d51-98f5-dcd0ce604609')\"\n",
              "              title=\"Convert this dataframe to an interactive table.\"\n",
              "              style=\"display:none;\">\n",
              "\n",
              "  <svg xmlns=\"http://www.w3.org/2000/svg\" height=\"24px\"viewBox=\"0 0 24 24\"\n",
              "       width=\"24px\">\n",
              "    <path d=\"M0 0h24v24H0V0z\" fill=\"none\"/>\n",
              "    <path d=\"M18.56 5.44l.94 2.06.94-2.06 2.06-.94-2.06-.94-.94-2.06-.94 2.06-2.06.94zm-11 1L8.5 8.5l.94-2.06 2.06-.94-2.06-.94L8.5 2.5l-.94 2.06-2.06.94zm10 10l.94 2.06.94-2.06 2.06-.94-2.06-.94-.94-2.06-.94 2.06-2.06.94z\"/><path d=\"M17.41 7.96l-1.37-1.37c-.4-.4-.92-.59-1.43-.59-.52 0-1.04.2-1.43.59L10.3 9.45l-7.72 7.72c-.78.78-.78 2.05 0 2.83L4 21.41c.39.39.9.59 1.41.59.51 0 1.02-.2 1.41-.59l7.78-7.78 2.81-2.81c.8-.78.8-2.07 0-2.86zM5.41 20L4 18.59l7.72-7.72 1.47 1.35L5.41 20z\"/>\n",
              "  </svg>\n",
              "      </button>\n",
              "\n",
              "\n",
              "\n",
              "    <div id=\"df-d72acb5e-4d74-4937-9160-becc9ffddd41\">\n",
              "      <button class=\"colab-df-quickchart\" onclick=\"quickchart('df-d72acb5e-4d74-4937-9160-becc9ffddd41')\"\n",
              "              title=\"Suggest charts.\"\n",
              "              style=\"display:none;\">\n",
              "\n",
              "<svg xmlns=\"http://www.w3.org/2000/svg\" height=\"24px\"viewBox=\"0 0 24 24\"\n",
              "     width=\"24px\">\n",
              "    <g>\n",
              "        <path d=\"M19 3H5c-1.1 0-2 .9-2 2v14c0 1.1.9 2 2 2h14c1.1 0 2-.9 2-2V5c0-1.1-.9-2-2-2zM9 17H7v-7h2v7zm4 0h-2V7h2v10zm4 0h-2v-4h2v4z\"/>\n",
              "    </g>\n",
              "</svg>\n",
              "      </button>\n",
              "    </div>\n",
              "\n",
              "<style>\n",
              "  .colab-df-quickchart {\n",
              "    background-color: #E8F0FE;\n",
              "    border: none;\n",
              "    border-radius: 50%;\n",
              "    cursor: pointer;\n",
              "    display: none;\n",
              "    fill: #1967D2;\n",
              "    height: 32px;\n",
              "    padding: 0 0 0 0;\n",
              "    width: 32px;\n",
              "  }\n",
              "\n",
              "  .colab-df-quickchart:hover {\n",
              "    background-color: #E2EBFA;\n",
              "    box-shadow: 0px 1px 2px rgba(60, 64, 67, 0.3), 0px 1px 3px 1px rgba(60, 64, 67, 0.15);\n",
              "    fill: #174EA6;\n",
              "  }\n",
              "\n",
              "  [theme=dark] .colab-df-quickchart {\n",
              "    background-color: #3B4455;\n",
              "    fill: #D2E3FC;\n",
              "  }\n",
              "\n",
              "  [theme=dark] .colab-df-quickchart:hover {\n",
              "    background-color: #434B5C;\n",
              "    box-shadow: 0px 1px 3px 1px rgba(0, 0, 0, 0.15);\n",
              "    filter: drop-shadow(0px 1px 2px rgba(0, 0, 0, 0.3));\n",
              "    fill: #FFFFFF;\n",
              "  }\n",
              "</style>\n",
              "\n",
              "    <script>\n",
              "      async function quickchart(key) {\n",
              "        const containerElement = document.querySelector('#' + key);\n",
              "        const charts = await google.colab.kernel.invokeFunction(\n",
              "            'suggestCharts', [key], {});\n",
              "      }\n",
              "    </script>\n",
              "\n",
              "      <script>\n",
              "\n",
              "function displayQuickchartButton(domScope) {\n",
              "  let quickchartButtonEl =\n",
              "    domScope.querySelector('#df-d72acb5e-4d74-4937-9160-becc9ffddd41 button.colab-df-quickchart');\n",
              "  quickchartButtonEl.style.display =\n",
              "    google.colab.kernel.accessAllowed ? 'block' : 'none';\n",
              "}\n",
              "\n",
              "        displayQuickchartButton(document);\n",
              "      </script>\n",
              "      <style>\n",
              "    .colab-df-container {\n",
              "      display:flex;\n",
              "      flex-wrap:wrap;\n",
              "      gap: 12px;\n",
              "    }\n",
              "\n",
              "    .colab-df-convert {\n",
              "      background-color: #E8F0FE;\n",
              "      border: none;\n",
              "      border-radius: 50%;\n",
              "      cursor: pointer;\n",
              "      display: none;\n",
              "      fill: #1967D2;\n",
              "      height: 32px;\n",
              "      padding: 0 0 0 0;\n",
              "      width: 32px;\n",
              "    }\n",
              "\n",
              "    .colab-df-convert:hover {\n",
              "      background-color: #E2EBFA;\n",
              "      box-shadow: 0px 1px 2px rgba(60, 64, 67, 0.3), 0px 1px 3px 1px rgba(60, 64, 67, 0.15);\n",
              "      fill: #174EA6;\n",
              "    }\n",
              "\n",
              "    [theme=dark] .colab-df-convert {\n",
              "      background-color: #3B4455;\n",
              "      fill: #D2E3FC;\n",
              "    }\n",
              "\n",
              "    [theme=dark] .colab-df-convert:hover {\n",
              "      background-color: #434B5C;\n",
              "      box-shadow: 0px 1px 3px 1px rgba(0, 0, 0, 0.15);\n",
              "      filter: drop-shadow(0px 1px 2px rgba(0, 0, 0, 0.3));\n",
              "      fill: #FFFFFF;\n",
              "    }\n",
              "  </style>\n",
              "\n",
              "      <script>\n",
              "        const buttonEl =\n",
              "          document.querySelector('#df-735cdec6-a5aa-4d51-98f5-dcd0ce604609 button.colab-df-convert');\n",
              "        buttonEl.style.display =\n",
              "          google.colab.kernel.accessAllowed ? 'block' : 'none';\n",
              "\n",
              "        async function convertToInteractive(key) {\n",
              "          const element = document.querySelector('#df-735cdec6-a5aa-4d51-98f5-dcd0ce604609');\n",
              "          const dataTable =\n",
              "            await google.colab.kernel.invokeFunction('convertToInteractive',\n",
              "                                                     [key], {});\n",
              "          if (!dataTable) return;\n",
              "\n",
              "          const docLinkHtml = 'Like what you see? Visit the ' +\n",
              "            '<a target=\"_blank\" href=https://colab.research.google.com/notebooks/data_table.ipynb>data table notebook</a>'\n",
              "            + ' to learn more about interactive tables.';\n",
              "          element.innerHTML = '';\n",
              "          dataTable['output_type'] = 'display_data';\n",
              "          await google.colab.output.renderOutput(dataTable, element);\n",
              "          const docLink = document.createElement('div');\n",
              "          docLink.innerHTML = docLinkHtml;\n",
              "          element.appendChild(docLink);\n",
              "        }\n",
              "      </script>\n",
              "    </div>\n",
              "  </div>\n"
            ]
          },
          "metadata": {},
          "execution_count": 53
        }
      ]
    },
    {
      "cell_type": "code",
      "source": [
        "df.iloc[3,10]"
      ],
      "metadata": {
        "colab": {
          "base_uri": "https://localhost:8080/"
        },
        "id": "AuLicLy-A_qL",
        "outputId": "6641757e-a89f-4635-f877-afcefa008430"
      },
      "execution_count": 52,
      "outputs": [
        {
          "output_type": "execute_result",
          "data": {
            "text/plain": [
              "171.2"
            ]
          },
          "metadata": {},
          "execution_count": 52
        }
      ]
    },
    {
      "cell_type": "markdown",
      "source": [
        "ㅤ"
      ],
      "metadata": {
        "id": "UZPgo6aUxfKX"
      }
    },
    {
      "cell_type": "code",
      "source": [
        "df([]'16세']< 173"
      ],
      "metadata": {
        "colab": {
          "base_uri": "https://localhost:8080/",
          "height": 146
        },
        "id": "kMDKYvl8BQrd",
        "outputId": "499095a4-920c-4538-e995-fc2aa8a032d3"
      },
      "execution_count": 57,
      "outputs": [
        {
          "output_type": "error",
          "ename": "SyntaxError",
          "evalue": "ignored",
          "traceback": [
            "\u001b[0;36m  File \u001b[0;32m\"<ipython-input-57-879a7cadc0f3>\"\u001b[0;36m, line \u001b[0;32m1\u001b[0m\n\u001b[0;31m    df(['16세']< 173\u001b[0m\n\u001b[0m                   ^\u001b[0m\n\u001b[0;31mSyntaxError\u001b[0m\u001b[0;31m:\u001b[0m incomplete input\n"
          ]
        }
      ]
    },
    {
      "cell_type": "markdown",
      "source": [
        "ㅤ"
      ],
      "metadata": {
        "id": "q94JC0AwmGqu"
      }
    },
    {
      "cell_type": "markdown",
      "source": [
        "ㅤ"
      ],
      "metadata": {
        "id": "_gJBGksGzhYR"
      }
    },
    {
      "cell_type": "markdown",
      "source": [
        "## **9. Dataframe 데이터 생성**"
      ],
      "metadata": {
        "id": "QDYE4HFMvrF7"
      }
    },
    {
      "cell_type": "markdown",
      "source": [
        "*   데이터프레임[칼럼명] = 값 : 새로운 칼럼에 값을 생성\n",
        "*  이미 있는 컬럼이면 값으로 수정되고, 없으면 생성"
      ],
      "metadata": {
        "id": "7SBWv3s8JKlX"
      }
    },
    {
      "cell_type": "markdown",
      "source": [
        "기존에 있던 데이터프레임을 새로운 변수 df1로 새로 생성합니다.\n",
        "\n",
        "df1에 0의 데이터 값을 가진 18세 칼럼을 생성합니다."
      ],
      "metadata": {
        "id": "GAOlW6J85daX"
      }
    },
    {
      "cell_type": "code",
      "source": [
        "df_new['18세']=[173.8,174,174.2,174.8,175,177]\n",
        "df_new"
      ],
      "metadata": {
        "colab": {
          "base_uri": "https://localhost:8080/",
          "height": 200
        },
        "id": "wnnYG0BJCkKi",
        "outputId": "5d69a4bd-157a-4999-f600-0cd70f40f69c"
      },
      "execution_count": 62,
      "outputs": [
        {
          "output_type": "error",
          "ename": "NameError",
          "evalue": "ignored",
          "traceback": [
            "\u001b[0;31m---------------------------------------------------------------------------\u001b[0m",
            "\u001b[0;31mNameError\u001b[0m                                 Traceback (most recent call last)",
            "\u001b[0;32m<ipython-input-62-af9faa2f6440>\u001b[0m in \u001b[0;36m<cell line: 1>\u001b[0;34m()\u001b[0m\n\u001b[0;32m----> 1\u001b[0;31m \u001b[0mdf_new\u001b[0m\u001b[0;34m[\u001b[0m\u001b[0;34m'18세'\u001b[0m\u001b[0;34m]\u001b[0m\u001b[0;34m=\u001b[0m\u001b[0;34m[\u001b[0m\u001b[0;36m173.8\u001b[0m\u001b[0;34m,\u001b[0m\u001b[0;36m174\u001b[0m\u001b[0;34m,\u001b[0m\u001b[0;36m174.2\u001b[0m\u001b[0;34m,\u001b[0m\u001b[0;36m174.8\u001b[0m\u001b[0;34m,\u001b[0m\u001b[0;36m175\u001b[0m\u001b[0;34m,\u001b[0m\u001b[0;36m177\u001b[0m\u001b[0;34m]\u001b[0m\u001b[0;34m\u001b[0m\u001b[0;34m\u001b[0m\u001b[0m\n\u001b[0m\u001b[1;32m      2\u001b[0m \u001b[0mdf_new\u001b[0m\u001b[0;34m\u001b[0m\u001b[0;34m\u001b[0m\u001b[0m\n",
            "\u001b[0;31mNameError\u001b[0m: name 'df_new' is not defined"
          ]
        }
      ]
    },
    {
      "cell_type": "code",
      "source": [
        "df_new.loc['6']=[2022,124.2,129.8,135.6,141.7,148,154,162.4,168,171.9,174,174.3,173.9,175]\n"
      ],
      "metadata": {
        "colab": {
          "base_uri": "https://localhost:8080/",
          "height": 200
        },
        "id": "JN6NIXhMDy6U",
        "outputId": "fc62746e-4fb5-4faf-ce3a-1bafb870c867"
      },
      "execution_count": 64,
      "outputs": [
        {
          "output_type": "error",
          "ename": "NameError",
          "evalue": "ignored",
          "traceback": [
            "\u001b[0;31m---------------------------------------------------------------------------\u001b[0m",
            "\u001b[0;31mNameError\u001b[0m                                 Traceback (most recent call last)",
            "\u001b[0;32m<ipython-input-64-037901f5fb61>\u001b[0m in \u001b[0;36m<cell line: 1>\u001b[0;34m()\u001b[0m\n\u001b[0;32m----> 1\u001b[0;31m \u001b[0mdf_new\u001b[0m\u001b[0;34m.\u001b[0m\u001b[0mloc\u001b[0m\u001b[0;34m[\u001b[0m\u001b[0;34m'6'\u001b[0m\u001b[0;34m]\u001b[0m\u001b[0;34m=\u001b[0m\u001b[0;34m[\u001b[0m\u001b[0;36m2022\u001b[0m\u001b[0;34m,\u001b[0m\u001b[0;36m124.2\u001b[0m\u001b[0;34m,\u001b[0m\u001b[0;36m129.8\u001b[0m\u001b[0;34m,\u001b[0m\u001b[0;36m135.6\u001b[0m\u001b[0;34m,\u001b[0m\u001b[0;36m141.7\u001b[0m\u001b[0;34m,\u001b[0m\u001b[0;36m148\u001b[0m\u001b[0;34m,\u001b[0m\u001b[0;36m154\u001b[0m\u001b[0;34m,\u001b[0m\u001b[0;36m162.4\u001b[0m\u001b[0;34m,\u001b[0m\u001b[0;36m168\u001b[0m\u001b[0;34m,\u001b[0m\u001b[0;36m171.9\u001b[0m\u001b[0;34m,\u001b[0m\u001b[0;36m174\u001b[0m\u001b[0;34m,\u001b[0m\u001b[0;36m174.3\u001b[0m\u001b[0;34m,\u001b[0m\u001b[0;36m173.9\u001b[0m\u001b[0;34m,\u001b[0m\u001b[0;36m175\u001b[0m\u001b[0;34m]\u001b[0m\u001b[0;34m\u001b[0m\u001b[0;34m\u001b[0m\u001b[0m\n\u001b[0m",
            "\u001b[0;31mNameError\u001b[0m: name 'df_new' is not defined"
          ]
        }
      ]
    },
    {
      "cell_type": "code",
      "source": [
        "df_new['시점'].astype('int64')\n",
        "df_new"
      ],
      "metadata": {
        "id": "fV1K3GtxEr7D"
      },
      "execution_count": null,
      "outputs": []
    },
    {
      "cell_type": "code",
      "source": [],
      "metadata": {
        "id": "9DnTaUDgC5-i"
      },
      "execution_count": null,
      "outputs": []
    },
    {
      "cell_type": "markdown",
      "source": [
        "ㅤ"
      ],
      "metadata": {
        "id": "zmcLyLoJ-qGk"
      }
    },
    {
      "cell_type": "markdown",
      "source": [
        "## **10. Dataframe 데이터 변경**"
      ],
      "metadata": {
        "id": "2ET3RZmjvwF2"
      }
    },
    {
      "cell_type": "markdown",
      "source": [
        "### **1) 위치 변경**"
      ],
      "metadata": {
        "id": "GBn8EWQkJ90D"
      }
    },
    {
      "cell_type": "markdown",
      "source": [
        "*  .at[행, 열] = 값 : 라벨의 이름을 이용하여 원하는 위치의 값을 변경할 수 있습니다.\n",
        "\n",
        "*  .iat[인덱스번호] = 값 : 인덱스 번호를 이용한 위치의 값을 변경할 수 있습니다."
      ],
      "metadata": {
        "id": "OdBN-R0xJpHv"
      }
    },
    {
      "cell_type": "code",
      "source": [
        "df_new.at[1,'6세']=121.7\n",
        "df_new"
      ],
      "metadata": {
        "colab": {
          "base_uri": "https://localhost:8080/",
          "height": 200
        },
        "id": "uWyLmrMpFpd5",
        "outputId": "a71b5f98-7508-45c9-d1d1-0cd43f48ecef"
      },
      "execution_count": 65,
      "outputs": [
        {
          "output_type": "error",
          "ename": "NameError",
          "evalue": "ignored",
          "traceback": [
            "\u001b[0;31m---------------------------------------------------------------------------\u001b[0m",
            "\u001b[0;31mNameError\u001b[0m                                 Traceback (most recent call last)",
            "\u001b[0;32m<ipython-input-65-c3f867577f9b>\u001b[0m in \u001b[0;36m<cell line: 1>\u001b[0;34m()\u001b[0m\n\u001b[0;32m----> 1\u001b[0;31m \u001b[0mdf_new\u001b[0m\u001b[0;34m.\u001b[0m\u001b[0mat\u001b[0m\u001b[0;34m[\u001b[0m\u001b[0;36m1\u001b[0m\u001b[0;34m,\u001b[0m\u001b[0;34m'6세'\u001b[0m\u001b[0;34m]\u001b[0m\u001b[0;34m=\u001b[0m\u001b[0;36m121.7\u001b[0m\u001b[0;34m\u001b[0m\u001b[0;34m\u001b[0m\u001b[0m\n\u001b[0m\u001b[1;32m      2\u001b[0m \u001b[0mdf_new\u001b[0m\u001b[0;34m\u001b[0m\u001b[0;34m\u001b[0m\u001b[0m\n",
            "\u001b[0;31mNameError\u001b[0m: name 'df_new' is not defined"
          ]
        }
      ]
    },
    {
      "cell_type": "markdown",
      "source": [
        "ㅤ"
      ],
      "metadata": {
        "id": "w3Lo8eEizj5q"
      }
    },
    {
      "cell_type": "markdown",
      "source": [
        "ㅤ"
      ],
      "metadata": {
        "id": "s3y5XL798Mx4"
      }
    },
    {
      "cell_type": "markdown",
      "source": [
        "ㅤ"
      ],
      "metadata": {
        "id": "LsI1KFCM8arQ"
      }
    },
    {
      "cell_type": "markdown",
      "source": [
        "### **2) 행과 열 교환하기**"
      ],
      "metadata": {
        "id": "E9A_2OuWJpT3"
      }
    },
    {
      "cell_type": "markdown",
      "source": [
        "\n",
        "\n",
        "\n",
        "*   .T : ‘Transpose index and columns’의 약자로, index 와 column 을 전치시킵니다.\n"
      ],
      "metadata": {
        "id": "l-Kie4JVJpT3"
      }
    },
    {
      "cell_type": "markdown",
      "source": [
        "행과 열의 위치가 바뀐 것을 확인할 수 있습니다."
      ],
      "metadata": {
        "id": "smGwGddcJpT4"
      }
    },
    {
      "cell_type": "markdown",
      "source": [
        "ㅤ"
      ],
      "metadata": {
        "id": "R7KzQjvUnTnD"
      }
    },
    {
      "cell_type": "markdown",
      "source": [
        "## **11. Dataframe 데이터 결합**"
      ],
      "metadata": {
        "id": "IwgOu4G8AeA_"
      }
    },
    {
      "cell_type": "markdown",
      "source": [
        "### **1) concat**"
      ],
      "metadata": {
        "id": "BliTMVP9LTeA"
      }
    },
    {
      "cell_type": "markdown",
      "source": [
        "*   concat은 concatenation의 약자로 연결을 의미합니다. 즉, 두 개 이상의 데이터프라임 결합할 때 사용하는 메소드입니다. (속성형태가 같은 데이터프레임 합칠 때)\n",
        "\n",
        "*   pd.concat([데이터프라임], [데이터프라임])\n",
        "\n",
        "*   axis: 어떻게 결합할 건지 결정하는 파라미터입니다.\n",
        "\n",
        "  - 0: 열 (디폴트), 1: 행"
      ],
      "metadata": {
        "id": "bwXiV9hCLhMy"
      }
    },
    {
      "cell_type": "markdown",
      "source": [
        "ㅤ"
      ],
      "metadata": {
        "id": "6Q-erswaMdXu"
      }
    },
    {
      "cell_type": "markdown",
      "source": [
        "concat은 칼럼과 인덱스를 기준으로 병합하는데 공통된 칼럼이나 인덱스가 없어 NaN을 포함하여 결합하게 됩니다."
      ],
      "metadata": {
        "id": "KAZwo4iECVkQ"
      }
    },
    {
      "cell_type": "markdown",
      "source": [
        "ㅤ"
      ],
      "metadata": {
        "id": "n3by5PcYl7Hm"
      }
    },
    {
      "cell_type": "markdown",
      "source": [
        "공통된 인덱스가 존재하여 아까와는 다르게 NaN 값이 포함하지 않고 결합할 수 있습니다."
      ],
      "metadata": {
        "id": "b7fSnAtGCvNo"
      }
    },
    {
      "cell_type": "markdown",
      "source": [
        "ㅤ"
      ],
      "metadata": {
        "id": "wq9J93wsl-Mx"
      }
    },
    {
      "cell_type": "markdown",
      "source": [
        "반대로 공통된 칼럼이 존재하고 열으로 병합하게 되면 NaN 값을 발생하지 않고 합쳐지게 됩니다."
      ],
      "metadata": {
        "id": "rOB6cdWgMh2C"
      }
    },
    {
      "cell_type": "markdown",
      "source": [
        "ㅤ"
      ],
      "metadata": {
        "id": "4eIvU6GrIyyp"
      }
    },
    {
      "cell_type": "markdown",
      "source": [
        "### **2) append**"
      ],
      "metadata": {
        "id": "KBJQIqLOMm9i"
      }
    },
    {
      "cell_type": "markdown",
      "source": [
        "*   concat과 달리 행으로 결합이 가능합니다. (열로 결합 불가능)\n",
        "\n",
        "*   데이터프레임1.append(데이터프레임2)"
      ],
      "metadata": {
        "id": "yObSlBhyMvNY"
      }
    },
    {
      "cell_type": "markdown",
      "source": [
        "ㅤ"
      ],
      "metadata": {
        "id": "dZTt-qTXORSj"
      }
    },
    {
      "cell_type": "markdown",
      "source": [
        "\n",
        "\n",
        "---\n",
        "\n"
      ],
      "metadata": {
        "id": "NUCBgVFsORg6"
      }
    },
    {
      "cell_type": "markdown",
      "source": [
        "## **12. Dataframe 데이터 복사와 삭제**\n"
      ],
      "metadata": {
        "id": "2YwYr4bYk8Yg"
      }
    },
    {
      "cell_type": "markdown",
      "source": [
        "### **1) 데이터 프레임 복제**\n",
        "df_original = df.copy()"
      ],
      "metadata": {
        "id": "tmepfCxqF_9f"
      }
    },
    {
      "cell_type": "markdown",
      "source": [
        "### **2) 행이나 열 삭제**\n",
        "- DataFrame.drop(labels=None, axis=0, index=None, columns=None, level=None, inplace=False, errors='raise')\n",
        "  - label 열이나 행\n",
        "  - axis: 0 행, 1 열, 디폴트 0"
      ],
      "metadata": {
        "id": "ckrMSL7JlF15"
      }
    },
    {
      "cell_type": "markdown",
      "source": [
        "*  행 여러개 삭제하기\n",
        "-- 데이터프레임.drop(index = 삭제할 인덱스 리스트, inplace = True)\n",
        "-- inplace의 기본값은 False, True로 바꿔주면 바로 삭제하겠다 라는 뜻"
      ],
      "metadata": {
        "id": "09jgDJZ5G9IY"
      }
    },
    {
      "cell_type": "markdown",
      "source": [
        "## **13. Dataframe 함수**\n"
      ],
      "metadata": {
        "id": "b8YTPtqoMzTq"
      }
    },
    {
      "cell_type": "markdown",
      "source": [
        "min(), max(), median(), mean(), std(), var(), sum()\n",
        "\n",
        "\n",
        "* 하나의 행의 모든값들을 더하기\n",
        "df.sum()\n",
        "\n",
        "* 하나의 열의 모든값들을 더하기\n",
        "df.sum(axis=1)\n",
        "\n",
        "* 한가지 열의 합계만 출력하기\n",
        "df[\"열의 이름\"].sum()\n",
        "\n",
        "* 한가지 행의 합계만 출력하기\n",
        "df.loc[\"행의 이름\"].sum()\n",
        "\n",
        "* df.isnull()은 null값이 몇개 있는지\n",
        "\n",
        "* df.isnull().sum()을 하면 열별로 null값이 몇개 있는"
      ],
      "metadata": {
        "id": "6o-sWAwaM09A"
      }
    },
    {
      "cell_type": "markdown",
      "source": [
        "여러가지 칼럼을 통계함수로 묶어보기\n",
        "* df.groupby(['나이', '전투력']).mean()\n",
        "* 여러개의 칼럼을 적어줄때는 [ ] 리스트안에 ,(쉼표)로 구분"
      ],
      "metadata": {
        "id": "tM3Wp59ENWSf"
      }
    }
  ]
}