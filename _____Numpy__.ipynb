{
  "nbformat": 4,
  "nbformat_minor": 0,
  "metadata": {
    "colab": {
      "provenance": [],
      "toc_visible": true,
      "include_colab_link": true
    },
    "kernelspec": {
      "name": "python3",
      "display_name": "Python 3"
    },
    "language_info": {
      "name": "python"
    }
  },
  "cells": [
    {
      "cell_type": "markdown",
      "metadata": {
        "id": "view-in-github",
        "colab_type": "text"
      },
      "source": [
        "<a href=\"https://colab.research.google.com/github/seunghokimsj/bioinfomatics2/blob/main/_____Numpy__.ipynb\" target=\"_parent\"><img src=\"https://colab.research.google.com/assets/colab-badge.svg\" alt=\"Open In Colab\"/></a>"
      ]
    },
    {
      "cell_type": "markdown",
      "source": [
        "\n",
        "1. **Numpy**\n",
        "\n",
        "2. **np.array()**\n",
        "\n",
        "  1) ndarray의 데이터 타입\n",
        "\n",
        "  2) ndarray를 편리하게 생성하기\n",
        "\n",
        "3.  **차원과 크기 변경: reshape()**\n",
        "\n",
        "4.  **데이터 세트 선택하기 - 인덱싱(Indexing)**\n",
        "\n",
        "5. **행렬의 정렬 - sort()와 argsort()**\n",
        "\n",
        "6. **선형대수 연산 - 행렬 내적과 전치 행렬 구하기**\n",
        "\n",
        "7. **배열 간 사칙연산**\n",
        "\n",
        "8. **Broadcasting**\n",
        "\n",
        "9. **집계(Aggregation)**\n",
        "\n",
        "  1) 합계\n",
        "\n",
        "  2) 평균\n",
        "\n",
        "  3) 곱셈\n",
        "\n",
        "  4) 최댓값과 최솟값\n",
        "\n",
        "  5) 표준편차와 분산\n"
      ],
      "metadata": {
        "id": "m8MtFY4im7Eg"
      }
    },
    {
      "cell_type": "markdown",
      "source": [
        "<div><span>"
      ],
      "metadata": {
        "id": "Tr-D3iAYn8Wt"
      }
    },
    {
      "cell_type": "markdown",
      "source": [
        "\n",
        "\n",
        "---\n",
        "\n"
      ],
      "metadata": {
        "id": "PXTmJWXAfI6P"
      }
    },
    {
      "cell_type": "markdown",
      "source": [
        "## **1. Numpy**"
      ],
      "metadata": {
        "id": "j4O3-2SYmjHA"
      }
    },
    {
      "cell_type": "markdown",
      "source": [
        "선형대수는 머신러닝 주요 알고리즘 중 하나입니다.\n",
        "<br/>넘파이는 파이썬에서 선형대수 기반 프로그램을 가능하게 하는 대표적인 패키지이며 빠른 계산과 배열 연산 능력을 보장합니다."
      ],
      "metadata": {
        "id": "LNIbwJt0ca6z"
      }
    },
    {
      "cell_type": "markdown",
      "source": [
        "수행 성능이 중요시될 때는 C/C++ 기반의 코드를 넘파이에서 호출하여 쉽게 통합할 수도 있습니다.\n",
        "<br/> 딥러닝 프레임워크인 텐서플로가 앞서 말한 방식으로 작성됐습니다."
      ],
      "metadata": {
        "id": "FvnFcCaTfZGo"
      }
    },
    {
      "cell_type": "markdown",
      "source": [
        "넘파이는 다양한 데이터 핸들링 기능도 제공하지만 데이터 처리 패키지인 판다스의 편리성은 따라가지 못합니다.\n",
        "<br/> 그러나 많은 머신러닝 알고리즘이 넘파이를 기반으로 하기 때문에 넘파이에 익숙해지는 것이 매우 중요합니다."
      ],
      "metadata": {
        "id": "YElQBKAZeQPb"
      }
    },
    {
      "cell_type": "markdown",
      "source": [
        "ㅤ"
      ],
      "metadata": {
        "id": "w9jjVOmoEivl"
      }
    },
    {
      "cell_type": "code",
      "source": [
        "import numpy as np\n",
        "\n",
        "data = [1,2,3,4]\n",
        "result =[]\n",
        "\n",
        "for i in data:\n",
        "  result.append(i*10)\n",
        "\n",
        "print(result,type(result))"
      ],
      "metadata": {
        "id": "Cs2YJVO4mpAS",
        "colab": {
          "base_uri": "https://localhost:8080/"
        },
        "outputId": "bd7a57cb-d73d-4dee-e4ec-c9a26c9d6932"
      },
      "execution_count": 2,
      "outputs": [
        {
          "output_type": "stream",
          "name": "stdout",
          "text": [
            "[10, 20, 30, 40] <class 'list'>\n"
          ]
        }
      ]
    },
    {
      "cell_type": "code",
      "source": [
        "# 넘파이를 이용해 10씩 곱하기\n",
        "arr = np.array(data)\n",
        "\n",
        "arr10 = arr*10\n",
        "print(arr10,type(arr10))"
      ],
      "metadata": {
        "colab": {
          "base_uri": "https://localhost:8080/"
        },
        "id": "yMJ-S4a2EBAY",
        "outputId": "90e82c8d-3bfc-4a79-906d-bf3cc596b1f8"
      },
      "execution_count": 3,
      "outputs": [
        {
          "output_type": "stream",
          "name": "stdout",
          "text": [
            "[10 20 30 40] <class 'numpy.ndarray'>\n"
          ]
        }
      ]
    },
    {
      "cell_type": "markdown",
      "source": [
        "ㅤ"
      ],
      "metadata": {
        "id": "JiM99u3ieQAc"
      }
    },
    {
      "cell_type": "markdown",
      "source": [
        "## **2. np.array()**\n",
        "\n",
        "*   리스트와 같은 다양한 인자를 입력 받아서 ndarray로 변환하는 기능을 수행합니다.\n",
        "*   .shape로 배열의 모양을 확인할 수 있으며 ndarray의 행과 열의 수를 튜플 형태로 가집니다.\n",
        "*   대괄호[] 중첩으로 배열이 증가합니다.\n",
        "\n",
        "\n",
        "\n",
        "\n"
      ],
      "metadata": {
        "id": "lWh8o8ypm5Ot"
      }
    },
    {
      "cell_type": "code",
      "source": [
        "#1차원 배열\n",
        "배열1=np.array([1,2,3])\n",
        "print(배열1)\n",
        "print(배열1.shape)"
      ],
      "metadata": {
        "colab": {
          "base_uri": "https://localhost:8080/"
        },
        "id": "5eza2XKXG2We",
        "outputId": "a7fc5383-46bf-4ec8-8644-1f24e47fedb5"
      },
      "execution_count": 4,
      "outputs": [
        {
          "output_type": "stream",
          "name": "stdout",
          "text": [
            "[1 2 3]\n",
            "(3,)\n"
          ]
        }
      ]
    },
    {
      "cell_type": "code",
      "source": [
        "#2차원 배열\n",
        "배열2 = np.array([[1,2,3],[4,5,6]])\n",
        "print(배열2)\n",
        "print(배열2.shape)"
      ],
      "metadata": {
        "colab": {
          "base_uri": "https://localhost:8080/"
        },
        "id": "FWdQvc1vHld_",
        "outputId": "ae2089fb-95b5-4366-8a77-6738f15c86ef"
      },
      "execution_count": 5,
      "outputs": [
        {
          "output_type": "stream",
          "name": "stdout",
          "text": [
            "[[1 2 3]\n",
            " [4 5 6]]\n",
            "(2, 3)\n"
          ]
        }
      ]
    },
    {
      "cell_type": "code",
      "source": [
        "#3차원 배열\n",
        "배열3 = np.array([[[1,2,3],[4,5,6],[7,8,9]]])\n",
        "print(배열3)\n",
        "print(배열3.shape)"
      ],
      "metadata": {
        "colab": {
          "base_uri": "https://localhost:8080/"
        },
        "id": "63lnfg22IMMA",
        "outputId": "fd848dbc-bff5-4f29-9cea-b70aaa280929"
      },
      "execution_count": 8,
      "outputs": [
        {
          "output_type": "stream",
          "name": "stdout",
          "text": [
            "[[[1 2 3]\n",
            "  [4 5 6]\n",
            "  [7 8 9]]]\n",
            "(1, 3, 3)\n"
          ]
        }
      ]
    },
    {
      "cell_type": "markdown",
      "source": [
        "ㅤ"
      ],
      "metadata": {
        "id": "8SKfQy9ieQ8D"
      }
    },
    {
      "cell_type": "markdown",
      "source": [
        "ㅤ"
      ],
      "metadata": {
        "id": "82xE1uF0eTjk"
      }
    },
    {
      "cell_type": "markdown",
      "source": [
        "### **1) ndarray의 데이터 타입**\n",
        "\n",
        "\n",
        "\n",
        "\n"
      ],
      "metadata": {
        "id": "9gskT0Xlxem9"
      }
    },
    {
      "cell_type": "markdown",
      "source": [
        "숫자값, 문자열 값, bool 값 등이 모두 가능합니다."
      ],
      "metadata": {
        "id": "t8vACAuNyMpy"
      }
    },
    {
      "cell_type": "markdown",
      "source": [
        "연산의 특성상 같은 데이터 타입만 가능합니다. 즉, 한 개의 ndarray 객체에 int와 float가 함께 있을 수 없습니다."
      ],
      "metadata": {
        "id": "NH8Dr7yeyYYY"
      }
    },
    {
      "cell_type": "markdown",
      "source": [
        "dtype으로 데이터 타입 속성을 확인 할 수 있습니다."
      ],
      "metadata": {
        "id": "PcFMzR_lyppz"
      }
    },
    {
      "cell_type": "markdown",
      "source": [
        "ㅤ"
      ],
      "metadata": {
        "id": "GnYoHdK3eVHs"
      }
    },
    {
      "cell_type": "code",
      "source": [
        "list = [1.5,2.4,3.7]\n",
        "print (type(list))\n",
        "\n",
        "array1 = np.array(list)\n",
        "print(type(array1))\n",
        "\n",
        "print(array1,array1.dtype)"
      ],
      "metadata": {
        "colab": {
          "base_uri": "https://localhost:8080/"
        },
        "id": "IS3VYxe4JZRg",
        "outputId": "7ebeddb9-827b-4a60-ceb5-958bf733c850"
      },
      "execution_count": 11,
      "outputs": [
        {
          "output_type": "stream",
          "name": "stdout",
          "text": [
            "<class 'list'>\n",
            "<class 'numpy.ndarray'>\n",
            "[1.5 2.4 3.7] float64\n"
          ]
        }
      ]
    },
    {
      "cell_type": "code",
      "source": [
        "list2 = [1,2,'t']\n",
        "arr2 = np.array(list2)\n",
        "print(arr2,arr2.dtype) #정수와 문자 비교"
      ],
      "metadata": {
        "colab": {
          "base_uri": "https://localhost:8080/"
        },
        "id": "NHHOI-qJJ3rC",
        "outputId": "48f0bc0c-69d7-48d2-94d3-71c2c58d2c28"
      },
      "execution_count": 13,
      "outputs": [
        {
          "output_type": "stream",
          "name": "stdout",
          "text": [
            "['1' '2' 't'] <U21\n"
          ]
        }
      ]
    },
    {
      "cell_type": "code",
      "source": [
        "list2=[1,2,3.5,4]\n",
        "arr2=np.array(list2)\n",
        "print(arr2,arr2.dtype) #정수와 실수 비교"
      ],
      "metadata": {
        "colab": {
          "base_uri": "https://localhost:8080/"
        },
        "id": "CVg30xpmKTnw",
        "outputId": "69c7cb31-cd1e-4789-ee31-d9fe3f9df3da"
      },
      "execution_count": 14,
      "outputs": [
        {
          "output_type": "stream",
          "name": "stdout",
          "text": [
            "[1.  2.  3.5 4. ] float64\n"
          ]
        }
      ]
    },
    {
      "cell_type": "code",
      "source": [
        "list3 = [3.5,'t']\n",
        "arr2 = np.array(list3)\n",
        "print(arr2,arr2.dtype) #실수와 문자 비교"
      ],
      "metadata": {
        "colab": {
          "base_uri": "https://localhost:8080/"
        },
        "id": "KhN6JBkuKqr0",
        "outputId": "c8fb6165-6512-45a3-dbc4-6e751873ae1f"
      },
      "execution_count": 16,
      "outputs": [
        {
          "output_type": "stream",
          "name": "stdout",
          "text": [
            "['3.5' 't'] <U32\n"
          ]
        }
      ]
    },
    {
      "cell_type": "markdown",
      "source": [
        "* 서로 다른 데이터 타입이 섞여 있을 경우 데이터 타입이 더 큰 데이터 타입으로 변환됩니다.\n",
        "* 사용하는 아키텍처에 따라 지정되기 때문에\n",
        "int64비트가 기본으로 설정\n",
        "\n",
        "\n",
        "> int형: 8bit, 16bit, 32bit\n",
        "\n",
        "\n",
        "> unsigned int형: 8bit, 16bit, 32bit\n",
        "\n",
        "\n",
        "> float형: 16bit, 32bit, 64bit, 128bit\n",
        "\n",
        "\n",
        "\n",
        "\n",
        "\n",
        "\n",
        "\n",
        "\n",
        "\n"
      ],
      "metadata": {
        "id": "7XuUrUR31N51"
      }
    },
    {
      "cell_type": "markdown",
      "source": [
        "ㅤ"
      ],
      "metadata": {
        "id": "8jvtA_SBeXGA"
      }
    },
    {
      "cell_type": "markdown",
      "source": [
        "* int8 ( -128 ~ 127 )\n",
        "* int16 ( -32768 ~ 32767 )\n",
        "* int32 ( -2147483648 ~ 2147483647 )"
      ],
      "metadata": {
        "id": "lG_S_DkGpQY-"
      }
    },
    {
      "cell_type": "markdown",
      "source": [
        "메모리를 절약해야 할 때 astype()을 사용하여 ndarray 내 데이터값의 타입을 변경할 수 있습니다."
      ],
      "metadata": {
        "id": "hkQHjmT_2mG8"
      }
    },
    {
      "cell_type": "markdown",
      "source": [
        "ㅤ"
      ],
      "metadata": {
        "id": "LRMPWLhLeYWi"
      }
    },
    {
      "cell_type": "markdown",
      "source": [
        "### **2) ndarray를 편리하게 생성하기**\n"
      ],
      "metadata": {
        "id": "WwpZVu7Q3kQ7"
      }
    },
    {
      "cell_type": "markdown",
      "source": [
        "**[ arange() ]**"
      ],
      "metadata": {
        "id": "LjHxuwbKff1J"
      }
    },
    {
      "cell_type": "markdown",
      "source": [
        "arange()는 표준 함수 range()와 유사,\n",
        "데이터 타입 지정하지 않으면 넘파이가 가장 적절한 타입으로 지정.\n",
        "~~~\n",
        "np.arange( 시작번호, 끝번호(포함X), 간격, dtype=데이터타입 )\n",
        "~~~"
      ],
      "metadata": {
        "id": "1Fxatu863uN3"
      }
    },
    {
      "cell_type": "code",
      "source": [
        "seq_arr = np.arange(10)\n",
        "print(seq_arr)"
      ],
      "metadata": {
        "colab": {
          "base_uri": "https://localhost:8080/"
        },
        "id": "A7tGpF_yLaGw",
        "outputId": "d60d758d-52b1-4bb3-814e-33b0cc968b9e"
      },
      "execution_count": 18,
      "outputs": [
        {
          "output_type": "stream",
          "name": "stdout",
          "text": [
            "[0 1 2 3 4 5 6 7 8 9]\n"
          ]
        }
      ]
    },
    {
      "cell_type": "markdown",
      "source": [
        "0부터 함수 인자 값 -1까지의 값을 순차적으로 ndarray의 데이터값으로 변환합니다."
      ],
      "metadata": {
        "id": "umcifAMn4ryG"
      }
    },
    {
      "cell_type": "markdown",
      "source": [
        "**[ linspace() ]**\n",
        "\n",
        "범위를 정해주고 정해진 수만큼 분할된 수열 생성"
      ],
      "metadata": {
        "id": "Tn8clfLzrhzH"
      }
    },
    {
      "cell_type": "markdown",
      "source": [
        "~~~\n",
        "np.linspace( 시작번호, 끝번호(포함), 나눌갯수, dtype=데이터타입 )\n",
        "~~~\n",
        "기본 값 실수, arange와 다른점을 끝번호를 포함하여 생성"
      ],
      "metadata": {
        "id": "Rbzer6z6roLt"
      }
    },
    {
      "cell_type": "markdown",
      "source": [
        "ㅤ"
      ],
      "metadata": {
        "id": "e4T6VFEEeaRu"
      }
    },
    {
      "cell_type": "code",
      "source": [
        "seq_arr=np.linspace(1,100,5,dtype=np.int32)\n",
        "print(seq_arr,seq_arr.dtype)"
      ],
      "metadata": {
        "colab": {
          "base_uri": "https://localhost:8080/"
        },
        "id": "MW7JifZ6MSWA",
        "outputId": "07b094cf-9572-40d0-a611-161170dd8e9b"
      },
      "execution_count": 20,
      "outputs": [
        {
          "output_type": "stream",
          "name": "stdout",
          "text": [
            "[  1  25  50  75 100] int32\n"
          ]
        }
      ]
    },
    {
      "cell_type": "code",
      "source": [
        "seq_arr=np.linspace(1,100,3)\n",
        "print(seq_arr)"
      ],
      "metadata": {
        "colab": {
          "base_uri": "https://localhost:8080/"
        },
        "id": "pE7t1_1yMqg4",
        "outputId": "89056077-f6a1-4125-d633-5b18f883ca1c"
      },
      "execution_count": 21,
      "outputs": [
        {
          "output_type": "stream",
          "name": "stdout",
          "text": [
            "[  1.   50.5 100. ]\n"
          ]
        }
      ]
    },
    {
      "cell_type": "markdown",
      "source": [
        "**[ zeros() ]**"
      ],
      "metadata": {
        "id": "0T1upwBKgASw"
      }
    },
    {
      "cell_type": "markdown",
      "source": [
        "zeros()는 모든 값을 0으로 채운 배열을 만듭니다."
      ],
      "metadata": {
        "id": "THThhjM34uyI"
      }
    },
    {
      "cell_type": "markdown",
      "source": [
        "ㅤ"
      ],
      "metadata": {
        "id": "BKe_LmKFecVp"
      }
    },
    {
      "cell_type": "code",
      "source": [
        "zeros=np.zeros(10,dtype=np.int8)\n",
        "print(zeros,zeros.dtype)\n"
      ],
      "metadata": {
        "colab": {
          "base_uri": "https://localhost:8080/"
        },
        "id": "6eLbRgkPNNKA",
        "outputId": "80afe694-37e5-4a59-ff89-fe1890c5c541"
      },
      "execution_count": 25,
      "outputs": [
        {
          "output_type": "stream",
          "name": "stdout",
          "text": [
            "[0 0 0 0 0 0 0 0 0 0] int8\n"
          ]
        }
      ]
    },
    {
      "cell_type": "code",
      "source": [
        "zeros1 =np.zeros((3,2))\n",
        "print(zeros1,zeros1.dtype)"
      ],
      "metadata": {
        "colab": {
          "base_uri": "https://localhost:8080/"
        },
        "id": "fhoLHZTfNkrY",
        "outputId": "5e62c53c-d970-4e92-f9ec-a291474795c5"
      },
      "execution_count": 28,
      "outputs": [
        {
          "output_type": "stream",
          "name": "stdout",
          "text": [
            "[[0. 0.]\n",
            " [0. 0.]\n",
            " [0. 0.]] float64\n"
          ]
        }
      ]
    },
    {
      "cell_type": "code",
      "source": [
        "zeros"
      ],
      "metadata": {
        "id": "2vgNOK5qNsS4"
      },
      "execution_count": null,
      "outputs": []
    },
    {
      "cell_type": "markdown",
      "source": [
        "**[ ones() ]**"
      ],
      "metadata": {
        "id": "FphezyjhgDfO"
      }
    },
    {
      "cell_type": "markdown",
      "source": [
        "ones()는 모든 값을 1로 채운 배열을 만듭니다."
      ],
      "metadata": {
        "id": "DThhde6O5lgB"
      }
    },
    {
      "cell_type": "code",
      "source": [
        "one1=np.ones((3,2))\n",
        "print(one1)"
      ],
      "metadata": {
        "colab": {
          "base_uri": "https://localhost:8080/"
        },
        "id": "GTFB8dLEN2to",
        "outputId": "10f5a118-20ec-4278-cd26-a3c38d734979"
      },
      "execution_count": 27,
      "outputs": [
        {
          "output_type": "stream",
          "name": "stdout",
          "text": [
            "[[1. 1.]\n",
            " [1. 1.]\n",
            " [1. 1.]]\n"
          ]
        }
      ]
    },
    {
      "cell_type": "code",
      "source": [
        "one2=np.ones([3,2])\n",
        "print(one1)"
      ],
      "metadata": {
        "colab": {
          "base_uri": "https://localhost:8080/"
        },
        "id": "A-qA6cSWOMpv",
        "outputId": "343a4682-3456-4c27-c1b3-aad9e2f4b9da"
      },
      "execution_count": 29,
      "outputs": [
        {
          "output_type": "stream",
          "name": "stdout",
          "text": [
            "[[1. 1.]\n",
            " [1. 1.]\n",
            " [1. 1.]]\n"
          ]
        }
      ]
    },
    {
      "cell_type": "markdown",
      "source": [
        "ㅤ"
      ],
      "metadata": {
        "id": "QgmpkAf5edxJ"
      }
    },
    {
      "cell_type": "markdown",
      "source": [
        "**[ random.randn() ]**"
      ],
      "metadata": {
        "id": "CRaBQ4vRgFvM"
      }
    },
    {
      "cell_type": "markdown",
      "source": [
        "random.randn()는 랜덤한 숫자 배열을 만듭니다."
      ],
      "metadata": {
        "id": "pkBAKXPi5ueu"
      }
    },
    {
      "cell_type": "markdown",
      "source": [
        "ㅤ"
      ],
      "metadata": {
        "id": "T0g6eAzYefbN"
      }
    },
    {
      "cell_type": "markdown",
      "source": [
        "## **3. 차원과 크기 변경: reshape()**"
      ],
      "metadata": {
        "id": "3Jrc0vHq7E9X"
      }
    },
    {
      "cell_type": "markdown",
      "source": [
        "ndarray를 특정 차원 및 크기로 변환합니다."
      ],
      "metadata": {
        "id": "YZ2mPWrlS5g9"
      }
    },
    {
      "cell_type": "markdown",
      "source": [
        "지정된 사이즈로 변경이 불가능하면 오류가 발생합니다."
      ],
      "metadata": {
        "id": "V2KgtItWUhIw"
      }
    },
    {
      "cell_type": "markdown",
      "source": [
        "####배열의 차원 확인(뒤에 괄호 붙이지 않음)\n",
        "\n",
        "~~~\n",
        "배열이름.ndim\n",
        "~~~"
      ],
      "metadata": {
        "id": "n1-iX6KCsu61"
      }
    },
    {
      "cell_type": "code",
      "source": [
        "a1 = np.array([1,2,3,4,5])\n",
        "a2 = np.array([[1,2,3,4,5],[1,2,3,4,5]])\n",
        "a3 = np.array([[[1,2,3],[1,2,3]],[[1,2,3],[1,2,3]],[[1,2,3],[1,2,3]]])\n",
        "print(a1.ndim)\n",
        "print(a2.ndim)\n",
        "print(a3.ndim)"
      ],
      "metadata": {
        "colab": {
          "base_uri": "https://localhost:8080/"
        },
        "id": "wF90XurHO6R3",
        "outputId": "8d4d2f42-dd6e-474a-b93f-90f1ad0b7ffa"
      },
      "execution_count": 31,
      "outputs": [
        {
          "output_type": "stream",
          "name": "stdout",
          "text": [
            "1\n",
            "2\n",
            "3\n"
          ]
        }
      ]
    },
    {
      "cell_type": "code",
      "source": [
        "print(a1.shape)\n",
        "print(a2.shape)\n",
        "print(a3.shape)"
      ],
      "metadata": {
        "colab": {
          "base_uri": "https://localhost:8080/"
        },
        "id": "KScJmkjXP5qn",
        "outputId": "980d91b0-68db-40f2-92cd-f3988e38d3ba"
      },
      "execution_count": 32,
      "outputs": [
        {
          "output_type": "stream",
          "name": "stdout",
          "text": [
            "(5,)\n",
            "(2, 5)\n",
            "(3, 2, 3)\n"
          ]
        }
      ]
    },
    {
      "cell_type": "code",
      "source": [
        "arr1 = np.arange(10)\n",
        "print(arr1)\n",
        "\n",
        "arr2=arr1.reshape(2,5)\n",
        "print(arr2)\n",
        "\n",
        "# arr3=arr1.reshape(3.3)\n",
        "#print(arr3)\n",
        "#요소 사이즈가 같아야 출력이 가능하다."
      ],
      "metadata": {
        "colab": {
          "base_uri": "https://localhost:8080/"
        },
        "id": "rpI5zy0qQJvw",
        "outputId": "44b34921-330c-4107-bbda-4587f8e4609f"
      },
      "execution_count": 34,
      "outputs": [
        {
          "output_type": "stream",
          "name": "stdout",
          "text": [
            "[0 1 2 3 4 5 6 7 8 9]\n",
            "[[0 1 2 3 4]\n",
            " [5 6 7 8 9]]\n"
          ]
        }
      ]
    },
    {
      "cell_type": "markdown",
      "source": [
        "####배열의 크기\n",
        "~~~\n",
        "배열이름.shape\n",
        "~~~"
      ],
      "metadata": {
        "id": "H7nijyNjtHs3"
      }
    },
    {
      "cell_type": "markdown",
      "source": [
        "####배열의 차원 바꾸기\n",
        "~~~\n",
        "배열이름.reshape(행, 열)\n",
        "~~~"
      ],
      "metadata": {
        "id": "LosLOgqwtl2p"
      }
    },
    {
      "cell_type": "markdown",
      "source": [
        "ㅤ"
      ],
      "metadata": {
        "id": "63hp-RG7eikA"
      }
    },
    {
      "cell_type": "markdown",
      "source": [
        "* 행이나 열중 하나의 갯수만 정하고 나머지는 정하기 힘들때\n",
        "행,열 자리에 -1 입력,\n",
        "* reshape(-1, 1)을 이용해 3차원을 2차원으로 2차원을 1차원으로 변경할 수 있습니다."
      ],
      "metadata": {
        "id": "isKQ11_GZUn3"
      }
    },
    {
      "cell_type": "markdown",
      "source": [
        "####행과 열을 바꾸기\n",
        "~~~\n",
        "배열이름.T\n",
        "~~~"
      ],
      "metadata": {
        "id": "rlRG2nj9vKT-"
      }
    },
    {
      "cell_type": "code",
      "source": [
        "arr= np.array([[1,2,3],[4,5,6]])\n",
        "arr"
      ],
      "metadata": {
        "colab": {
          "base_uri": "https://localhost:8080/"
        },
        "id": "X7-DP0mbSmkR",
        "outputId": "73788ab2-3dfb-4a22-d170-f803a25554f1"
      },
      "execution_count": 35,
      "outputs": [
        {
          "output_type": "execute_result",
          "data": {
            "text/plain": [
              "array([[1, 2, 3],\n",
              "       [4, 5, 6]])"
            ]
          },
          "metadata": {},
          "execution_count": 35
        }
      ]
    },
    {
      "cell_type": "code",
      "source": [
        "arr1 = arr.T\n",
        "arr1"
      ],
      "metadata": {
        "colab": {
          "base_uri": "https://localhost:8080/"
        },
        "id": "fWTw42_5SxBv",
        "outputId": "631ec51f-88b4-4cc3-f842-1f5d147ea88b"
      },
      "execution_count": 37,
      "outputs": [
        {
          "output_type": "execute_result",
          "data": {
            "text/plain": [
              "array([[1, 4],\n",
              "       [2, 5],\n",
              "       [3, 6]])"
            ]
          },
          "metadata": {},
          "execution_count": 37
        }
      ]
    },
    {
      "cell_type": "markdown",
      "source": [
        "####배열  연결하기\n",
        "* 같은 행인 배열 연결하기\n",
        "~~~\n",
        "np.hstack([배열1, 배열2])\n",
        "~~~\n",
        "\n",
        "* 같은 열인 배열 연결하기\n",
        "~~~\n",
        "np.vstack([배열1, 배열2])\n",
        "~~~"
      ],
      "metadata": {
        "id": "-2mqVjSCvgdZ"
      }
    },
    {
      "cell_type": "markdown",
      "source": [
        "ㅤ"
      ],
      "metadata": {
        "id": "y7CL5vOdekTB"
      }
    },
    {
      "cell_type": "markdown",
      "source": [
        "## **4. 데이터 세트 선택하기: 인덱싱(Indexing)**"
      ],
      "metadata": {
        "id": "_pJuaw6daHti"
      }
    },
    {
      "cell_type": "markdown",
      "source": [
        "### **1) 단일 값 추출**"
      ],
      "metadata": {
        "id": "Q-6sGHOMahqm"
      }
    },
    {
      "cell_type": "markdown",
      "source": [
        "객체에 해당하는 위치의 인덱스 값을 [ ]안에 입력합니다."
      ],
      "metadata": {
        "id": "8nvenAR5avvr"
      }
    },
    {
      "cell_type": "code",
      "source": [
        "arr=np.arange(1,10)\n",
        "print(arr)\n",
        "print(arr[2])\n",
        "print(arr[-1])\n",
        "print(arr[-2])"
      ],
      "metadata": {
        "colab": {
          "base_uri": "https://localhost:8080/"
        },
        "id": "uGRmezJcTAlh",
        "outputId": "7300832b-a9cf-4d21-da5b-f62ba88b34f4"
      },
      "execution_count": 39,
      "outputs": [
        {
          "output_type": "stream",
          "name": "stdout",
          "text": [
            "[1 2 3 4 5 6 7 8 9]\n",
            "3\n",
            "9\n",
            "8\n"
          ]
        }
      ]
    },
    {
      "cell_type": "markdown",
      "source": [
        "ㅤ"
      ],
      "metadata": {
        "id": "EBDa3i2Del6w"
      }
    },
    {
      "cell_type": "markdown",
      "source": [
        "단일 인덱스를 이용해 데이터값 수정도 가능합니다."
      ],
      "metadata": {
        "id": "qiwc_-mKbnw2"
      }
    },
    {
      "cell_type": "markdown",
      "source": [
        "ㅤ"
      ],
      "metadata": {
        "id": "ZEg2eolUen-Q"
      }
    },
    {
      "cell_type": "code",
      "source": [
        "arr[0] = 10\n",
        "print(arr)"
      ],
      "metadata": {
        "id": "QoZsJq9uTfhf"
      },
      "execution_count": null,
      "outputs": []
    },
    {
      "cell_type": "markdown",
      "source": [
        "다차원에서 단일 값을 추출할 수 있습니다."
      ],
      "metadata": {
        "id": "IFJPRXbHckYA"
      }
    },
    {
      "cell_type": "markdown",
      "source": [
        "ㅤ"
      ],
      "metadata": {
        "id": "oMsktWzQepaw"
      }
    },
    {
      "cell_type": "code",
      "source": [
        "arr2 = arr.reshape(3,3)\n",
        "print(arr2)\n",
        "print(arr2[0,0])\n",
        "print(arr2[0,1])\n",
        "print(arr2[1,1])"
      ],
      "metadata": {
        "colab": {
          "base_uri": "https://localhost:8080/"
        },
        "id": "bIqDUHsETq9P",
        "outputId": "a16a0272-a0c8-4600-afe6-52a6916b8063"
      },
      "execution_count": 44,
      "outputs": [
        {
          "output_type": "stream",
          "name": "stdout",
          "text": [
            "[[1 2 3]\n",
            " [4 5 6]\n",
            " [7 8 9]]\n",
            "1\n",
            "2\n",
            "5\n"
          ]
        }
      ]
    },
    {
      "cell_type": "markdown",
      "source": [
        "ㅤ"
      ],
      "metadata": {
        "id": "svq_rNFAeqXJ"
      }
    },
    {
      "cell_type": "markdown",
      "source": [
        "### **2) 슬라이싱(Slicing)**"
      ],
      "metadata": {
        "id": "jYcrugElkv9d"
      }
    },
    {
      "cell_type": "markdown",
      "source": [
        ": 를 이용하여 연속 데이터를 추출합니다."
      ],
      "metadata": {
        "id": "4hFpTLcEk0dZ"
      }
    },
    {
      "cell_type": "markdown",
      "source": [
        "\n",
        "\n",
        "1.   : 기호 앞에 시작 인덱스를 생략하면 자동으로 맨 처음 인덱스인 0으로 간주합니다.\n",
        "2.   : 기호 뒤에 종료 인덱스를 생략하면 자동으로 맨 마지막 인덱스로 간주합니다.\n",
        "3.   : 기호 앞/뒤에 시작/종료 인덱스를 생략하면 자동으로 맨 처음/맨 마지막 인덱스로 간주합니다.\n",
        "\n"
      ],
      "metadata": {
        "id": "Li2toXC9TdHL"
      }
    },
    {
      "cell_type": "code",
      "source": [
        "arr = np.arange(1,10)\n",
        "print(arr)\n",
        "print(arr[0:2])\n",
        "print(arr[0:])\n",
        "print(arr[3:])"
      ],
      "metadata": {
        "colab": {
          "base_uri": "https://localhost:8080/"
        },
        "id": "b2tHPXb6UVA5",
        "outputId": "5abccb64-3575-459e-8567-427cddfefecb"
      },
      "execution_count": 48,
      "outputs": [
        {
          "output_type": "stream",
          "name": "stdout",
          "text": [
            "[1 2 3 4 5 6 7 8 9]\n",
            "[1 2]\n",
            "[1 2 3 4 5 6 7 8 9]\n",
            "[4 5 6 7 8 9]\n"
          ]
        }
      ]
    },
    {
      "cell_type": "markdown",
      "source": [
        "ㅤ"
      ],
      "metadata": {
        "id": "x1NAeDuoerzy"
      }
    },
    {
      "cell_type": "markdown",
      "source": [
        "2차원 ndarray에서 슬라이싱으로 데이터에 접근할 때는 콤마(,)로 행과 열 인덱스를 지칭합니다."
      ],
      "metadata": {
        "id": "6wFckcFjUjD5"
      }
    },
    {
      "cell_type": "code",
      "source": [
        "arr2 = arr.reshape(3,3)\n",
        "print(arr2)\n",
        "print('--------')\n",
        "print(arr2[0:2])"
      ],
      "metadata": {
        "colab": {
          "base_uri": "https://localhost:8080/"
        },
        "id": "0SGrD9CUU6vA",
        "outputId": "9244aa90-7b5a-47b9-dbc8-e6ac0b5890ff"
      },
      "execution_count": 49,
      "outputs": [
        {
          "output_type": "stream",
          "name": "stdout",
          "text": [
            "[[1 2 3]\n",
            " [4 5 6]\n",
            " [7 8 9]]\n",
            "--------\n",
            "[[1 2 3]\n",
            " [4 5 6]]\n"
          ]
        }
      ]
    },
    {
      "cell_type": "markdown",
      "source": [
        "ㅤ"
      ],
      "metadata": {
        "id": "CinHnQ14es4b"
      }
    },
    {
      "cell_type": "markdown",
      "source": [
        "2차원 배열안에 있는 1차원 배열들 중에서 0번째와 1번째 배열을 가져옵니다."
      ],
      "metadata": {
        "id": "MH98R8EOkpeG"
      }
    },
    {
      "cell_type": "markdown",
      "source": [
        "ㅤ"
      ],
      "metadata": {
        "id": "r9zVm6xOet-N"
      }
    },
    {
      "cell_type": "markdown",
      "source": [
        "2차원 배열안에 있는 1차원 배열들 중에서 0번째부터 2번째까지 가져오고 가져온 1차원 배열 안에서 1번째부터 2번째까지 가져옵니다."
      ],
      "metadata": {
        "id": "td--N5fEk7JN"
      }
    },
    {
      "cell_type": "markdown",
      "source": [
        "ㅤ"
      ],
      "metadata": {
        "id": "SxeucqAoevY2"
      }
    },
    {
      "cell_type": "markdown",
      "source": [
        "2차원 배열안에 있는 1차원 배열들 중에서 1번째부터 맨 마지막번째까지 가져오고 가져온 1차원 배열안에서 맨 처음부터 1번째까지 가져옵니다."
      ],
      "metadata": {
        "id": "ULux28Eylfy0"
      }
    },
    {
      "cell_type": "markdown",
      "source": [
        "ㅤ"
      ],
      "metadata": {
        "id": "2Vs3jakrewoj"
      }
    },
    {
      "cell_type": "markdown",
      "source": [
        "2차원 배열안에 있는 1차원 배열들 중에서 0번째부터 2번째까지 가져오고 가져온 1차원 배열안에서 0번째까지 가져옵니다."
      ],
      "metadata": {
        "id": "p6RSg6w8mNYd"
      }
    },
    {
      "cell_type": "markdown",
      "source": [
        "ㅤ"
      ],
      "metadata": {
        "id": "LKcq9Wjnexh7"
      }
    },
    {
      "cell_type": "markdown",
      "source": [
        "### **3) 팬시 인덱싱**\n",
        "\n",
        "\n",
        "\n"
      ],
      "metadata": {
        "id": "BAnhYHvNmdg_"
      }
    },
    {
      "cell_type": "markdown",
      "source": [
        "리스트나 ndarray로 인덱스 집합을 지정하면 해당 위치의 인덱스에 해당하는 ndarray를 반환합니다."
      ],
      "metadata": {
        "id": "V_57eKJimyUu"
      }
    },
    {
      "cell_type": "markdown",
      "source": [
        "ㅤ"
      ],
      "metadata": {
        "id": "aO5JYHxKeyls"
      }
    },
    {
      "cell_type": "markdown",
      "source": [
        "### **4) 불린 인덱싱**"
      ],
      "metadata": {
        "id": "irvxDJMFoBJP"
      }
    },
    {
      "cell_type": "markdown",
      "source": [
        "조건 필터링과 검색을 동시에 할 수 있기 때문에 매우 자주 사용됩니다."
      ],
      "metadata": {
        "id": "ZuF31bqyoG-r"
      }
    },
    {
      "cell_type": "markdown",
      "source": [
        "* 1차원 불리언 배열 인덱싱\n",
        "--  [ ]대괄호안에 숫자나, 범위를 넣어주는것이 아니라 Boolean을 넣어줌\n",
        "-- Boolean은 True(1) , False(0)으로 만 이루어져있는 자료형\n",
        "-- 불리언 인덱싱을 사용할때 주의할점은 불리언배열과 인덱싱할배열이 같은 크기여야"
      ],
      "metadata": {
        "id": "mTnpbH1w5ZgI"
      }
    },
    {
      "cell_type": "markdown",
      "source": [
        "ㅤ"
      ],
      "metadata": {
        "id": "ORJAO10PezkI"
      }
    },
    {
      "cell_type": "code",
      "source": [
        "a = [1,2]\n",
        "b = [1,2]\n",
        "\n",
        "print(a==b)\n",
        "print(a is b)\n",
        "print(id(a),id(b))"
      ],
      "metadata": {
        "colab": {
          "base_uri": "https://localhost:8080/"
        },
        "id": "qOBqbKFHVYTY",
        "outputId": "0fea1b7f-3af3-4fe6-96d5-bbc249538f0d"
      },
      "execution_count": 51,
      "outputs": [
        {
          "output_type": "stream",
          "name": "stdout",
          "text": [
            "True\n",
            "False\n",
            "132616817178496 132616816424128\n"
          ]
        }
      ]
    },
    {
      "cell_type": "code",
      "source": [
        "arr=np.array([0,1,2,3,4,5])\n",
        "arr2=np.array([False,True,False,True,False,True])\n",
        "arr[arr2]"
      ],
      "metadata": {
        "colab": {
          "base_uri": "https://localhost:8080/"
        },
        "id": "3YNGz_NtVuUH",
        "outputId": "848e5cea-3884-47d8-a9a1-070ee5628f79"
      },
      "execution_count": 52,
      "outputs": [
        {
          "output_type": "execute_result",
          "data": {
            "text/plain": [
              "array([1, 3, 5])"
            ]
          },
          "metadata": {},
          "execution_count": 52
        }
      ]
    },
    {
      "cell_type": "code",
      "source": [
        "boolean = arr[arr>3]\n",
        "print(boolean)"
      ],
      "metadata": {
        "colab": {
          "base_uri": "https://localhost:8080/"
        },
        "id": "yh-G2jAwWMbQ",
        "outputId": "ee126e34-bc19-477a-f09b-e7803be68d88"
      },
      "execution_count": 53,
      "outputs": [
        {
          "output_type": "stream",
          "name": "stdout",
          "text": [
            "[4 5]\n"
          ]
        }
      ]
    },
    {
      "cell_type": "code",
      "source": [
        "boolean = arr[(arr>3) & (arr%2 ==0)]\n",
        "print(boolean)"
      ],
      "metadata": {
        "colab": {
          "base_uri": "https://localhost:8080/"
        },
        "id": "-hafYlF7WZOR",
        "outputId": "cc0199fb-eaf9-4c71-8e95-d45f5e65cf8e"
      },
      "execution_count": 55,
      "outputs": [
        {
          "output_type": "stream",
          "name": "stdout",
          "text": [
            "[4]\n"
          ]
        }
      ]
    },
    {
      "cell_type": "markdown",
      "source": [
        "## **5. 행렬의 정렬  - sort()와 argsort()**"
      ],
      "metadata": {
        "id": "IEVa5mmGq3gv"
      }
    },
    {
      "cell_type": "markdown",
      "source": [
        "### **1) 행렬 정렬**"
      ],
      "metadata": {
        "id": "JaPabgJoq8GA"
      }
    },
    {
      "cell_type": "markdown",
      "source": [
        "\n",
        "\n",
        "*   np.sort() : 원본 행렬은 그대로 유지한 채 원 행렬의 정렬된 행렬을 반환합니다.\n",
        "*   ndarray.sort() : 원본 행렬 자체를 정렬합니다. 반환 값은 None 입니다.\n",
        "\n"
      ],
      "metadata": {
        "id": "yArKtZtsrHyF"
      }
    },
    {
      "cell_type": "code",
      "source": [
        "org_arr = np.array([4,2,8,6])\n",
        "print(org_arr)\n",
        "print(np.sort(org_arr))  #원본 값이 변경 되지 않음\n",
        "print(org_arr.sort())    #반환 값 없음\n",
        "print(org_arr)           #원본 자체를 정렬, 값을 바꿈"
      ],
      "metadata": {
        "colab": {
          "base_uri": "https://localhost:8080/"
        },
        "id": "cNRYbQxQW23w",
        "outputId": "f383117c-47a0-46a2-bbea-93f80e734f01"
      },
      "execution_count": 61,
      "outputs": [
        {
          "output_type": "stream",
          "name": "stdout",
          "text": [
            "[4 2 8 6]\n",
            "[2 4 6 8]\n",
            "None\n",
            "[2 4 6 8]\n"
          ]
        }
      ]
    },
    {
      "cell_type": "markdown",
      "source": [
        "ㅤ"
      ],
      "metadata": {
        "id": "lhIsN_Dfe0l7"
      }
    },
    {
      "cell_type": "markdown",
      "source": [
        "내림차순으로 반환하기 위해서는 np.sort에서 다음과 같이 [::-1]을 붙여줍니다."
      ],
      "metadata": {
        "id": "u_xfeiGhtSR2"
      }
    },
    {
      "cell_type": "code",
      "source": [
        "print(np.sort(org_arr)[::-1])"
      ],
      "metadata": {
        "colab": {
          "base_uri": "https://localhost:8080/"
        },
        "id": "RExYgsEUXwvo",
        "outputId": "462be4ba-135f-48c1-d0a4-217410ad3ddd"
      },
      "execution_count": 62,
      "outputs": [
        {
          "output_type": "stream",
          "name": "stdout",
          "text": [
            "[8 6 4 2]\n"
          ]
        }
      ]
    },
    {
      "cell_type": "markdown",
      "source": [],
      "metadata": {
        "id": "oLhZlmdaW1QO"
      }
    },
    {
      "cell_type": "markdown",
      "source": [
        "ㅤ"
      ],
      "metadata": {
        "id": "aqYuHFBxe1pz"
      }
    },
    {
      "cell_type": "markdown",
      "source": [
        "2차원 배열은 axis 축 값 설정을 통해 행열 정렬을 수행합니다.\n",
        "\n",
        "*   axis = 0 : 행 방향\n",
        "*   axis = 1 : 열 방향\n",
        "* 오름차순 :\n",
        "-- 2차원배열 행기준 : np.sort(배열, axis=0)\n",
        "-- 2차원배열 열기준 : np.sort(배열, axis=1)\n",
        "* 내림차순 :\n",
        "-- 행기준 : np.sort(배열, axis=0)[::-1]\n",
        "-- 열기준 : np.sort(배열, axis=1)[::-1]\n",
        "\n",
        "\n"
      ],
      "metadata": {
        "id": "NfcC_3HOt9-3"
      }
    },
    {
      "cell_type": "markdown",
      "source": [
        "ㅤ"
      ],
      "metadata": {
        "id": "sb89CKsme2o9"
      }
    },
    {
      "cell_type": "markdown",
      "source": [
        "### **2) np.argsort() : 정렬된 행렬의 인덱스를 반환하기**"
      ],
      "metadata": {
        "id": "xfp0IkmJvjzO"
      }
    },
    {
      "cell_type": "code",
      "source": [
        "print(np.argsort(org_arr)[::-1])"
      ],
      "metadata": {
        "colab": {
          "base_uri": "https://localhost:8080/"
        },
        "id": "QQusXUdHYFRp",
        "outputId": "4be40f95-4749-4234-92a8-0d3fad1fefc0"
      },
      "execution_count": 65,
      "outputs": [
        {
          "output_type": "stream",
          "name": "stdout",
          "text": [
            "[3 2 1 0]\n"
          ]
        }
      ]
    },
    {
      "cell_type": "markdown",
      "source": [
        "argsort()는 넘파이에서 매우 활용도가 높습니다."
      ],
      "metadata": {
        "id": "CC7vy0rmwotV"
      }
    },
    {
      "cell_type": "markdown",
      "source": [
        "ㅤ"
      ],
      "metadata": {
        "id": "HeNdp4V8e3wy"
      }
    },
    {
      "cell_type": "markdown",
      "source": [
        "np.argsort 역시 np.sort와 마찬가지로 내림차순 반환이 가능합니다."
      ],
      "metadata": {
        "id": "SS_5afeBwVXf"
      }
    },
    {
      "cell_type": "markdown",
      "source": [
        "ㅤ"
      ],
      "metadata": {
        "id": "CZbPxd9ze47K"
      }
    },
    {
      "cell_type": "markdown",
      "source": [
        "## **7. 배열 간 사칙연산**"
      ],
      "metadata": {
        "id": "bHvEmmTy_NQi"
      }
    },
    {
      "cell_type": "markdown",
      "source": [
        "동일한 모양의 두 배열을 사칙연산합니다.(배열 두개만 가능)\n",
        "* 두 배열 더하기 : np.add(배열1, 배열2)\n",
        "* 두 배열 빼기 : np.subtract(배열1, 배열2)\n",
        "* 두 배열 곱하기 : np.multiply(배열1, 배열2)\n",
        "* 두 배열 나누기 : np.divide(배열1, 배열2)"
      ],
      "metadata": {
        "id": "tkw_sFCu_S3v"
      }
    },
    {
      "cell_type": "markdown",
      "source": [
        "배열 내 같은 위치의 원소끼리 연산을 합니다."
      ],
      "metadata": {
        "id": "_ukpSUFl_y2O"
      }
    },
    {
      "cell_type": "markdown",
      "source": [
        "* == 사용해서 같은 값인지 비교"
      ],
      "metadata": {
        "id": "QvmlPe0sylIE"
      }
    },
    {
      "cell_type": "markdown",
      "source": [
        "배열 비교해 최대값과 최소값을 찾기  ※ 배열두개만 가능\n",
        "* 두 배열중 최대값 : np.maximum(배열1, 배열2)\n",
        "* 두 배열중 최소값 : np.minimum(배열1, 배열2)"
      ],
      "metadata": {
        "id": "MeL2Yq2gzWoA"
      }
    },
    {
      "cell_type": "markdown",
      "source": [
        "ㅤ"
      ],
      "metadata": {
        "id": "QvHQQCRae8vK"
      }
    },
    {
      "cell_type": "markdown",
      "source": [
        "## **8. Broadcasting**"
      ],
      "metadata": {
        "id": "_4EstB5J_8Xo"
      }
    },
    {
      "cell_type": "markdown",
      "source": [
        "배열과 1개의 숫자를 사칙 연산합니다."
      ],
      "metadata": {
        "id": "zKpD4G62AC3_"
      }
    },
    {
      "cell_type": "code",
      "source": [
        "print(a)\n",
        "print(a+13)\n",
        "print(a*13)"
      ],
      "metadata": {
        "colab": {
          "base_uri": "https://localhost:8080/",
          "height": 237
        },
        "id": "vntiJTzZaJJ4",
        "outputId": "cbb06bf9-4d04-49c2-b977-7c11bf1b5cb6"
      },
      "execution_count": 66,
      "outputs": [
        {
          "output_type": "stream",
          "name": "stdout",
          "text": [
            "[1, 2]\n"
          ]
        },
        {
          "output_type": "error",
          "ename": "TypeError",
          "evalue": "ignored",
          "traceback": [
            "\u001b[0;31m---------------------------------------------------------------------------\u001b[0m",
            "\u001b[0;31mTypeError\u001b[0m                                 Traceback (most recent call last)",
            "\u001b[0;32m<ipython-input-66-3ebbaef27525>\u001b[0m in \u001b[0;36m<cell line: 2>\u001b[0;34m()\u001b[0m\n\u001b[1;32m      1\u001b[0m \u001b[0mprint\u001b[0m\u001b[0;34m(\u001b[0m\u001b[0ma\u001b[0m\u001b[0;34m)\u001b[0m\u001b[0;34m\u001b[0m\u001b[0;34m\u001b[0m\u001b[0m\n\u001b[0;32m----> 2\u001b[0;31m \u001b[0mprint\u001b[0m\u001b[0;34m(\u001b[0m\u001b[0ma\u001b[0m\u001b[0;34m+\u001b[0m\u001b[0;36m13\u001b[0m\u001b[0;34m)\u001b[0m\u001b[0;34m\u001b[0m\u001b[0;34m\u001b[0m\u001b[0m\n\u001b[0m\u001b[1;32m      3\u001b[0m \u001b[0mprint\u001b[0m\u001b[0;34m(\u001b[0m\u001b[0ma\u001b[0m\u001b[0;34m*\u001b[0m\u001b[0;36m13\u001b[0m\u001b[0;34m)\u001b[0m\u001b[0;34m\u001b[0m\u001b[0;34m\u001b[0m\u001b[0m\n",
            "\u001b[0;31mTypeError\u001b[0m: can only concatenate list (not \"int\") to list"
          ]
        }
      ]
    },
    {
      "cell_type": "markdown",
      "source": [
        "ㅤ"
      ],
      "metadata": {
        "id": "s6iJZo5he9zp"
      }
    },
    {
      "cell_type": "markdown",
      "source": [
        "같은 수의 행과 열을 가진 여러 개의 배열을 연산할 수도 있습니다."
      ],
      "metadata": {
        "id": "fKulZx_KPHKs"
      }
    },
    {
      "cell_type": "code",
      "source": [
        "a1 = np.array([[1,2,3],[4,5,6],[7,8,9]])\n",
        "a2 = np.array([[[1,2,3],[[1,2,3],[[1,2,3]])\n",
        "a2 = np.array([])"
      ],
      "metadata": {
        "id": "G4aMTL5KaaK3"
      },
      "execution_count": null,
      "outputs": []
    },
    {
      "cell_type": "markdown",
      "source": [
        "ㅤ"
      ],
      "metadata": {
        "id": "Hg3cu1y4e-3z"
      }
    },
    {
      "cell_type": "markdown",
      "source": [
        "다른 형태의 배열끼리도 연산이 가능합니다."
      ],
      "metadata": {
        "id": "MaRNmHiYly6z"
      }
    },
    {
      "cell_type": "markdown",
      "source": [
        "ㅤ"
      ],
      "metadata": {
        "id": "eAKtLnFDfAUw"
      }
    },
    {
      "cell_type": "markdown",
      "source": [
        "## **9. 집계(Aggregation)**"
      ],
      "metadata": {
        "id": "DTvFnzXVBLvR"
      }
    },
    {
      "cell_type": "markdown",
      "source": [
        "### **1) 합계**"
      ],
      "metadata": {
        "id": "EgraYbRcK2gn"
      }
    },
    {
      "cell_type": "markdown",
      "source": [
        "배열의 합계는 .sum() 을 이용합니다."
      ],
      "metadata": {
        "id": "57yTlUOwLL0h"
      }
    },
    {
      "cell_type": "code",
      "source": [
        "a= np.array([1,2,3,4,5])\n",
        "\n",
        "print(a.sum())"
      ],
      "metadata": {
        "colab": {
          "base_uri": "https://localhost:8080/"
        },
        "id": "uaIRhBmlbEX4",
        "outputId": "0fc344f0-ace1-490b-a0e0-77d828725b86"
      },
      "execution_count": 67,
      "outputs": [
        {
          "output_type": "stream",
          "name": "stdout",
          "text": [
            "15\n"
          ]
        }
      ]
    },
    {
      "cell_type": "markdown",
      "source": [
        "누적합계는 .numsum() 이용"
      ],
      "metadata": {
        "id": "QnsYporrzrWb"
      }
    },
    {
      "cell_type": "markdown",
      "source": [
        "ㅤ"
      ],
      "metadata": {
        "id": "Mp16gTO-fBuF"
      }
    },
    {
      "cell_type": "code",
      "source": [
        "print(a.cumsum())"
      ],
      "metadata": {
        "colab": {
          "base_uri": "https://localhost:8080/"
        },
        "id": "PhjUinPpbMr4",
        "outputId": "c3e08718-2ae7-474a-d096-da868209213d"
      },
      "execution_count": 68,
      "outputs": [
        {
          "output_type": "stream",
          "name": "stdout",
          "text": [
            "[ 1  3  6 10 15]\n"
          ]
        }
      ]
    },
    {
      "cell_type": "markdown",
      "source": [
        "축을 설정하여 열 방향 혹은 행 방향으로만 더할 수 있습니다."
      ],
      "metadata": {
        "id": "E9fhAlObNdok"
      }
    },
    {
      "cell_type": "code",
      "source": [
        "print(a.sum(axis=0))\n",
        "# print(a.sum(axis=1))"
      ],
      "metadata": {
        "colab": {
          "base_uri": "https://localhost:8080/"
        },
        "id": "qWieDJZ9bcGH",
        "outputId": "6066dd2a-c1d3-41b2-baa7-981fb3cd865f"
      },
      "execution_count": 70,
      "outputs": [
        {
          "output_type": "stream",
          "name": "stdout",
          "text": [
            "15\n"
          ]
        }
      ]
    },
    {
      "cell_type": "markdown",
      "source": [
        "ㅤ"
      ],
      "metadata": {
        "id": "lDR8pwNYfCy_"
      }
    },
    {
      "cell_type": "markdown",
      "source": [
        "### **2) 평균**"
      ],
      "metadata": {
        "id": "Nv9Abig2LPRI"
      }
    },
    {
      "cell_type": "markdown",
      "source": [
        "배열의 평균은 .mean()을 이용합니다."
      ],
      "metadata": {
        "id": "0Mhac27qLRgV"
      }
    },
    {
      "cell_type": "code",
      "source": [
        "print(a.mean())"
      ],
      "metadata": {
        "colab": {
          "base_uri": "https://localhost:8080/"
        },
        "id": "v4s_XYkjbuSw",
        "outputId": "ebcaef6c-0c1b-4833-d376-4dfae79b5bd8"
      },
      "execution_count": 71,
      "outputs": [
        {
          "output_type": "stream",
          "name": "stdout",
          "text": [
            "3.0\n"
          ]
        }
      ]
    },
    {
      "cell_type": "markdown",
      "source": [
        "ㅤ"
      ],
      "metadata": {
        "id": "PCBp41LJfD3D"
      }
    },
    {
      "cell_type": "markdown",
      "source": [
        "### **3) 곱셈**"
      ],
      "metadata": {
        "id": "nZcdAgGMLewX"
      }
    },
    {
      "cell_type": "markdown",
      "source": [
        "배열의 곱샘은 .prod()을 이용합니다."
      ],
      "metadata": {
        "id": "digCTvQ2LjeD"
      }
    },
    {
      "cell_type": "code",
      "source": [
        "print(a.prod())"
      ],
      "metadata": {
        "colab": {
          "base_uri": "https://localhost:8080/"
        },
        "id": "xhIOfevHb0YJ",
        "outputId": "ae1a90b2-8f98-459b-a656-96ac8f6b8641"
      },
      "execution_count": 72,
      "outputs": [
        {
          "output_type": "stream",
          "name": "stdout",
          "text": [
            "120\n"
          ]
        }
      ]
    },
    {
      "cell_type": "markdown",
      "source": [
        "누적 곱셉은 .cumprod()"
      ],
      "metadata": {
        "id": "utSvKxqd0knz"
      }
    },
    {
      "cell_type": "code",
      "source": [
        "print(a.cumprod())"
      ],
      "metadata": {
        "colab": {
          "base_uri": "https://localhost:8080/"
        },
        "id": "3V7PJDA9b3kD",
        "outputId": "d7c5196e-e260-4b46-e5ea-20dc438912fc"
      },
      "execution_count": 73,
      "outputs": [
        {
          "output_type": "stream",
          "name": "stdout",
          "text": [
            "[  1   2   6  24 120]\n"
          ]
        }
      ]
    },
    {
      "cell_type": "markdown",
      "source": [
        "ㅤ"
      ],
      "metadata": {
        "id": "pBUcYBXsfEvX"
      }
    },
    {
      "cell_type": "markdown",
      "source": [
        "### **4) 최댓값과 최솟값**"
      ],
      "metadata": {
        "id": "Mj1QkSBsL0XQ"
      }
    },
    {
      "cell_type": "markdown",
      "source": [
        "최댓값과 최솟값은 각각 .max()와 .min()을 이용합니다."
      ],
      "metadata": {
        "id": "lyoxn1ubL3Y7"
      }
    },
    {
      "cell_type": "code",
      "source": [
        "print(a.max())\n",
        "print(a.min())"
      ],
      "metadata": {
        "colab": {
          "base_uri": "https://localhost:8080/"
        },
        "id": "mcvhmWVrb8-w",
        "outputId": "6d61c8ec-a240-4028-af2d-39104cc0d03f"
      },
      "execution_count": 74,
      "outputs": [
        {
          "output_type": "stream",
          "name": "stdout",
          "text": [
            "5\n",
            "1\n"
          ]
        }
      ]
    },
    {
      "cell_type": "markdown",
      "source": [
        "ㅤ"
      ],
      "metadata": {
        "id": "qSLd8609fFmB"
      }
    },
    {
      "cell_type": "markdown",
      "source": [
        "인덱싱으로 해당 열의 최댓값과 최솟값을 구할 수도 있습니다."
      ],
      "metadata": {
        "id": "li9o2_7JOE-A"
      }
    },
    {
      "cell_type": "markdown",
      "source": [
        "ㅤ"
      ],
      "metadata": {
        "id": "rFZnftCmfGlD"
      }
    },
    {
      "cell_type": "markdown",
      "source": [
        ".argmax()와 .argmin()을 이용하여 배열에서 최댓값인 원소의 인덱스 번호와 최솟값인 원소의 인덱스 번호를 구할 수 있습니다."
      ],
      "metadata": {
        "id": "sWO9DklxMkhP"
      }
    },
    {
      "cell_type": "markdown",
      "source": [
        "ㅤ"
      ],
      "metadata": {
        "id": "jj5jpdqLfHff"
      }
    },
    {
      "cell_type": "markdown",
      "source": [
        "### **5) 표준편차와 분산**"
      ],
      "metadata": {
        "id": "M1X5SCCzMB4u"
      }
    },
    {
      "cell_type": "markdown",
      "source": [
        "표준편차와 분산은 각각 .std()와 .var()을 이용합니다.\n",
        "* 분산 : 값들이 퍼져있는 정도 내가 만든범위(배열)에서 값들이 얼마나 퍼져있는지.\n",
        "* 예를들면 1,2,3의 분산과 100,101,102의 분산은 같음.\n",
        "* 수의 절대적인 크기가 아닌 내가 정한 범위안에서 이값들이 퍼져있는 정도\n",
        "* 표준편차 : 분산의 수치가 커서 제곱근으로 적당하게 줄인 값"
      ],
      "metadata": {
        "id": "47jr4du5MHYj"
      }
    },
    {
      "cell_type": "code",
      "source": [
        "print(a.std())\n",
        "print(a.var())"
      ],
      "metadata": {
        "colab": {
          "base_uri": "https://localhost:8080/"
        },
        "id": "5pbP6IrYcNCJ",
        "outputId": "4b34be7f-5d6f-4249-e9b2-3379960a9f8e"
      },
      "execution_count": 75,
      "outputs": [
        {
          "output_type": "stream",
          "name": "stdout",
          "text": [
            "1.4142135623730951\n",
            "2.0\n"
          ]
        }
      ]
    },
    {
      "cell_type": "markdown",
      "source": [
        "### **6) 중복제거**\n",
        " .unique()\n"
      ],
      "metadata": {
        "id": "TXQ8k8eR1vYN"
      }
    },
    {
      "cell_type": "markdown",
      "source": [
        "\n",
        "---\n",
        "\n",
        "\n"
      ],
      "metadata": {
        "id": "tDzxC1xqVLfV"
      }
    },
    {
      "cell_type": "code",
      "source": [
        "a=np.array([1,2,1,2,3,4,5,6,6,10,10])\n",
        "\n",
        "print(np.unique(a))"
      ],
      "metadata": {
        "colab": {
          "base_uri": "https://localhost:8080/"
        },
        "id": "oeyu4pqEcYMW",
        "outputId": "0b82b316-c62b-4aed-f7e2-324846f87839"
      },
      "execution_count": 76,
      "outputs": [
        {
          "output_type": "stream",
          "name": "stdout",
          "text": [
            "[ 1  2  3  4  5  6 10]\n"
          ]
        }
      ]
    },
    {
      "cell_type": "markdown",
      "source": [
        "배열간 연산과 인덱싱, 슬라이싱은 Pandas와 함께 데이터 병합과 전처리를 진행할 때 유용하게 쓰이는 방법"
      ],
      "metadata": {
        "id": "sNuymI0mRm_x"
      }
    }
  ]
}