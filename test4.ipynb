{
  "nbformat": 4,
  "nbformat_minor": 0,
  "metadata": {
    "colab": {
      "provenance": [],
      "toc_visible": true,
      "authorship_tag": "ABX9TyOieWwUr2E/EeoUod04lcOY",
      "include_colab_link": true
    },
    "kernelspec": {
      "name": "python3",
      "display_name": "Python 3"
    },
    "language_info": {
      "name": "python"
    }
  },
  "cells": [
    {
      "cell_type": "markdown",
      "metadata": {
        "id": "view-in-github",
        "colab_type": "text"
      },
      "source": [
        "<a href=\"https://colab.research.google.com/github/seunghokimsj/bioinfomatics2/blob/main/test4.ipynb\" target=\"_parent\"><img src=\"https://colab.research.google.com/assets/colab-badge.svg\" alt=\"Open In Colab\"/></a>"
      ]
    },
    {
      "cell_type": "markdown",
      "source": [
        "# 나의 네 번째 파이썬 코드\n",
        "## 코랩에서 작성된 코드\n",
        "### 간단한 사칙연산 출력\n",
        "\n",
        "코랩에서 텍스트 작성방법을 설명하고 있습니다.\n",
        "\n",
        "\n"
      ],
      "metadata": {
        "id": "Dtzi9Y-99wIJ"
      }
    },
    {
      "cell_type": "code",
      "execution_count": 1,
      "metadata": {
        "colab": {
          "base_uri": "https://localhost:8080/"
        },
        "id": "aAWDDl0R9ck1",
        "outputId": "4e985b9a-675f-45cb-e9b1-d951f2179901"
      },
      "outputs": [
        {
          "output_type": "stream",
          "name": "stdout",
          "text": [
            "600\n",
            "-400\n",
            "50000\n",
            "0.2\n"
          ]
        }
      ],
      "source": [
        "print(100+500)\n",
        "print(100-500)\n",
        "print(100*500)\n",
        "print(100/500)"
      ]
    },
    {
      "cell_type": "code",
      "source": [
        "import sys\n",
        "\n",
        "print('나의 네 번째 파이썬 프로그램!')\n",
        "print(sys.version)\n"
      ],
      "metadata": {
        "colab": {
          "base_uri": "https://localhost:8080/"
        },
        "id": "MBTNZdk3-1bh",
        "outputId": "2f8a9f60-b73b-4785-b8ed-d48b84840818"
      },
      "execution_count": 2,
      "outputs": [
        {
          "output_type": "stream",
          "name": "stdout",
          "text": [
            "나의 네 번째 파이썬 프로그램!\n",
            "3.10.12 (main, Jun 11 2023, 05:26:28) [GCC 11.4.0]\n"
          ]
        }
      ]
    }
  ]
}